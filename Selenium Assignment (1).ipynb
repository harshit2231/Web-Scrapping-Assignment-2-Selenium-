{
 "cells": [
  {
   "cell_type": "code",
   "execution_count": 1,
   "id": "f2eabdbf",
   "metadata": {},
   "outputs": [
    {
     "name": "stdout",
     "output_type": "stream",
     "text": [
      "Requirement already satisfied: selenium in c:\\users\\harshit gupta\\anaconda3\\lib\\site-packages (4.3.0)\n",
      "Requirement already satisfied: urllib3[secure,socks]~=1.26 in c:\\users\\harshit gupta\\anaconda3\\lib\\site-packages (from selenium) (1.26.7)\n",
      "Requirement already satisfied: trio~=0.17 in c:\\users\\harshit gupta\\anaconda3\\lib\\site-packages (from selenium) (0.21.0)\n",
      "Requirement already satisfied: trio-websocket~=0.9 in c:\\users\\harshit gupta\\anaconda3\\lib\\site-packages (from selenium) (0.9.2)\n",
      "Requirement already satisfied: idna in c:\\users\\harshit gupta\\anaconda3\\lib\\site-packages (from trio~=0.17->selenium) (3.2)\n",
      "Requirement already satisfied: cffi>=1.14 in c:\\users\\harshit gupta\\anaconda3\\lib\\site-packages (from trio~=0.17->selenium) (1.14.6)\n",
      "Requirement already satisfied: async-generator>=1.9 in c:\\users\\harshit gupta\\anaconda3\\lib\\site-packages (from trio~=0.17->selenium) (1.10)\n",
      "Requirement already satisfied: sniffio in c:\\users\\harshit gupta\\anaconda3\\lib\\site-packages (from trio~=0.17->selenium) (1.2.0)\n",
      "Requirement already satisfied: sortedcontainers in c:\\users\\harshit gupta\\anaconda3\\lib\\site-packages (from trio~=0.17->selenium) (2.4.0)\n",
      "Requirement already satisfied: outcome in c:\\users\\harshit gupta\\anaconda3\\lib\\site-packages (from trio~=0.17->selenium) (1.2.0)\n",
      "Requirement already satisfied: attrs>=19.2.0 in c:\\users\\harshit gupta\\anaconda3\\lib\\site-packages (from trio~=0.17->selenium) (21.2.0)\n",
      "Requirement already satisfied: pycparser in c:\\users\\harshit gupta\\anaconda3\\lib\\site-packages (from cffi>=1.14->trio~=0.17->selenium) (2.20)\n",
      "Requirement already satisfied: wsproto>=0.14 in c:\\users\\harshit gupta\\anaconda3\\lib\\site-packages (from trio-websocket~=0.9->selenium) (1.1.0)\n",
      "Requirement already satisfied: PySocks!=1.5.7,<2.0,>=1.5.6 in c:\\users\\harshit gupta\\anaconda3\\lib\\site-packages (from urllib3[secure,socks]~=1.26->selenium) (1.7.1)\n",
      "Requirement already satisfied: pyOpenSSL>=0.14 in c:\\users\\harshit gupta\\anaconda3\\lib\\site-packages (from urllib3[secure,socks]~=1.26->selenium) (21.0.0)\n",
      "Requirement already satisfied: cryptography>=1.3.4 in c:\\users\\harshit gupta\\anaconda3\\lib\\site-packages (from urllib3[secure,socks]~=1.26->selenium) (3.4.8)\n",
      "Requirement already satisfied: certifi in c:\\users\\harshit gupta\\anaconda3\\lib\\site-packages (from urllib3[secure,socks]~=1.26->selenium) (2021.10.8)\n",
      "Requirement already satisfied: six>=1.5.2 in c:\\users\\harshit gupta\\anaconda3\\lib\\site-packages (from pyOpenSSL>=0.14->urllib3[secure,socks]~=1.26->selenium) (1.16.0)\n",
      "Requirement already satisfied: h11<1,>=0.9.0 in c:\\users\\harshit gupta\\anaconda3\\lib\\site-packages (from wsproto>=0.14->trio-websocket~=0.9->selenium) (0.13.0)\n"
     ]
    }
   ],
   "source": [
    "!pip install selenium"
   ]
  },
  {
   "cell_type": "code",
   "execution_count": 224,
   "id": "5cb7f568",
   "metadata": {},
   "outputs": [],
   "source": [
    "import selenium\n",
    "from selenium import webdriver\n",
    "import pandas as pd\n",
    "import warnings\n",
    "warnings.filterwarnings(\"ignore\")\n",
    "from selenium.webdriver.common.by import By"
   ]
  },
  {
   "cell_type": "code",
   "execution_count": 8,
   "id": "f6305042",
   "metadata": {},
   "outputs": [],
   "source": [
    "driver = webdriver.Chrome(r'C:\\Users\\Harshit Gupta\\Downloads\\chromedriver.exe')"
   ]
  },
  {
   "cell_type": "code",
   "execution_count": 9,
   "id": "bec7cd8c",
   "metadata": {},
   "outputs": [],
   "source": [
    "url = \"https://www.naukri.com/\"\n",
    "driver.get(url)"
   ]
  },
  {
   "cell_type": "code",
   "execution_count": 10,
   "id": "692184a1",
   "metadata": {},
   "outputs": [
    {
     "data": {
      "text/plain": [
       "<selenium.webdriver.remote.webelement.WebElement (session=\"deca552c3293be72ce3ec475ceda7bf6\", element=\"242a618a-66a0-4137-a3b1-55b51b0c1a95\")>"
      ]
     },
     "execution_count": 10,
     "metadata": {},
     "output_type": "execute_result"
    }
   ],
   "source": [
    "search_job = driver.find_element(By.CLASS_NAME,\"suggestor-input\")\n",
    "search_job"
   ]
  },
  {
   "cell_type": "code",
   "execution_count": 11,
   "id": "6dc09b5a",
   "metadata": {},
   "outputs": [],
   "source": [
    "search_job.send_keys(\"Data Analyst\")"
   ]
  },
  {
   "cell_type": "code",
   "execution_count": 12,
   "id": "85d4810f",
   "metadata": {},
   "outputs": [
    {
     "data": {
      "text/plain": [
       "<selenium.webdriver.remote.webelement.WebElement (session=\"deca552c3293be72ce3ec475ceda7bf6\", element=\"858849fd-8de2-4a8c-97ae-4c90c97af22c\")>"
      ]
     },
     "execution_count": 12,
     "metadata": {},
     "output_type": "execute_result"
    }
   ],
   "source": [
    "search_locn = driver.find_element(By.XPATH,'/html/body/div[1]/div[2]/div[3]/div/div/div[5]/div/div/div/input')\n",
    "search_locn"
   ]
  },
  {
   "cell_type": "code",
   "execution_count": 13,
   "id": "ba726a08",
   "metadata": {},
   "outputs": [],
   "source": [
    "search_locn.send_keys(\"Bangalore\")"
   ]
  },
  {
   "cell_type": "code",
   "execution_count": 14,
   "id": "019a9f64",
   "metadata": {},
   "outputs": [
    {
     "data": {
      "text/plain": [
       "<selenium.webdriver.remote.webelement.WebElement (session=\"deca552c3293be72ce3ec475ceda7bf6\", element=\"3a6eecdc-b140-41cf-86f5-53e016efe87f\")>"
      ]
     },
     "execution_count": 14,
     "metadata": {},
     "output_type": "execute_result"
    }
   ],
   "source": [
    "search_btn = driver.find_element(By.XPATH,\"/html/body/div[1]/div[2]/div[3]/div/div/div[6]\")\n",
    "search_btn"
   ]
  },
  {
   "cell_type": "code",
   "execution_count": 15,
   "id": "004d8ea0",
   "metadata": {},
   "outputs": [],
   "source": [
    "search_btn.click()"
   ]
  },
  {
   "cell_type": "code",
   "execution_count": 17,
   "id": "0d410876",
   "metadata": {},
   "outputs": [
    {
     "data": {
      "text/plain": [
       "['Sr.Business Data Analyst',\n",
       " 'Data Analyst - CRM Platform',\n",
       " 'Reference Data Analyst',\n",
       " 'Sales Data Analyst',\n",
       " 'Data Analyst',\n",
       " 'Hiring Data Analyst - Forensics, KPMG India',\n",
       " 'Data Analyst/Senior Data Analyst',\n",
       " 'Data Analyst - Marketplace',\n",
       " 'Hiring Data Analysts - Virtusa',\n",
       " 'Senior Data Analyst II',\n",
       " 'Data Analyst - Python/Artificial Intelligence',\n",
       " 'Immediate Opening with Omnicuris For Data Analyst',\n",
       " 'Immediate Opening with Omnicuris For Data Analyst',\n",
       " 'Business Analyst / Data Analyst',\n",
       " 'Software Technical Expert - Data Analyst',\n",
       " 'Data Analyst',\n",
       " 'Lead Data Analyst',\n",
       " 'Data Analyst',\n",
       " 'Big data analyst',\n",
       " 'Data Analyst']"
      ]
     },
     "execution_count": 17,
     "metadata": {},
     "output_type": "execute_result"
    }
   ],
   "source": [
    "title_tags = driver.find_elements(By.XPATH,'//a[@class=\"title fw500 ellipsis\"]')\n",
    "title_tags\n",
    "\n",
    "job_titles = []\n",
    "\n",
    "for i in title_tags:\n",
    "    job_titles.append(i.text)\n",
    "job_titles"
   ]
  },
  {
   "cell_type": "code",
   "execution_count": 18,
   "id": "fc913a91",
   "metadata": {},
   "outputs": [
    {
     "data": {
      "text/plain": [
       "20"
      ]
     },
     "execution_count": 18,
     "metadata": {},
     "output_type": "execute_result"
    }
   ],
   "source": [
    "company_tags = driver.find_elements(By.XPATH,'//a[@class=\"subTitle ellipsis fleft\"]')\n",
    "len(company_tags)"
   ]
  },
  {
   "cell_type": "code",
   "execution_count": 19,
   "id": "8330e2e7",
   "metadata": {},
   "outputs": [
    {
     "data": {
      "text/plain": [
       "['Collabera',\n",
       " 'Artech infosystem',\n",
       " 'Deutsche Bank',\n",
       " 'NUANCE INDIA PVT LTD',\n",
       " 'Clarivate',\n",
       " 'KPMG India',\n",
       " 'Meesho',\n",
       " 'Gojek',\n",
       " 'Virtusa',\n",
       " 'Flipkart',\n",
       " 'iMindYourBusiness',\n",
       " 'Omnicuris Healthcare Pvt Ltd',\n",
       " 'Omnicuris Healthcare Pvt Ltd',\n",
       " 'cliqhr.com',\n",
       " 'Schneider Electric',\n",
       " 'MOURI Tech',\n",
       " 'Uplers',\n",
       " 'Heart It Out',\n",
       " 'Accolite Software India Pvt Ltd',\n",
       " 'BYJUS']"
      ]
     },
     "execution_count": 19,
     "metadata": {},
     "output_type": "execute_result"
    }
   ],
   "source": [
    "company_names = []\n",
    "\n",
    "for i in company_tags:\n",
    "    company_names.append(i.text)\n",
    "company_names"
   ]
  },
  {
   "cell_type": "code",
   "execution_count": 20,
   "id": "e9b48da8",
   "metadata": {},
   "outputs": [
    {
     "data": {
      "text/plain": [
       "20"
      ]
     },
     "execution_count": 20,
     "metadata": {},
     "output_type": "execute_result"
    }
   ],
   "source": [
    "exp_tag = driver.find_elements(By.XPATH,'//li[@class=\"fleft grey-text br2 placeHolderLi experience\"]')\n",
    "len(exp_tag)"
   ]
  },
  {
   "cell_type": "code",
   "execution_count": 21,
   "id": "6194face",
   "metadata": {},
   "outputs": [
    {
     "data": {
      "text/plain": [
       "['6-11 Yrs',\n",
       " '1-6 Yrs',\n",
       " '2-5 Yrs',\n",
       " '1-3 Yrs',\n",
       " '2-4 Yrs',\n",
       " '2-6 Yrs',\n",
       " '3-6 Yrs',\n",
       " '3-7 Yrs',\n",
       " '4-8 Yrs',\n",
       " '3-6 Yrs',\n",
       " '0-2 Yrs',\n",
       " '2-5 Yrs',\n",
       " '2-5 Yrs',\n",
       " '5-10 Yrs',\n",
       " '3-6 Yrs',\n",
       " '6-10 Yrs',\n",
       " '8-12 Yrs',\n",
       " '1-2 Yrs',\n",
       " '2-6 Yrs',\n",
       " '2-5 Yrs']"
      ]
     },
     "execution_count": 21,
     "metadata": {},
     "output_type": "execute_result"
    }
   ],
   "source": [
    "experience = []\n",
    "\n",
    "for i in exp_tag:\n",
    "    experience.append(i.text)\n",
    "experience"
   ]
  },
  {
   "cell_type": "code",
   "execution_count": 22,
   "id": "57802477",
   "metadata": {},
   "outputs": [
    {
     "data": {
      "text/plain": [
       "20"
      ]
     },
     "execution_count": 22,
     "metadata": {},
     "output_type": "execute_result"
    }
   ],
   "source": [
    "locn_tags = driver.find_elements(By.XPATH,'//li[@class=\"fleft grey-text br2 placeHolderLi location\"]')\n",
    "len(locn_tags)"
   ]
  },
  {
   "cell_type": "code",
   "execution_count": 23,
   "id": "df4756c6",
   "metadata": {},
   "outputs": [
    {
     "data": {
      "text/plain": [
       "['Bangalore/Bengaluru, karnataka\\n(WFH during Covid)',\n",
       " 'Bangalore/Bengaluru, Mumbai, Hyderabad/Secunderabad, Pune, Chennai, Ahmedabad',\n",
       " 'Bangalore/Bengaluru',\n",
       " 'Bangalore/Bengaluru',\n",
       " 'Bangalore/Bengaluru',\n",
       " 'Bangalore/Bengaluru, Noida, Kolkata, Mumbai, Gurgaon/Gurugram, Delhi / NCR, Mumbai (All Areas)',\n",
       " 'Bangalore/Bengaluru',\n",
       " 'Bangalore/Bengaluru',\n",
       " 'Bangalore/Bengaluru, Hyderabad/Secunderabad, Pune, Chennai',\n",
       " 'Bangalore/Bengaluru',\n",
       " 'Bangalore/Bengaluru, Kolkata, Mumbai, Hyderabad/Secunderabad, Pune, Chennai, Ahmedabad',\n",
       " 'Bangalore/Bengaluru',\n",
       " 'Bangalore/Bengaluru',\n",
       " 'Bangalore/Bengaluru, Mumbai, Hyderabad/Secunderabad, Pune, Chennai',\n",
       " 'Bangalore/Bengaluru',\n",
       " 'Bangalore/Bengaluru, Hyderabad/Secunderabad',\n",
       " 'Bangalore Rural, Bangalore/Bengaluru(Varthur Road)',\n",
       " 'Bangalore/Bengaluru',\n",
       " 'Bangalore/Bengaluru',\n",
       " 'Bangalore/Bengaluru']"
      ]
     },
     "execution_count": 23,
     "metadata": {},
     "output_type": "execute_result"
    }
   ],
   "source": [
    "location = []\n",
    "\n",
    "for i in locn_tags:\n",
    "    location.append(i.text)\n",
    "location"
   ]
  },
  {
   "cell_type": "code",
   "execution_count": 30,
   "id": "ed2acb5d",
   "metadata": {},
   "outputs": [
    {
     "data": {
      "text/html": [
       "<div>\n",
       "<style scoped>\n",
       "    .dataframe tbody tr th:only-of-type {\n",
       "        vertical-align: middle;\n",
       "    }\n",
       "\n",
       "    .dataframe tbody tr th {\n",
       "        vertical-align: top;\n",
       "    }\n",
       "\n",
       "    .dataframe thead th {\n",
       "        text-align: right;\n",
       "    }\n",
       "</style>\n",
       "<table border=\"1\" class=\"dataframe\">\n",
       "  <thead>\n",
       "    <tr style=\"text-align: right;\">\n",
       "      <th></th>\n",
       "      <th>Job Titles</th>\n",
       "      <th>Location</th>\n",
       "      <th>Company</th>\n",
       "      <th>Experience</th>\n",
       "    </tr>\n",
       "  </thead>\n",
       "  <tbody>\n",
       "    <tr>\n",
       "      <th>0</th>\n",
       "      <td>Sr.Business Data Analyst</td>\n",
       "      <td>Bangalore/Bengaluru, karnataka\\n(WFH during Co...</td>\n",
       "      <td>Collabera</td>\n",
       "      <td>6-11 Yrs</td>\n",
       "    </tr>\n",
       "    <tr>\n",
       "      <th>1</th>\n",
       "      <td>Data Analyst - CRM Platform</td>\n",
       "      <td>Bangalore/Bengaluru, Mumbai, Hyderabad/Secunde...</td>\n",
       "      <td>Artech infosystem</td>\n",
       "      <td>1-6 Yrs</td>\n",
       "    </tr>\n",
       "    <tr>\n",
       "      <th>2</th>\n",
       "      <td>Reference Data Analyst</td>\n",
       "      <td>Bangalore/Bengaluru</td>\n",
       "      <td>Deutsche Bank</td>\n",
       "      <td>2-5 Yrs</td>\n",
       "    </tr>\n",
       "    <tr>\n",
       "      <th>3</th>\n",
       "      <td>Sales Data Analyst</td>\n",
       "      <td>Bangalore/Bengaluru</td>\n",
       "      <td>NUANCE INDIA PVT LTD</td>\n",
       "      <td>1-3 Yrs</td>\n",
       "    </tr>\n",
       "    <tr>\n",
       "      <th>4</th>\n",
       "      <td>Data Analyst</td>\n",
       "      <td>Bangalore/Bengaluru</td>\n",
       "      <td>Clarivate</td>\n",
       "      <td>2-4 Yrs</td>\n",
       "    </tr>\n",
       "    <tr>\n",
       "      <th>5</th>\n",
       "      <td>Hiring Data Analyst - Forensics, KPMG India</td>\n",
       "      <td>Bangalore/Bengaluru, Noida, Kolkata, Mumbai, G...</td>\n",
       "      <td>KPMG India</td>\n",
       "      <td>2-6 Yrs</td>\n",
       "    </tr>\n",
       "    <tr>\n",
       "      <th>6</th>\n",
       "      <td>Data Analyst/Senior Data Analyst</td>\n",
       "      <td>Bangalore/Bengaluru</td>\n",
       "      <td>Meesho</td>\n",
       "      <td>3-6 Yrs</td>\n",
       "    </tr>\n",
       "    <tr>\n",
       "      <th>7</th>\n",
       "      <td>Data Analyst - Marketplace</td>\n",
       "      <td>Bangalore/Bengaluru</td>\n",
       "      <td>Gojek</td>\n",
       "      <td>3-7 Yrs</td>\n",
       "    </tr>\n",
       "    <tr>\n",
       "      <th>8</th>\n",
       "      <td>Hiring Data Analysts - Virtusa</td>\n",
       "      <td>Bangalore/Bengaluru, Hyderabad/Secunderabad, P...</td>\n",
       "      <td>Virtusa</td>\n",
       "      <td>4-8 Yrs</td>\n",
       "    </tr>\n",
       "    <tr>\n",
       "      <th>9</th>\n",
       "      <td>Senior Data Analyst II</td>\n",
       "      <td>Bangalore/Bengaluru</td>\n",
       "      <td>Flipkart</td>\n",
       "      <td>3-6 Yrs</td>\n",
       "    </tr>\n",
       "  </tbody>\n",
       "</table>\n",
       "</div>"
      ],
      "text/plain": [
       "                                    Job Titles  \\\n",
       "0                     Sr.Business Data Analyst   \n",
       "1                  Data Analyst - CRM Platform   \n",
       "2                       Reference Data Analyst   \n",
       "3                           Sales Data Analyst   \n",
       "4                                 Data Analyst   \n",
       "5  Hiring Data Analyst - Forensics, KPMG India   \n",
       "6             Data Analyst/Senior Data Analyst   \n",
       "7                   Data Analyst - Marketplace   \n",
       "8               Hiring Data Analysts - Virtusa   \n",
       "9                       Senior Data Analyst II   \n",
       "\n",
       "                                            Location               Company  \\\n",
       "0  Bangalore/Bengaluru, karnataka\\n(WFH during Co...             Collabera   \n",
       "1  Bangalore/Bengaluru, Mumbai, Hyderabad/Secunde...     Artech infosystem   \n",
       "2                                Bangalore/Bengaluru         Deutsche Bank   \n",
       "3                                Bangalore/Bengaluru  NUANCE INDIA PVT LTD   \n",
       "4                                Bangalore/Bengaluru             Clarivate   \n",
       "5  Bangalore/Bengaluru, Noida, Kolkata, Mumbai, G...            KPMG India   \n",
       "6                                Bangalore/Bengaluru                Meesho   \n",
       "7                                Bangalore/Bengaluru                 Gojek   \n",
       "8  Bangalore/Bengaluru, Hyderabad/Secunderabad, P...               Virtusa   \n",
       "9                                Bangalore/Bengaluru              Flipkart   \n",
       "\n",
       "  Experience  \n",
       "0   6-11 Yrs  \n",
       "1    1-6 Yrs  \n",
       "2    2-5 Yrs  \n",
       "3    1-3 Yrs  \n",
       "4    2-4 Yrs  \n",
       "5    2-6 Yrs  \n",
       "6    3-6 Yrs  \n",
       "7    3-7 Yrs  \n",
       "8    4-8 Yrs  \n",
       "9    3-6 Yrs  "
      ]
     },
     "execution_count": 30,
     "metadata": {},
     "output_type": "execute_result"
    }
   ],
   "source": [
    "jobs = pd.DataFrame()\n",
    "jobs [\"Job Titles\"] = job_titles\n",
    "jobs [\"Location\"] = location\n",
    "jobs [\"Company\"] = company_names\n",
    "jobs [\"Experience\"] = experience\n",
    "jobs\n",
    "jobs[0:10]"
   ]
  },
  {
   "cell_type": "code",
   "execution_count": 25,
   "id": "ce12af3f",
   "metadata": {},
   "outputs": [],
   "source": [
    "driver = webdriver.Chrome(r'C:\\Users\\Harshit Gupta\\Downloads\\chromedriver.exe')"
   ]
  },
  {
   "cell_type": "code",
   "execution_count": 26,
   "id": "5c15097f",
   "metadata": {},
   "outputs": [],
   "source": [
    "url = \"https://www.naukri.com/\"\n",
    "driver.get(url)"
   ]
  },
  {
   "cell_type": "code",
   "execution_count": 27,
   "id": "97207d91",
   "metadata": {},
   "outputs": [
    {
     "data": {
      "text/plain": [
       "<selenium.webdriver.remote.webelement.WebElement (session=\"260b6c48b1b53d4fa4f9a48394dd9867\", element=\"59b63af2-5d56-4e60-a4f1-76d8c7760eac\")>"
      ]
     },
     "execution_count": 27,
     "metadata": {},
     "output_type": "execute_result"
    }
   ],
   "source": [
    "search_job = driver.find_element(By.CLASS_NAME,\"suggestor-input\")\n",
    "search_job"
   ]
  },
  {
   "cell_type": "code",
   "execution_count": 28,
   "id": "4ae03c18",
   "metadata": {},
   "outputs": [],
   "source": [
    "search_job.send_keys(\"Data Scientist\")"
   ]
  },
  {
   "cell_type": "code",
   "execution_count": 29,
   "id": "37bdd38b",
   "metadata": {},
   "outputs": [
    {
     "data": {
      "text/plain": [
       "<selenium.webdriver.remote.webelement.WebElement (session=\"260b6c48b1b53d4fa4f9a48394dd9867\", element=\"fb69d51e-e0b4-47b1-88c6-5052c5c7fc4b\")>"
      ]
     },
     "execution_count": 29,
     "metadata": {},
     "output_type": "execute_result"
    }
   ],
   "source": [
    "search_locn = driver.find_element(By.XPATH,'/html/body/div[1]/div[2]/div[3]/div/div/div[5]/div/div/div/input')\n",
    "search_locn"
   ]
  },
  {
   "cell_type": "code",
   "execution_count": 31,
   "id": "71a229d5",
   "metadata": {},
   "outputs": [],
   "source": [
    "search_locn.send_keys(\"Bangalore\")"
   ]
  },
  {
   "cell_type": "code",
   "execution_count": 32,
   "id": "f321c466",
   "metadata": {},
   "outputs": [
    {
     "data": {
      "text/plain": [
       "<selenium.webdriver.remote.webelement.WebElement (session=\"260b6c48b1b53d4fa4f9a48394dd9867\", element=\"6778395e-581d-48b6-86e6-668efec0e29d\")>"
      ]
     },
     "execution_count": 32,
     "metadata": {},
     "output_type": "execute_result"
    }
   ],
   "source": [
    "search_btn = driver.find_element(By.XPATH,\"/html/body/div[1]/div[2]/div[3]/div/div/div[6]\")\n",
    "search_btn"
   ]
  },
  {
   "cell_type": "code",
   "execution_count": 33,
   "id": "02eae3bf",
   "metadata": {},
   "outputs": [],
   "source": [
    "search_btn.click()"
   ]
  },
  {
   "cell_type": "code",
   "execution_count": 35,
   "id": "bdb103a5",
   "metadata": {},
   "outputs": [
    {
     "data": {
      "text/plain": [
       "['Urgent Job Opening For AI Practitioner - Data Science at Wipro Holmes',\n",
       " 'Dataiku Consultant',\n",
       " 'Opportunity For Data Scientist - Female Candidates ONLY',\n",
       " 'Data Scientist',\n",
       " 'Data Scientist, Personalization',\n",
       " 'AWS Sagemaker',\n",
       " 'Data Scientist',\n",
       " 'Research and Development -AI/ML -(PhD )',\n",
       " 'Senior Data Science Engineer',\n",
       " 'Data Science - Engineering Manager',\n",
       " 'Data Scientist',\n",
       " 'Data Scientist- Assistant Manager/Manager',\n",
       " 'Data Scientist: Artificial Intelligence',\n",
       " 'Data Scientist - IN3',\n",
       " 'Data Scientist - IN3',\n",
       " 'Senior Data Scientist, Personalization',\n",
       " 'Data Scientist',\n",
       " 'DigitalBCG GAMMA Data Scientist',\n",
       " 'Data Engineer - ML Ops',\n",
       " 'Data Scientist']"
      ]
     },
     "execution_count": 35,
     "metadata": {},
     "output_type": "execute_result"
    }
   ],
   "source": [
    "title_tags = driver.find_elements(By.XPATH,'//a[@class=\"title fw500 ellipsis\"]')\n",
    "title_tags\n",
    "\n",
    "job_titles = []\n",
    "\n",
    "for i in title_tags:\n",
    "    job_titles.append(i.text)\n",
    "job_titles"
   ]
  },
  {
   "cell_type": "code",
   "execution_count": 36,
   "id": "604ca940",
   "metadata": {},
   "outputs": [
    {
     "data": {
      "text/plain": [
       "20"
      ]
     },
     "execution_count": 36,
     "metadata": {},
     "output_type": "execute_result"
    }
   ],
   "source": [
    "company_tags = driver.find_elements(By.XPATH,'//a[@class=\"subTitle ellipsis fleft\"]')\n",
    "len(company_tags)"
   ]
  },
  {
   "cell_type": "code",
   "execution_count": 37,
   "id": "8130cde6",
   "metadata": {},
   "outputs": [
    {
     "data": {
      "text/plain": [
       "['Wipro',\n",
       " 'Wipro',\n",
       " 'PayU',\n",
       " 'IBM',\n",
       " 'Walmart',\n",
       " 'Wipro',\n",
       " 'Wipro',\n",
       " 'EXL',\n",
       " 'Fractal Analytics',\n",
       " 'Paytm',\n",
       " 'UPL',\n",
       " 'Genpact',\n",
       " 'IBM',\n",
       " 'Walmart',\n",
       " 'Walmart',\n",
       " 'Walmart',\n",
       " 'Schneider Electric',\n",
       " 'Boston Consulting Group',\n",
       " 'VISA',\n",
       " 'Applied Materials']"
      ]
     },
     "execution_count": 37,
     "metadata": {},
     "output_type": "execute_result"
    }
   ],
   "source": [
    "company_names = []\n",
    "\n",
    "for i in company_tags:\n",
    "    company_names.append(i.text)\n",
    "company_names"
   ]
  },
  {
   "cell_type": "code",
   "execution_count": 38,
   "id": "0767fc83",
   "metadata": {},
   "outputs": [
    {
     "data": {
      "text/plain": [
       "20"
      ]
     },
     "execution_count": 38,
     "metadata": {},
     "output_type": "execute_result"
    }
   ],
   "source": [
    "locn_tags = driver.find_elements(By.XPATH,'//li[@class=\"fleft grey-text br2 placeHolderLi location\"]')\n",
    "len(locn_tags)"
   ]
  },
  {
   "cell_type": "code",
   "execution_count": 39,
   "id": "57c3621c",
   "metadata": {},
   "outputs": [
    {
     "data": {
      "text/plain": [
       "['Bangalore/Bengaluru, Kochi/Cochin, New Delhi, Coimbatore, Chennai, Pune, Mumbai, Hyderabad',\n",
       " 'Bangalore/Bengaluru, Pune, Chennai',\n",
       " 'Bangalore/Bengaluru, Gurgaon/Gurugram, Mumbai (All Areas)',\n",
       " 'Bangalore/Bengaluru',\n",
       " 'Bangalore/Bengaluru',\n",
       " 'Bangalore/Bengaluru\\n(WFH during Covid)',\n",
       " 'Bangalore/Bengaluru\\n(WFH during Covid)',\n",
       " 'Bangalore/Bengaluru, Noida, Hyderabad/Secunderabad, Pune, Gurgaon/Gurugram, Chennai, Delhi / NCR',\n",
       " 'Bangalore/Bengaluru, Gurgaon/Gurugram, Mumbai (All Areas)',\n",
       " 'Bangalore/Bengaluru, Noida, Mumbai',\n",
       " 'Bangalore/Bengaluru, Mumbai (All Areas)',\n",
       " 'Bangalore/Bengaluru',\n",
       " 'Bangalore/Bengaluru',\n",
       " 'Bangalore/Bengaluru',\n",
       " 'Bangalore/Bengaluru',\n",
       " 'Bangalore/Bengaluru',\n",
       " 'Bangalore/Bengaluru',\n",
       " 'Bangalore/Bengaluru, New Delhi',\n",
       " 'Bangalore/Bengaluru',\n",
       " 'Bangalore/Bengaluru']"
      ]
     },
     "execution_count": 39,
     "metadata": {},
     "output_type": "execute_result"
    }
   ],
   "source": [
    "location = []\n",
    "\n",
    "for i in locn_tags:\n",
    "    location.append(i.text)\n",
    "location"
   ]
  },
  {
   "cell_type": "code",
   "execution_count": 40,
   "id": "0586a076",
   "metadata": {},
   "outputs": [
    {
     "data": {
      "text/html": [
       "<div>\n",
       "<style scoped>\n",
       "    .dataframe tbody tr th:only-of-type {\n",
       "        vertical-align: middle;\n",
       "    }\n",
       "\n",
       "    .dataframe tbody tr th {\n",
       "        vertical-align: top;\n",
       "    }\n",
       "\n",
       "    .dataframe thead th {\n",
       "        text-align: right;\n",
       "    }\n",
       "</style>\n",
       "<table border=\"1\" class=\"dataframe\">\n",
       "  <thead>\n",
       "    <tr style=\"text-align: right;\">\n",
       "      <th></th>\n",
       "      <th>Job Titles</th>\n",
       "      <th>Company</th>\n",
       "      <th>Location</th>\n",
       "    </tr>\n",
       "  </thead>\n",
       "  <tbody>\n",
       "    <tr>\n",
       "      <th>0</th>\n",
       "      <td>Urgent Job Opening For AI Practitioner - Data ...</td>\n",
       "      <td>Wipro</td>\n",
       "      <td>Bangalore/Bengaluru, Kochi/Cochin, New Delhi, ...</td>\n",
       "    </tr>\n",
       "    <tr>\n",
       "      <th>1</th>\n",
       "      <td>Dataiku Consultant</td>\n",
       "      <td>Wipro</td>\n",
       "      <td>Bangalore/Bengaluru, Pune, Chennai</td>\n",
       "    </tr>\n",
       "    <tr>\n",
       "      <th>2</th>\n",
       "      <td>Opportunity For Data Scientist - Female Candid...</td>\n",
       "      <td>PayU</td>\n",
       "      <td>Bangalore/Bengaluru, Gurgaon/Gurugram, Mumbai ...</td>\n",
       "    </tr>\n",
       "    <tr>\n",
       "      <th>3</th>\n",
       "      <td>Data Scientist</td>\n",
       "      <td>IBM</td>\n",
       "      <td>Bangalore/Bengaluru</td>\n",
       "    </tr>\n",
       "    <tr>\n",
       "      <th>4</th>\n",
       "      <td>Data Scientist, Personalization</td>\n",
       "      <td>Walmart</td>\n",
       "      <td>Bangalore/Bengaluru</td>\n",
       "    </tr>\n",
       "    <tr>\n",
       "      <th>5</th>\n",
       "      <td>AWS Sagemaker</td>\n",
       "      <td>Wipro</td>\n",
       "      <td>Bangalore/Bengaluru\\n(WFH during Covid)</td>\n",
       "    </tr>\n",
       "    <tr>\n",
       "      <th>6</th>\n",
       "      <td>Data Scientist</td>\n",
       "      <td>Wipro</td>\n",
       "      <td>Bangalore/Bengaluru\\n(WFH during Covid)</td>\n",
       "    </tr>\n",
       "    <tr>\n",
       "      <th>7</th>\n",
       "      <td>Research and Development -AI/ML -(PhD )</td>\n",
       "      <td>EXL</td>\n",
       "      <td>Bangalore/Bengaluru, Noida, Hyderabad/Secunder...</td>\n",
       "    </tr>\n",
       "    <tr>\n",
       "      <th>8</th>\n",
       "      <td>Senior Data Science Engineer</td>\n",
       "      <td>Fractal Analytics</td>\n",
       "      <td>Bangalore/Bengaluru, Gurgaon/Gurugram, Mumbai ...</td>\n",
       "    </tr>\n",
       "    <tr>\n",
       "      <th>9</th>\n",
       "      <td>Data Science - Engineering Manager</td>\n",
       "      <td>Paytm</td>\n",
       "      <td>Bangalore/Bengaluru, Noida, Mumbai</td>\n",
       "    </tr>\n",
       "  </tbody>\n",
       "</table>\n",
       "</div>"
      ],
      "text/plain": [
       "                                          Job Titles            Company  \\\n",
       "0  Urgent Job Opening For AI Practitioner - Data ...              Wipro   \n",
       "1                                 Dataiku Consultant              Wipro   \n",
       "2  Opportunity For Data Scientist - Female Candid...               PayU   \n",
       "3                                     Data Scientist                IBM   \n",
       "4                    Data Scientist, Personalization            Walmart   \n",
       "5                                      AWS Sagemaker              Wipro   \n",
       "6                                     Data Scientist              Wipro   \n",
       "7            Research and Development -AI/ML -(PhD )                EXL   \n",
       "8                       Senior Data Science Engineer  Fractal Analytics   \n",
       "9                 Data Science - Engineering Manager              Paytm   \n",
       "\n",
       "                                            Location  \n",
       "0  Bangalore/Bengaluru, Kochi/Cochin, New Delhi, ...  \n",
       "1                 Bangalore/Bengaluru, Pune, Chennai  \n",
       "2  Bangalore/Bengaluru, Gurgaon/Gurugram, Mumbai ...  \n",
       "3                                Bangalore/Bengaluru  \n",
       "4                                Bangalore/Bengaluru  \n",
       "5            Bangalore/Bengaluru\\n(WFH during Covid)  \n",
       "6            Bangalore/Bengaluru\\n(WFH during Covid)  \n",
       "7  Bangalore/Bengaluru, Noida, Hyderabad/Secunder...  \n",
       "8  Bangalore/Bengaluru, Gurgaon/Gurugram, Mumbai ...  \n",
       "9                 Bangalore/Bengaluru, Noida, Mumbai  "
      ]
     },
     "execution_count": 40,
     "metadata": {},
     "output_type": "execute_result"
    }
   ],
   "source": [
    "jobs = pd.DataFrame()\n",
    "jobs [\"Job Titles\"] = job_titles\n",
    "jobs [\"Company\"] = company_names\n",
    "jobs [\"Location\"] = location\n",
    "jobs\n",
    "jobs[0:10]"
   ]
  },
  {
   "cell_type": "code",
   "execution_count": 41,
   "id": "f775ee17",
   "metadata": {},
   "outputs": [],
   "source": [
    "driver = webdriver.Chrome(r'C:\\Users\\Harshit Gupta\\Downloads\\chromedriver.exe')"
   ]
  },
  {
   "cell_type": "code",
   "execution_count": 42,
   "id": "6fb10157",
   "metadata": {},
   "outputs": [],
   "source": [
    "url = \"https://www.naukri.com/\"\n",
    "driver.get(url)"
   ]
  },
  {
   "cell_type": "code",
   "execution_count": 43,
   "id": "b814ca29",
   "metadata": {},
   "outputs": [
    {
     "data": {
      "text/plain": [
       "<selenium.webdriver.remote.webelement.WebElement (session=\"c586e3ab0d7f566c88c37ee7e203697b\", element=\"3b509602-0c9a-4e64-aa34-d0bbcf05f32d\")>"
      ]
     },
     "execution_count": 43,
     "metadata": {},
     "output_type": "execute_result"
    }
   ],
   "source": [
    "search_job = driver.find_element(By.CLASS_NAME,\"suggestor-input\")\n",
    "search_job"
   ]
  },
  {
   "cell_type": "code",
   "execution_count": 44,
   "id": "c3afd236",
   "metadata": {},
   "outputs": [],
   "source": [
    "search_job.send_keys(\"Data Scientist\")"
   ]
  },
  {
   "cell_type": "code",
   "execution_count": 45,
   "id": "eae9ed9b",
   "metadata": {},
   "outputs": [
    {
     "data": {
      "text/plain": [
       "<selenium.webdriver.remote.webelement.WebElement (session=\"c586e3ab0d7f566c88c37ee7e203697b\", element=\"eb717de9-a091-42b5-98e2-0057279d35e8\")>"
      ]
     },
     "execution_count": 45,
     "metadata": {},
     "output_type": "execute_result"
    }
   ],
   "source": [
    "search_btn = driver.find_element(By.XPATH,\"/html/body/div[1]/div[2]/div[3]/div/div/div[6]\")\n",
    "search_btn"
   ]
  },
  {
   "cell_type": "code",
   "execution_count": 46,
   "id": "e0bcd0da",
   "metadata": {},
   "outputs": [],
   "source": [
    "search_btn.click()"
   ]
  },
  {
   "cell_type": "code",
   "execution_count": 47,
   "id": "9c6aa783",
   "metadata": {},
   "outputs": [],
   "source": [
    "location_check = driver.find_element(By.XPATH,\"/html/body/div[1]/div[3]/div[2]/section[1]/div[2]/div[5]/div[2]/div[3]/label/i\")\n",
    "location_check.click()"
   ]
  },
  {
   "cell_type": "code",
   "execution_count": 48,
   "id": "d6adec68",
   "metadata": {},
   "outputs": [],
   "source": [
    "salary_check = driver.find_element(By.XPATH,\"/html/body/div[1]/div[3]/div[2]/section[1]/div[2]/div[6]/div[2]/div[2]/label/i\")\n",
    "salary_check.click()"
   ]
  },
  {
   "cell_type": "code",
   "execution_count": 50,
   "id": "827ab1d8",
   "metadata": {},
   "outputs": [
    {
     "data": {
      "text/plain": [
       "['DigitalBCG GAMMA Data Scientist',\n",
       " 'Senior Associate - Data Science',\n",
       " 'Data Scientist - Noida/Bangalore',\n",
       " 'Data Scientist - Machine learning AI',\n",
       " 'Data Scientist - MIND Infotech',\n",
       " 'Data Scientist',\n",
       " 'Data Scientist',\n",
       " 'Data Scientist - Predictive Analytics',\n",
       " 'Data Scientist - Engine Algorithm',\n",
       " 'Data Scientist',\n",
       " 'Data Science',\n",
       " 'Data Science',\n",
       " 'Data Scientist - Internet Jobs - II',\n",
       " 'Data Scientist',\n",
       " 'Machine Learning Seniors',\n",
       " 'Hiring || Data Scientist || North Delhi || 5.5 days working',\n",
       " 'Data scientist- Python',\n",
       " 'Data Engineer',\n",
       " 'Dot Net Developer',\n",
       " 'Data Scientists']"
      ]
     },
     "execution_count": 50,
     "metadata": {},
     "output_type": "execute_result"
    }
   ],
   "source": [
    "title_tags = driver.find_elements(By.XPATH,'//a[@class=\"title fw500 ellipsis\"]')\n",
    "title_tags\n",
    "\n",
    "job_titles = []\n",
    "\n",
    "for i in title_tags:\n",
    "    job_titles.append(i.text)\n",
    "job_titles"
   ]
  },
  {
   "cell_type": "code",
   "execution_count": 51,
   "id": "e0ab4da0",
   "metadata": {},
   "outputs": [
    {
     "data": {
      "text/plain": [
       "20"
      ]
     },
     "execution_count": 51,
     "metadata": {},
     "output_type": "execute_result"
    }
   ],
   "source": [
    "company_tags = driver.find_elements(By.XPATH,'//a[@class=\"subTitle ellipsis fleft\"]')\n",
    "len(company_tags)"
   ]
  },
  {
   "cell_type": "code",
   "execution_count": 52,
   "id": "54430edf",
   "metadata": {},
   "outputs": [
    {
     "data": {
      "text/plain": [
       "['Boston Consulting Group',\n",
       " 'Black Turtle India Pvt Ltd',\n",
       " 'EXL',\n",
       " 'Teq Analytics',\n",
       " 'MOTHERSONSUMI INFOTECH & DESIGNS LIMITED',\n",
       " 'Mount Talent Consulting Private Limited',\n",
       " 'Mount Talent Consulting Private Limited',\n",
       " 'Confidential',\n",
       " 'Primo Hiring',\n",
       " 'Sydata Consulting India Pvt Ltd',\n",
       " 'Mount Talent Consulting Private Limited',\n",
       " 'Mount Talent Consulting Private Limited',\n",
       " 'Jobs Territory',\n",
       " 'Kellton Tech Solutions Limited',\n",
       " 'Walking Tree Consultancy Services pvt Ltd',\n",
       " 'Shriram Automall India Limited',\n",
       " 'TeamPlus Staffing Solution Pvt Ltd',\n",
       " 'excellence',\n",
       " 'Nibha Infotech Private Limited',\n",
       " 'Nibha Infotech Private Limited']"
      ]
     },
     "execution_count": 52,
     "metadata": {},
     "output_type": "execute_result"
    }
   ],
   "source": [
    "company_names = []\n",
    "\n",
    "for i in company_tags:\n",
    "    company_names.append(i.text)\n",
    "company_names"
   ]
  },
  {
   "cell_type": "code",
   "execution_count": 53,
   "id": "8b2145e3",
   "metadata": {},
   "outputs": [
    {
     "data": {
      "text/plain": [
       "20"
      ]
     },
     "execution_count": 53,
     "metadata": {},
     "output_type": "execute_result"
    }
   ],
   "source": [
    "locn_tags = driver.find_elements(By.XPATH,'//li[@class=\"fleft grey-text br2 placeHolderLi location\"]')\n",
    "len(locn_tags)"
   ]
  },
  {
   "cell_type": "code",
   "execution_count": 54,
   "id": "afbd2a83",
   "metadata": {},
   "outputs": [
    {
     "data": {
      "text/plain": [
       "['New Delhi, Bangalore/Bengaluru',\n",
       " 'Mumbai, Hyderabad/Secunderabad, Gurgaon/Gurugram, Bangalore/Bengaluru',\n",
       " 'Noida, Bangalore/Bengaluru',\n",
       " 'Delhi / NCR, Bangalore/Bengaluru, Mumbai (All Areas)\\n(WFH during Covid)',\n",
       " 'Noida',\n",
       " 'Delhi / NCR, Pune, Bangalore/Bengaluru',\n",
       " 'Delhi / NCR, Pune, Bangalore/Bengaluru',\n",
       " 'Noida, Mumbai, Chandigarh, Hyderabad/Secunderabad, Pune, Chennai, Gurgaon/Gurugram, Coimbatore, Bangalore/Bengaluru',\n",
       " 'Delhi / NCR, Kolkata, Mumbai, Hyderabad/Secunderabad, Lucknow, Chennai, Ahmedabad, Bangalore/Bengaluru',\n",
       " 'Delhi / NCR, Bangalore/Bengaluru, Mumbai (All Areas)\\n(WFH during Covid)',\n",
       " 'Delhi / NCR, Noida, Faridabad, Gurgaon/Gurugram, Bangalore/Bengaluru, Greater Noida',\n",
       " 'Delhi / NCR, Noida, Faridabad, Gurgaon/Gurugram, Bangalore/Bengaluru, Greater Noida',\n",
       " 'Delhi / NCR, Bangalore/Bengaluru, Mumbai (All Areas)',\n",
       " 'Gurgaon/Gurugram',\n",
       " 'Hyderabad/Secunderabad, New Delhi',\n",
       " 'Delhi / NCR(Netaji Subhash Place)',\n",
       " 'Gurgaon/Gurugram',\n",
       " 'Mumbai, New Delhi, Pune',\n",
       " 'Delhi / NCR, Gurgaon/Gurugram',\n",
       " 'Gurgaon/Gurugram']"
      ]
     },
     "execution_count": 54,
     "metadata": {},
     "output_type": "execute_result"
    }
   ],
   "source": [
    "location = []\n",
    "\n",
    "for i in locn_tags:\n",
    "    location.append(i.text)\n",
    "location"
   ]
  },
  {
   "cell_type": "code",
   "execution_count": 55,
   "id": "391a1a30",
   "metadata": {},
   "outputs": [
    {
     "data": {
      "text/plain": [
       "20"
      ]
     },
     "execution_count": 55,
     "metadata": {},
     "output_type": "execute_result"
    }
   ],
   "source": [
    "exp_tag = driver.find_elements(By.XPATH,'//li[@class=\"fleft grey-text br2 placeHolderLi experience\"]')\n",
    "len(exp_tag)"
   ]
  },
  {
   "cell_type": "code",
   "execution_count": 56,
   "id": "21acb8d9",
   "metadata": {},
   "outputs": [
    {
     "data": {
      "text/plain": [
       "['2-5 Yrs',\n",
       " '4-7 Yrs',\n",
       " '5-10 Yrs',\n",
       " '3-8 Yrs',\n",
       " '4-8 Yrs',\n",
       " '2-4 Yrs',\n",
       " '2-4 Yrs',\n",
       " '1-6 Yrs',\n",
       " '1-3 Yrs',\n",
       " '3-8 Yrs',\n",
       " '2-5 Yrs',\n",
       " '2-5 Yrs',\n",
       " '3-6 Yrs',\n",
       " '3-6 Yrs',\n",
       " '2-5 Yrs',\n",
       " '4-9 Yrs',\n",
       " '3-6 Yrs',\n",
       " '4-9 Yrs',\n",
       " '3-8 Yrs',\n",
       " '5-8 Yrs']"
      ]
     },
     "execution_count": 56,
     "metadata": {},
     "output_type": "execute_result"
    }
   ],
   "source": [
    "experience = []\n",
    "\n",
    "for i in exp_tag:\n",
    "    experience.append(i.text)\n",
    "experience"
   ]
  },
  {
   "cell_type": "code",
   "execution_count": 57,
   "id": "1ed3f0ba",
   "metadata": {},
   "outputs": [
    {
     "data": {
      "text/html": [
       "<div>\n",
       "<style scoped>\n",
       "    .dataframe tbody tr th:only-of-type {\n",
       "        vertical-align: middle;\n",
       "    }\n",
       "\n",
       "    .dataframe tbody tr th {\n",
       "        vertical-align: top;\n",
       "    }\n",
       "\n",
       "    .dataframe thead th {\n",
       "        text-align: right;\n",
       "    }\n",
       "</style>\n",
       "<table border=\"1\" class=\"dataframe\">\n",
       "  <thead>\n",
       "    <tr style=\"text-align: right;\">\n",
       "      <th></th>\n",
       "      <th>Job Titles</th>\n",
       "      <th>Location</th>\n",
       "      <th>Company</th>\n",
       "      <th>Experience</th>\n",
       "    </tr>\n",
       "  </thead>\n",
       "  <tbody>\n",
       "    <tr>\n",
       "      <th>0</th>\n",
       "      <td>DigitalBCG GAMMA Data Scientist</td>\n",
       "      <td>New Delhi, Bangalore/Bengaluru</td>\n",
       "      <td>Boston Consulting Group</td>\n",
       "      <td>2-5 Yrs</td>\n",
       "    </tr>\n",
       "    <tr>\n",
       "      <th>1</th>\n",
       "      <td>Senior Associate - Data Science</td>\n",
       "      <td>Mumbai, Hyderabad/Secunderabad, Gurgaon/Gurugr...</td>\n",
       "      <td>Black Turtle India Pvt Ltd</td>\n",
       "      <td>4-7 Yrs</td>\n",
       "    </tr>\n",
       "    <tr>\n",
       "      <th>2</th>\n",
       "      <td>Data Scientist - Noida/Bangalore</td>\n",
       "      <td>Noida, Bangalore/Bengaluru</td>\n",
       "      <td>EXL</td>\n",
       "      <td>5-10 Yrs</td>\n",
       "    </tr>\n",
       "    <tr>\n",
       "      <th>3</th>\n",
       "      <td>Data Scientist - Machine learning AI</td>\n",
       "      <td>Delhi / NCR, Bangalore/Bengaluru, Mumbai (All ...</td>\n",
       "      <td>Teq Analytics</td>\n",
       "      <td>3-8 Yrs</td>\n",
       "    </tr>\n",
       "    <tr>\n",
       "      <th>4</th>\n",
       "      <td>Data Scientist - MIND Infotech</td>\n",
       "      <td>Noida</td>\n",
       "      <td>MOTHERSONSUMI INFOTECH &amp; DESIGNS LIMITED</td>\n",
       "      <td>4-8 Yrs</td>\n",
       "    </tr>\n",
       "    <tr>\n",
       "      <th>5</th>\n",
       "      <td>Data Scientist</td>\n",
       "      <td>Delhi / NCR, Pune, Bangalore/Bengaluru</td>\n",
       "      <td>Mount Talent Consulting Private Limited</td>\n",
       "      <td>2-4 Yrs</td>\n",
       "    </tr>\n",
       "    <tr>\n",
       "      <th>6</th>\n",
       "      <td>Data Scientist</td>\n",
       "      <td>Delhi / NCR, Pune, Bangalore/Bengaluru</td>\n",
       "      <td>Mount Talent Consulting Private Limited</td>\n",
       "      <td>2-4 Yrs</td>\n",
       "    </tr>\n",
       "    <tr>\n",
       "      <th>7</th>\n",
       "      <td>Data Scientist - Predictive Analytics</td>\n",
       "      <td>Noida, Mumbai, Chandigarh, Hyderabad/Secundera...</td>\n",
       "      <td>Confidential</td>\n",
       "      <td>1-6 Yrs</td>\n",
       "    </tr>\n",
       "    <tr>\n",
       "      <th>8</th>\n",
       "      <td>Data Scientist - Engine Algorithm</td>\n",
       "      <td>Delhi / NCR, Kolkata, Mumbai, Hyderabad/Secund...</td>\n",
       "      <td>Primo Hiring</td>\n",
       "      <td>1-3 Yrs</td>\n",
       "    </tr>\n",
       "    <tr>\n",
       "      <th>9</th>\n",
       "      <td>Data Scientist</td>\n",
       "      <td>Delhi / NCR, Bangalore/Bengaluru, Mumbai (All ...</td>\n",
       "      <td>Sydata Consulting India Pvt Ltd</td>\n",
       "      <td>3-8 Yrs</td>\n",
       "    </tr>\n",
       "  </tbody>\n",
       "</table>\n",
       "</div>"
      ],
      "text/plain": [
       "                              Job Titles  \\\n",
       "0        DigitalBCG GAMMA Data Scientist   \n",
       "1        Senior Associate - Data Science   \n",
       "2       Data Scientist - Noida/Bangalore   \n",
       "3   Data Scientist - Machine learning AI   \n",
       "4         Data Scientist - MIND Infotech   \n",
       "5                         Data Scientist   \n",
       "6                         Data Scientist   \n",
       "7  Data Scientist - Predictive Analytics   \n",
       "8      Data Scientist - Engine Algorithm   \n",
       "9                         Data Scientist   \n",
       "\n",
       "                                            Location  \\\n",
       "0                     New Delhi, Bangalore/Bengaluru   \n",
       "1  Mumbai, Hyderabad/Secunderabad, Gurgaon/Gurugr...   \n",
       "2                         Noida, Bangalore/Bengaluru   \n",
       "3  Delhi / NCR, Bangalore/Bengaluru, Mumbai (All ...   \n",
       "4                                              Noida   \n",
       "5             Delhi / NCR, Pune, Bangalore/Bengaluru   \n",
       "6             Delhi / NCR, Pune, Bangalore/Bengaluru   \n",
       "7  Noida, Mumbai, Chandigarh, Hyderabad/Secundera...   \n",
       "8  Delhi / NCR, Kolkata, Mumbai, Hyderabad/Secund...   \n",
       "9  Delhi / NCR, Bangalore/Bengaluru, Mumbai (All ...   \n",
       "\n",
       "                                    Company Experience  \n",
       "0                   Boston Consulting Group    2-5 Yrs  \n",
       "1                Black Turtle India Pvt Ltd    4-7 Yrs  \n",
       "2                                       EXL   5-10 Yrs  \n",
       "3                             Teq Analytics    3-8 Yrs  \n",
       "4  MOTHERSONSUMI INFOTECH & DESIGNS LIMITED    4-8 Yrs  \n",
       "5   Mount Talent Consulting Private Limited    2-4 Yrs  \n",
       "6   Mount Talent Consulting Private Limited    2-4 Yrs  \n",
       "7                              Confidential    1-6 Yrs  \n",
       "8                              Primo Hiring    1-3 Yrs  \n",
       "9           Sydata Consulting India Pvt Ltd    3-8 Yrs  "
      ]
     },
     "execution_count": 57,
     "metadata": {},
     "output_type": "execute_result"
    }
   ],
   "source": [
    "\n",
    "jobs = pd.DataFrame()\n",
    "jobs [\"Job Titles\"] = job_titles\n",
    "jobs [\"Location\"] = location\n",
    "jobs [\"Company\"] = company_names\n",
    "jobs [\"Experience\"] = experience\n",
    "jobs\n",
    "jobs[0:10]"
   ]
  },
  {
   "cell_type": "code",
   "execution_count": 67,
   "id": "d9a292ae",
   "metadata": {},
   "outputs": [],
   "source": [
    "driver = webdriver.Chrome(r'C:\\Users\\Harshit Gupta\\Downloads\\chromedriver.exe')"
   ]
  },
  {
   "cell_type": "code",
   "execution_count": 68,
   "id": "70818028",
   "metadata": {},
   "outputs": [],
   "source": [
    "url = \"https://www.flipkart.com/\"\n",
    "driver.get(url)"
   ]
  },
  {
   "cell_type": "code",
   "execution_count": 69,
   "id": "afe1f712",
   "metadata": {},
   "outputs": [
    {
     "data": {
      "text/plain": [
       "<selenium.webdriver.remote.webelement.WebElement (session=\"27b2c245c1b2246ca1bfab3a3fae2ded\", element=\"5b4971ed-abaa-46be-b4b4-9fb6fdb97d2c\")>"
      ]
     },
     "execution_count": 69,
     "metadata": {},
     "output_type": "execute_result"
    }
   ],
   "source": [
    "search_field = driver.find_element(By.CLASS_NAME,\"_3704LK\")\n",
    "search_field"
   ]
  },
  {
   "cell_type": "code",
   "execution_count": 70,
   "id": "0447d535",
   "metadata": {},
   "outputs": [],
   "source": [
    "search_field.send_keys(\"Sunglasses\")"
   ]
  },
  {
   "cell_type": "code",
   "execution_count": 71,
   "id": "66a576a0",
   "metadata": {},
   "outputs": [
    {
     "data": {
      "text/plain": [
       "<selenium.webdriver.remote.webelement.WebElement (session=\"27b2c245c1b2246ca1bfab3a3fae2ded\", element=\"0ac6965f-94cd-4ef7-be02-d00995791ff3\")>"
      ]
     },
     "execution_count": 71,
     "metadata": {},
     "output_type": "execute_result"
    }
   ],
   "source": [
    "search_btn = driver.find_element(By.XPATH,\"/html/body/div[1]/div/div[1]/div[1]/div[2]/div[2]/form/div/button\")\n",
    "search_btn"
   ]
  },
  {
   "cell_type": "code",
   "execution_count": 72,
   "id": "8aeee48c",
   "metadata": {},
   "outputs": [],
   "source": [
    "search_btn.click()"
   ]
  },
  {
   "cell_type": "code",
   "execution_count": 73,
   "id": "f4b7c48c",
   "metadata": {},
   "outputs": [
    {
     "data": {
      "text/plain": [
       "['Singco India',\n",
       " 'PHENOMENAL',\n",
       " 'Fastrack',\n",
       " 'New Specs',\n",
       " 'Elligator',\n",
       " 'SUNBEE',\n",
       " 'PIRASO',\n",
       " 'NuVew',\n",
       " 'Lee Topper',\n",
       " 'Fastrack',\n",
       " 'SHAAH COLLECTIONS',\n",
       " 'PHENOMENAL',\n",
       " 'PIRASO',\n",
       " 'ROZZETTA CRAFT',\n",
       " 'Lee Topper',\n",
       " 'PHENOMENAL',\n",
       " 'Fastrack',\n",
       " 'Fastrack',\n",
       " 'CRYSTAL CART',\n",
       " 'ROZZETTA CRAFT',\n",
       " 'NuVew',\n",
       " 'PIRASO',\n",
       " 'ROZZETTA CRAFT',\n",
       " 'Singco India',\n",
       " 'PIRASO',\n",
       " 'SUNBEE',\n",
       " 'New Specs',\n",
       " 'ROZZETTA CRAFT',\n",
       " 'Fastrack',\n",
       " 'PIRASO',\n",
       " 'PHENOMENAL',\n",
       " 'ROYAL SON',\n",
       " 'Fastrack',\n",
       " 'SRPM',\n",
       " 'ROYAL SON',\n",
       " 'PHENOMENAL',\n",
       " 'Mi',\n",
       " 'Elligator',\n",
       " 'LIZA ANGEL',\n",
       " 'VINCENT CHASE']"
      ]
     },
     "execution_count": 73,
     "metadata": {},
     "output_type": "execute_result"
    }
   ],
   "source": [
    "brand_tags = driver.find_elements(By.XPATH,'//div[@class=\"_2WkVRV\"]')\n",
    "brand_tags\n",
    "\n",
    "brand_titles = []\n",
    "\n",
    "for i in brand_tags:\n",
    "    brand_titles.append(i.text)\n",
    "brand_titles"
   ]
  },
  {
   "cell_type": "code",
   "execution_count": 74,
   "id": "6e6b1459",
   "metadata": {},
   "outputs": [
    {
     "data": {
      "text/plain": [
       "40"
      ]
     },
     "execution_count": 74,
     "metadata": {},
     "output_type": "execute_result"
    }
   ],
   "source": [
    "company_tags = driver.find_elements(By.XPATH,'//a[@class=\"IRpwTa\"]')\n",
    "len(company_tags)"
   ]
  },
  {
   "cell_type": "code",
   "execution_count": 75,
   "id": "e42b7230",
   "metadata": {},
   "outputs": [
    {
     "data": {
      "text/plain": [
       "['Gradient, Toughened Glass Lens, UV Protection Retro Squ...',\n",
       " 'UV Protection, Mirrored Retro Square Sunglasses (53)',\n",
       " 'UV Protection Rectangular Sunglasses (Free Size)',\n",
       " 'UV Protection Rectangular Sunglasses (Free Size)',\n",
       " 'UV Protection Round Sunglasses (54)',\n",
       " 'UV Protection, Polarized, Mirrored Retro Square Sunglas...',\n",
       " 'UV Protection Aviator Sunglasses (54)',\n",
       " 'UV Protection Cat-eye Sunglasses (60)',\n",
       " 'UV Protection Cat-eye Sunglasses (Free Size)',\n",
       " 'UV Protection Aviator Sunglasses (Free Size)',\n",
       " 'UV Protection, Polarized, Mirrored Rectangular Sunglass...',\n",
       " 'UV Protection Retro Square Sunglasses (53)',\n",
       " 'UV Protection Aviator Sunglasses (58)',\n",
       " 'Polarized, Riding Glasses Sports, Wrap-around Sunglasse...',\n",
       " 'Riding Glasses Wrap-around Sunglasses (Free Size)',\n",
       " 'UV Protection, Mirrored Wayfarer Sunglasses (Free Size)',\n",
       " 'UV Protection Aviator Sunglasses (58)',\n",
       " 'Gradient, UV Protection Wayfarer Sunglasses (Free Size)',\n",
       " 'Mirrored, Night Vision Oval Sunglasses (Free Size)',\n",
       " 'UV Protection Spectacle Sunglasses (Free Size)',\n",
       " 'UV Protection Sports Sunglasses (62)',\n",
       " 'UV Protection Wayfarer Sunglasses (32)',\n",
       " 'UV Protection Rectangular Sunglasses (Free Size)',\n",
       " 'Riding Glasses, UV Protection, Others Aviator Sunglasse...',\n",
       " 'UV Protection Over-sized Sunglasses (65)',\n",
       " 'UV Protection, Polarized, Mirrored Wayfarer Sunglasses ...',\n",
       " 'Mirrored, UV Protection, Riding Glasses, Others Round S...',\n",
       " 'UV Protection, Riding Glasses Rectangular Sunglasses (F...',\n",
       " 'UV Protection Shield Sunglasses (Free Size)',\n",
       " 'UV Protection Aviator Sunglasses (55)',\n",
       " 'UV Protection Retro Square Sunglasses (Free Size)',\n",
       " 'UV Protection Rectangular Sunglasses (50)',\n",
       " 'Gradient, UV Protection Wayfarer Sunglasses (Free Size)',\n",
       " 'Others Wayfarer, Retro Square Sunglasses (50)',\n",
       " 'Mirrored Aviator Sunglasses (Free Size)',\n",
       " 'UV Protection Clubmaster Sunglasses (Free Size)',\n",
       " 'Polarized Aviator Sunglasses (Free Size)',\n",
       " 'UV Protection Round Sunglasses (53)',\n",
       " 'Riding Glasses, Night Vision Spectacle Sunglasses (Fre...',\n",
       " 'by Lenskart Polarized, UV Protection Round Sunglasses (...']"
      ]
     },
     "execution_count": 75,
     "metadata": {},
     "output_type": "execute_result"
    }
   ],
   "source": [
    "description = []\n",
    "\n",
    "for i in company_tags:\n",
    "    description.append(i.text)\n",
    "description"
   ]
  },
  {
   "cell_type": "code",
   "execution_count": 76,
   "id": "2d89a5cb",
   "metadata": {},
   "outputs": [
    {
     "data": {
      "text/plain": [
       "40"
      ]
     },
     "execution_count": 76,
     "metadata": {},
     "output_type": "execute_result"
    }
   ],
   "source": [
    "price_tag = driver.find_elements(By.XPATH,'//div[@class=\"_30jeq3\"]')\n",
    "len(price_tag)"
   ]
  },
  {
   "cell_type": "code",
   "execution_count": 77,
   "id": "3ed11a92",
   "metadata": {},
   "outputs": [
    {
     "data": {
      "text/plain": [
       "['₹598',\n",
       " '₹369',\n",
       " '₹639',\n",
       " '₹264',\n",
       " '₹298',\n",
       " '₹246',\n",
       " '₹224',\n",
       " '₹385',\n",
       " '₹229',\n",
       " '₹639',\n",
       " '₹185',\n",
       " '₹339',\n",
       " '₹359',\n",
       " '₹499',\n",
       " '₹299',\n",
       " '₹259',\n",
       " '₹1,039',\n",
       " '₹639',\n",
       " '₹189',\n",
       " '₹399',\n",
       " '₹345',\n",
       " '₹226',\n",
       " '₹319',\n",
       " '₹232',\n",
       " '₹410',\n",
       " '₹268',\n",
       " '₹299',\n",
       " '₹449',\n",
       " '₹719',\n",
       " '₹246',\n",
       " '₹369',\n",
       " '₹569',\n",
       " '₹719',\n",
       " '₹207',\n",
       " '₹379',\n",
       " '₹369',\n",
       " '₹1,009',\n",
       " '₹207',\n",
       " '₹179',\n",
       " '₹849']"
      ]
     },
     "execution_count": 77,
     "metadata": {},
     "output_type": "execute_result"
    }
   ],
   "source": [
    "price = []\n",
    "\n",
    "for i in price_tag:\n",
    "    price.append(i.text)\n",
    "price"
   ]
  },
  {
   "cell_type": "code",
   "execution_count": 78,
   "id": "d4410806",
   "metadata": {},
   "outputs": [
    {
     "data": {
      "text/plain": [
       "40"
      ]
     },
     "execution_count": 78,
     "metadata": {},
     "output_type": "execute_result"
    }
   ],
   "source": [
    "discount_tags = driver.find_elements(By.XPATH,'//div[@class=\"_3Ay6Sb\"]')\n",
    "len(discount_tags)"
   ]
  },
  {
   "cell_type": "code",
   "execution_count": 79,
   "id": "af84f423",
   "metadata": {},
   "outputs": [
    {
     "data": {
      "text/plain": [
       "['80% off',\n",
       " '81% off',\n",
       " '20% off',\n",
       " '89% off',\n",
       " '88% off',\n",
       " '81% off',\n",
       " '85% off',\n",
       " '73% off',\n",
       " '82% off',\n",
       " '20% off',\n",
       " '89% off',\n",
       " '66% off',\n",
       " '86% off',\n",
       " '75% off',\n",
       " '88% off',\n",
       " '82% off',\n",
       " '20% off',\n",
       " '28% off',\n",
       " '68% off',\n",
       " '80% off',\n",
       " '72% off',\n",
       " '85% off',\n",
       " '78% off',\n",
       " '84% off',\n",
       " '84% off',\n",
       " '79% off',\n",
       " '81% off',\n",
       " '79% off',\n",
       " '20% off',\n",
       " '84% off',\n",
       " '81% off',\n",
       " '71% off',\n",
       " '20% off',\n",
       " '79% off',\n",
       " '74% off',\n",
       " '81% off',\n",
       " '15% off',\n",
       " '79% off',\n",
       " '82% off',\n",
       " '57% off']"
      ]
     },
     "execution_count": 79,
     "metadata": {},
     "output_type": "execute_result"
    }
   ],
   "source": [
    "discount = []\n",
    "\n",
    "for i in discount_tags:\n",
    "    discount.append(i.text)\n",
    "discount"
   ]
  },
  {
   "cell_type": "code",
   "execution_count": 80,
   "id": "54b9a28e",
   "metadata": {},
   "outputs": [
    {
     "data": {
      "text/plain": [
       "<selenium.webdriver.remote.webelement.WebElement (session=\"27b2c245c1b2246ca1bfab3a3fae2ded\", element=\"1bd4cd43-cfa2-4d73-a509-48b1b0810643\")>"
      ]
     },
     "execution_count": 80,
     "metadata": {},
     "output_type": "execute_result"
    }
   ],
   "source": [
    "next_btn = driver.find_element(By.XPATH,\"/html/body/div[1]/div/div[3]/div[1]/div[2]/div[12]/div/div/nav/a[11]\")\n",
    "next_btn"
   ]
  },
  {
   "cell_type": "code",
   "execution_count": 81,
   "id": "a0df4dd9",
   "metadata": {},
   "outputs": [],
   "source": [
    "next_btn.click()"
   ]
  },
  {
   "cell_type": "code",
   "execution_count": 82,
   "id": "1c62283d",
   "metadata": {},
   "outputs": [
    {
     "data": {
      "text/plain": [
       "['Fastrack',\n",
       " 'PIRASO',\n",
       " 'SRPM',\n",
       " 'VINCENT CHASE',\n",
       " 'SUNBEE',\n",
       " 'Fastrack',\n",
       " 'Lee Topper',\n",
       " 'VINCENT CHASE',\n",
       " 'PHENOMENAL',\n",
       " 'ROYAL SON',\n",
       " 'Mi',\n",
       " 'GANSTA',\n",
       " 'ROYAL SON',\n",
       " 'Elligator',\n",
       " 'LIZA ANGEL',\n",
       " 'IZAAN MART',\n",
       " 'Fastrack',\n",
       " 'New Specs',\n",
       " 'Singco India',\n",
       " 'ROYAL SON',\n",
       " 'Fastrack',\n",
       " 'kingsunglasses',\n",
       " 'kingsunglasses',\n",
       " 'ROZZETTA CRAFT',\n",
       " 'kingsunglasses',\n",
       " 'kingsunglasses',\n",
       " 'DEIXELS',\n",
       " 'Arnette',\n",
       " 'ROZZETTA CRAFT',\n",
       " 'ROZZETTA CRAFT',\n",
       " 'LIZA ANGEL',\n",
       " 'ROYAL SON',\n",
       " 'VINCENT CHASE',\n",
       " 'Fastrack',\n",
       " 'ROYAL SON',\n",
       " 'PHENOMENAL',\n",
       " 'VINCENT CHASE',\n",
       " 'kingsunglasses',\n",
       " 'Fastrack',\n",
       " 'IZAAN MART']"
      ]
     },
     "execution_count": 82,
     "metadata": {},
     "output_type": "execute_result"
    }
   ],
   "source": [
    "brand_tags = driver.find_elements(By.XPATH,'//div[@class=\"_2WkVRV\"]')\n",
    "brand_tags\n",
    "\n",
    "brand_titles = []\n",
    "\n",
    "for i in brand_tags:\n",
    "    brand_titles.append(i.text)\n",
    "brand_titles"
   ]
  },
  {
   "cell_type": "code",
   "execution_count": 83,
   "id": "e97d5947",
   "metadata": {},
   "outputs": [
    {
     "data": {
      "text/plain": [
       "40"
      ]
     },
     "execution_count": 83,
     "metadata": {},
     "output_type": "execute_result"
    }
   ],
   "source": [
    "company_tags = driver.find_elements(By.XPATH,'//a[@class=\"IRpwTa\"]')\n",
    "len(company_tags)"
   ]
  },
  {
   "cell_type": "code",
   "execution_count": 84,
   "id": "c30433e6",
   "metadata": {},
   "outputs": [
    {
     "data": {
      "text/plain": [
       "['UV Protection Shield Sunglasses (Free Size)',\n",
       " 'UV Protection Aviator Sunglasses (55)',\n",
       " 'Others Wayfarer, Retro Square Sunglasses (50)',\n",
       " 'UV Protection Rectangular Sunglasses (52)',\n",
       " 'UV Protection, Polarized, Mirrored Wayfarer Sunglasses ...',\n",
       " 'Gradient, UV Protection Wayfarer Sunglasses (Free Size)',\n",
       " 'UV Protection Rectangular Sunglasses (Free Size)',\n",
       " 'by Lenskart Polarized, UV Protection Round Sunglasses (...',\n",
       " 'UV Protection Retro Square Sunglasses (Free Size)',\n",
       " 'Mirrored Aviator Sunglasses (Free Size)',\n",
       " 'Polarized Aviator Sunglasses (Free Size)',\n",
       " 'UV Protection Aviator Sunglasses (57)',\n",
       " 'Mirrored Aviator Sunglasses (55)',\n",
       " 'UV Protection Round Sunglasses (53)',\n",
       " 'Riding Glasses, Night Vision Spectacle Sunglasses (Fre...',\n",
       " 'UV Protection Rectangular Sunglasses (55)',\n",
       " 'Mirrored, UV Protection Wayfarer Sunglasses (Free Size)',\n",
       " 'UV Protection Round Sunglasses (Free Size)',\n",
       " 'Gradient, Toughened Glass Lens, UV Protection Retro Squ...',\n",
       " 'Polarized, UV Protection Wrap-around Sunglasses (62)',\n",
       " 'Gradient, UV Protection Wayfarer Sunglasses (Free Size)',\n",
       " 'UV Protection Round Sunglasses (Free Size)',\n",
       " 'Mirrored, UV Protection Wayfarer Sunglasses (53)',\n",
       " 'UV Protection Aviator Sunglasses (62)',\n",
       " 'UV Protection, Riding Glasses, Mirrored Wayfarer Sungla...',\n",
       " 'UV Protection Round Sunglasses (54)',\n",
       " 'UV Protection Aviator Sunglasses (Free Size)',\n",
       " 'Others Retro Square Sunglasses (55)',\n",
       " 'UV Protection, Gradient Rectangular Sunglasses (Free Si...',\n",
       " 'UV Protection Retro Square Sunglasses (Free Size)',\n",
       " 'UV Protection, Riding Glasses, Night Vision Spectacle ...',\n",
       " 'Polarized, UV Protection Aviator Sunglasses (58)',\n",
       " 'by Lenskart Polarized, UV Protection Wayfarer Sunglasse...',\n",
       " 'UV Protection Wayfarer Sunglasses (Free Size)',\n",
       " 'Polarized, UV Protection Wayfarer Sunglasses (61)',\n",
       " 'UV Protection, Mirrored Retro Square Sunglasses (Free S...',\n",
       " 'Polarized, UV Protection Round Sunglasses (51)',\n",
       " 'Mirrored, UV Protection Wayfarer, Rectangular Sunglasse...',\n",
       " 'UV Protection Wayfarer Sunglasses (Free Size)',\n",
       " 'UV Protection, Riding Glasses Aviator Sunglasses (Free ...']"
      ]
     },
     "execution_count": 84,
     "metadata": {},
     "output_type": "execute_result"
    }
   ],
   "source": [
    "description = []\n",
    "\n",
    "for i in company_tags:\n",
    "    description.append(i.text)\n",
    "description"
   ]
  },
  {
   "cell_type": "code",
   "execution_count": 85,
   "id": "b4d3eec2",
   "metadata": {},
   "outputs": [
    {
     "data": {
      "text/plain": [
       "40"
      ]
     },
     "execution_count": 85,
     "metadata": {},
     "output_type": "execute_result"
    }
   ],
   "source": [
    "price_tag = driver.find_elements(By.XPATH,'//div[@class=\"_30jeq3\"]')\n",
    "len(price_tag)"
   ]
  },
  {
   "cell_type": "code",
   "execution_count": 86,
   "id": "c5d0a3d0",
   "metadata": {},
   "outputs": [
    {
     "data": {
      "text/plain": [
       "['₹719',\n",
       " '₹246',\n",
       " '₹207',\n",
       " '₹649',\n",
       " '₹268',\n",
       " '₹719',\n",
       " '₹219',\n",
       " '₹949',\n",
       " '₹369',\n",
       " '₹379',\n",
       " '₹1,009',\n",
       " '₹314',\n",
       " '₹379',\n",
       " '₹207',\n",
       " '₹179',\n",
       " '₹330',\n",
       " '₹799',\n",
       " '₹268',\n",
       " '₹664',\n",
       " '₹759',\n",
       " '₹719',\n",
       " '₹329',\n",
       " '₹299',\n",
       " '₹649',\n",
       " '₹213',\n",
       " '₹214',\n",
       " '₹224',\n",
       " '₹3,899',\n",
       " '₹399',\n",
       " '₹499',\n",
       " '₹169',\n",
       " '₹711',\n",
       " '₹749',\n",
       " '₹639',\n",
       " '₹664',\n",
       " '₹369',\n",
       " '₹1,099',\n",
       " '₹289',\n",
       " '₹719',\n",
       " '₹530']"
      ]
     },
     "execution_count": 86,
     "metadata": {},
     "output_type": "execute_result"
    }
   ],
   "source": [
    "price = []\n",
    "\n",
    "for i in price_tag:\n",
    "    price.append(i.text)\n",
    "price"
   ]
  },
  {
   "cell_type": "code",
   "execution_count": 87,
   "id": "6e2e73bd",
   "metadata": {},
   "outputs": [
    {
     "data": {
      "text/plain": [
       "40"
      ]
     },
     "execution_count": 87,
     "metadata": {},
     "output_type": "execute_result"
    }
   ],
   "source": [
    "discount_tags = driver.find_elements(By.XPATH,'//div[@class=\"_3Ay6Sb\"]')\n",
    "len(discount_tags)"
   ]
  },
  {
   "cell_type": "code",
   "execution_count": 88,
   "id": "ed00595f",
   "metadata": {},
   "outputs": [
    {
     "data": {
      "text/plain": [
       "['20% off',\n",
       " '84% off',\n",
       " '79% off',\n",
       " '67% off',\n",
       " '79% off',\n",
       " '20% off',\n",
       " '78% off',\n",
       " '52% off',\n",
       " '81% off',\n",
       " '74% off',\n",
       " '15% off',\n",
       " '84% off',\n",
       " '74% off',\n",
       " '79% off',\n",
       " '82% off',\n",
       " '83% off',\n",
       " '20% off',\n",
       " '79% off',\n",
       " '79% off',\n",
       " '62% off',\n",
       " '20% off',\n",
       " '79% off',\n",
       " '85% off',\n",
       " '74% off',\n",
       " '82% off',\n",
       " '78% off',\n",
       " '81% off',\n",
       " '49% off',\n",
       " '80% off',\n",
       " '77% off',\n",
       " '66% off',\n",
       " '64% off',\n",
       " '70% off',\n",
       " '20% off',\n",
       " '66% off',\n",
       " '81% off',\n",
       " '45% off',\n",
       " '85% off',\n",
       " '20% off',\n",
       " '55% off']"
      ]
     },
     "execution_count": 88,
     "metadata": {},
     "output_type": "execute_result"
    }
   ],
   "source": [
    "discount = []\n",
    "\n",
    "for i in discount_tags:\n",
    "    discount.append(i.text)\n",
    "discount"
   ]
  },
  {
   "cell_type": "code",
   "execution_count": 89,
   "id": "835f6d47",
   "metadata": {},
   "outputs": [
    {
     "data": {
      "text/plain": [
       "<selenium.webdriver.remote.webelement.WebElement (session=\"27b2c245c1b2246ca1bfab3a3fae2ded\", element=\"1bd4cd43-cfa2-4d73-a509-48b1b0810643\")>"
      ]
     },
     "execution_count": 89,
     "metadata": {},
     "output_type": "execute_result"
    }
   ],
   "source": [
    "next_btn = driver.find_element(By.XPATH,\"/html/body/div[1]/div/div[3]/div[1]/div[2]/div[12]/div/div/nav/a[12]\")\n",
    "next_btn"
   ]
  },
  {
   "cell_type": "code",
   "execution_count": 90,
   "id": "cc547feb",
   "metadata": {},
   "outputs": [],
   "source": [
    "next_btn.click()"
   ]
  },
  {
   "cell_type": "code",
   "execution_count": 91,
   "id": "f7249a94",
   "metadata": {},
   "outputs": [
    {
     "data": {
      "text/plain": [
       "['Silver Kartz',\n",
       " 'ROYAL SON',\n",
       " 'VINCENT CHASE',\n",
       " 'john jacobs',\n",
       " 'CRYSTAL CART',\n",
       " 'Lee Topper',\n",
       " 'Elligator',\n",
       " 'Arnette',\n",
       " 'Singco India',\n",
       " 'ROYAL SON',\n",
       " 'LIZA ANGEL',\n",
       " 'AISLIN',\n",
       " 'kingsunglasses',\n",
       " 'ROYAL SON',\n",
       " 'Fastrack',\n",
       " 'ROYAL SON',\n",
       " 'PIRASO',\n",
       " 'Mi',\n",
       " 'ROYAL SON',\n",
       " 'ROYAL SON',\n",
       " 'Fastrack',\n",
       " 'New Specs',\n",
       " 'AISLIN',\n",
       " 'Sewell',\n",
       " 'ROYAL SON',\n",
       " 'Fastrack',\n",
       " 'Rich Club',\n",
       " 'Sewell',\n",
       " 'Fastrack',\n",
       " 'Elligator',\n",
       " 'SHAAH COLLECTIONS',\n",
       " 'ROYAL SON',\n",
       " 'ROZZETTA CRAFT',\n",
       " 'VINCENT CHASE',\n",
       " 'Fastrack',\n",
       " 'ROYAL SON',\n",
       " 'AISLIN',\n",
       " 'Fastrack',\n",
       " 'HAMIW COLLECTION',\n",
       " 'VINCENT CHASE']"
      ]
     },
     "execution_count": 91,
     "metadata": {},
     "output_type": "execute_result"
    }
   ],
   "source": [
    "brand_tags = driver.find_elements(By.XPATH,'//div[@class=\"_2WkVRV\"]')\n",
    "brand_tags\n",
    "\n",
    "brand_titles = []\n",
    "\n",
    "for i in brand_tags:\n",
    "    brand_titles.append(i.text)\n",
    "brand_titles"
   ]
  },
  {
   "cell_type": "code",
   "execution_count": 92,
   "id": "4f8dbc5a",
   "metadata": {},
   "outputs": [
    {
     "data": {
      "text/plain": [
       "40"
      ]
     },
     "execution_count": 92,
     "metadata": {},
     "output_type": "execute_result"
    }
   ],
   "source": [
    "company_tags = driver.find_elements(By.XPATH,'//a[@class=\"IRpwTa\"]')\n",
    "len(company_tags)"
   ]
  },
  {
   "cell_type": "code",
   "execution_count": 93,
   "id": "a775debf",
   "metadata": {},
   "outputs": [
    {
     "data": {
      "text/plain": [
       "['UV Protection Wayfarer Sunglasses (Free Size)',\n",
       " 'UV Protection, Gradient Butterfly Sunglasses (62)',\n",
       " 'by Lenskart Polarized, UV Protection Rectangular Sungla...',\n",
       " 'UV Protection Wayfarer Sunglasses (46)',\n",
       " 'Polarized, UV Protection, Mirrored, Gradient Rectangula...',\n",
       " 'UV Protection Round Sunglasses (Free Size)',\n",
       " 'UV Protection, Riding Glasses Rectangular, Retro Square...',\n",
       " 'Others Oval Sunglasses (53)',\n",
       " 'Gradient, Toughened Glass Lens, UV Protection Retro Squ...',\n",
       " 'Mirrored Aviator Sunglasses (55)',\n",
       " 'UV Protection, Night Vision, Riding Glasses Round Sungl...',\n",
       " 'UV Protection, Gradient Cat-eye, Oval Sunglasses (61)',\n",
       " 'UV Protection Rectangular Sunglasses (55)',\n",
       " 'Mirrored Aviator Sunglasses (58)',\n",
       " 'UV Protection Wayfarer Sunglasses (Free Size)',\n",
       " 'Polarized, UV Protection Sports Sunglasses (68)',\n",
       " 'UV Protection Aviator Sunglasses (54)',\n",
       " 'Polarized Wayfarer Sunglasses (Free Size)',\n",
       " 'Polarized Rectangular Sunglasses (60)',\n",
       " 'Polarized, UV Protection Wrap-around Sunglasses (62)',\n",
       " 'UV Protection Round Sunglasses (55)',\n",
       " 'UV Protection Rectangular Sunglasses (Free Size)',\n",
       " 'UV Protection, Gradient Butterfly, Retro Square Sunglas...',\n",
       " 'Polarized Butterfly Sunglasses (Free Size)',\n",
       " 'UV Protection, Gradient Butterfly Sunglasses (52)',\n",
       " 'UV Protection Wayfarer Sunglasses (55)',\n",
       " 'UV Protection, Others Round Sunglasses (48)',\n",
       " 'Polarized Butterfly Sunglasses (Free Size)',\n",
       " 'UV Protection Aviator Sunglasses (58)',\n",
       " 'UV Protection Retro Square, Round Sunglasses (54)',\n",
       " 'UV Protection Round Sunglasses (Free Size)',\n",
       " 'UV Protection Over-sized Sunglasses (61)',\n",
       " 'UV Protection, Gradient Rectangular Sunglasses (Free Si...',\n",
       " 'by Lenskart Polarized, UV Protection Cat-eye Sunglasses...',\n",
       " 'UV Protection Sports Sunglasses (Free Size)',\n",
       " 'Mirrored Aviator Sunglasses (55)',\n",
       " 'UV Protection, Gradient Oval Sunglasses (58)',\n",
       " 'UV Protection Shield Sunglasses (Free Size)',\n",
       " 'UV Protection Wayfarer, Sports, Shield, Rectangular, Re...',\n",
       " 'by Lenskart Polarized, UV Protection Cat-eye Sunglasses...']"
      ]
     },
     "execution_count": 93,
     "metadata": {},
     "output_type": "execute_result"
    }
   ],
   "source": [
    "description = []\n",
    "\n",
    "for i in company_tags:\n",
    "    description.append(i.text)\n",
    "description"
   ]
  },
  {
   "cell_type": "code",
   "execution_count": 94,
   "id": "d04e9272",
   "metadata": {},
   "outputs": [
    {
     "data": {
      "text/plain": [
       "40"
      ]
     },
     "execution_count": 94,
     "metadata": {},
     "output_type": "execute_result"
    }
   ],
   "source": [
    "price_tag = driver.find_elements(By.XPATH,'//div[@class=\"_30jeq3\"]')\n",
    "len(price_tag)"
   ]
  },
  {
   "cell_type": "code",
   "execution_count": 95,
   "id": "36bd3d67",
   "metadata": {},
   "outputs": [
    {
     "data": {
      "text/plain": [
       "['₹288',\n",
       " '₹699',\n",
       " '₹749',\n",
       " '₹3,000',\n",
       " '₹529',\n",
       " '₹245',\n",
       " '₹379',\n",
       " '₹3,199',\n",
       " '₹598',\n",
       " '₹379',\n",
       " '₹199',\n",
       " '₹498',\n",
       " '₹189',\n",
       " '₹379',\n",
       " '₹849',\n",
       " '₹1,234',\n",
       " '₹223',\n",
       " '₹849',\n",
       " '₹664',\n",
       " '₹799',\n",
       " '₹949',\n",
       " '₹189',\n",
       " '₹498',\n",
       " '₹616',\n",
       " '₹664',\n",
       " '₹721',\n",
       " '₹260',\n",
       " '₹616',\n",
       " '₹1,169',\n",
       " '₹329',\n",
       " '₹307',\n",
       " '₹699',\n",
       " '₹449',\n",
       " '₹949',\n",
       " '₹759',\n",
       " '₹379',\n",
       " '₹498',\n",
       " '₹809',\n",
       " '₹219',\n",
       " '₹799']"
      ]
     },
     "execution_count": 95,
     "metadata": {},
     "output_type": "execute_result"
    }
   ],
   "source": [
    "price = []\n",
    "\n",
    "for i in price_tag:\n",
    "    price.append(i.text)\n",
    "price"
   ]
  },
  {
   "cell_type": "code",
   "execution_count": 96,
   "id": "15632525",
   "metadata": {},
   "outputs": [
    {
     "data": {
      "text/plain": [
       "40"
      ]
     },
     "execution_count": 96,
     "metadata": {},
     "output_type": "execute_result"
    }
   ],
   "source": [
    "discount_tags = driver.find_elements(By.XPATH,'//div[@class=\"_3Ay6Sb\"]')\n",
    "len(discount_tags)"
   ]
  },
  {
   "cell_type": "code",
   "execution_count": 97,
   "id": "f1fd086e",
   "metadata": {},
   "outputs": [
    {
     "data": {
      "text/plain": [
       "['80% off',\n",
       " '65% off',\n",
       " '62% off',\n",
       " '50% off',\n",
       " '74% off',\n",
       " '75% off',\n",
       " '74% off',\n",
       " '49% off',\n",
       " '80% off',\n",
       " '74% off',\n",
       " '75% off',\n",
       " '70% off',\n",
       " '85% off',\n",
       " '74% off',\n",
       " '15% off',\n",
       " '50% off',\n",
       " '86% off',\n",
       " '15% off',\n",
       " '66% off',\n",
       " '60% off',\n",
       " '5% off',\n",
       " '88% off',\n",
       " '67% off',\n",
       " '69% off',\n",
       " '66% off',\n",
       " '9% off',\n",
       " '67% off',\n",
       " '69% off',\n",
       " '10% off',\n",
       " '83% off',\n",
       " '81% off',\n",
       " '65% off',\n",
       " '77% off',\n",
       " '52% off',\n",
       " '15% off',\n",
       " '74% off',\n",
       " '67% off',\n",
       " '10% off',\n",
       " '89% off',\n",
       " '60% off']"
      ]
     },
     "execution_count": 97,
     "metadata": {},
     "output_type": "execute_result"
    }
   ],
   "source": [
    "discount = []\n",
    "\n",
    "for i in discount_tags:\n",
    "    discount.append(i.text)\n",
    "discount"
   ]
  },
  {
   "cell_type": "code",
   "execution_count": 108,
   "id": "4ffe92fd",
   "metadata": {},
   "outputs": [
    {
     "data": {
      "text/html": [
       "<div>\n",
       "<style scoped>\n",
       "    .dataframe tbody tr th:only-of-type {\n",
       "        vertical-align: middle;\n",
       "    }\n",
       "\n",
       "    .dataframe tbody tr th {\n",
       "        vertical-align: top;\n",
       "    }\n",
       "\n",
       "    .dataframe thead th {\n",
       "        text-align: right;\n",
       "    }\n",
       "</style>\n",
       "<table border=\"1\" class=\"dataframe\">\n",
       "  <thead>\n",
       "    <tr style=\"text-align: right;\">\n",
       "      <th></th>\n",
       "      <th>Brand</th>\n",
       "      <th>Decription</th>\n",
       "      <th>Price</th>\n",
       "      <th>Discount</th>\n",
       "    </tr>\n",
       "  </thead>\n",
       "  <tbody>\n",
       "    <tr>\n",
       "      <th>0</th>\n",
       "      <td>Silver Kartz</td>\n",
       "      <td>UV Protection Wayfarer Sunglasses (Free Size)</td>\n",
       "      <td>₹288</td>\n",
       "      <td>80% off</td>\n",
       "    </tr>\n",
       "    <tr>\n",
       "      <th>1</th>\n",
       "      <td>ROYAL SON</td>\n",
       "      <td>UV Protection, Gradient Butterfly Sunglasses (62)</td>\n",
       "      <td>₹699</td>\n",
       "      <td>65% off</td>\n",
       "    </tr>\n",
       "    <tr>\n",
       "      <th>2</th>\n",
       "      <td>VINCENT CHASE</td>\n",
       "      <td>by Lenskart Polarized, UV Protection Rectangul...</td>\n",
       "      <td>₹749</td>\n",
       "      <td>62% off</td>\n",
       "    </tr>\n",
       "    <tr>\n",
       "      <th>3</th>\n",
       "      <td>john jacobs</td>\n",
       "      <td>UV Protection Wayfarer Sunglasses (46)</td>\n",
       "      <td>₹3,000</td>\n",
       "      <td>50% off</td>\n",
       "    </tr>\n",
       "    <tr>\n",
       "      <th>4</th>\n",
       "      <td>CRYSTAL CART</td>\n",
       "      <td>Polarized, UV Protection, Mirrored, Gradient R...</td>\n",
       "      <td>₹529</td>\n",
       "      <td>74% off</td>\n",
       "    </tr>\n",
       "    <tr>\n",
       "      <th>5</th>\n",
       "      <td>Lee Topper</td>\n",
       "      <td>UV Protection Round Sunglasses (Free Size)</td>\n",
       "      <td>₹245</td>\n",
       "      <td>75% off</td>\n",
       "    </tr>\n",
       "    <tr>\n",
       "      <th>6</th>\n",
       "      <td>Elligator</td>\n",
       "      <td>UV Protection, Riding Glasses Rectangular, Ret...</td>\n",
       "      <td>₹379</td>\n",
       "      <td>74% off</td>\n",
       "    </tr>\n",
       "    <tr>\n",
       "      <th>7</th>\n",
       "      <td>Arnette</td>\n",
       "      <td>Others Oval Sunglasses (53)</td>\n",
       "      <td>₹3,199</td>\n",
       "      <td>49% off</td>\n",
       "    </tr>\n",
       "    <tr>\n",
       "      <th>8</th>\n",
       "      <td>Singco India</td>\n",
       "      <td>Gradient, Toughened Glass Lens, UV Protection ...</td>\n",
       "      <td>₹598</td>\n",
       "      <td>80% off</td>\n",
       "    </tr>\n",
       "    <tr>\n",
       "      <th>9</th>\n",
       "      <td>ROYAL SON</td>\n",
       "      <td>Mirrored Aviator Sunglasses (55)</td>\n",
       "      <td>₹379</td>\n",
       "      <td>74% off</td>\n",
       "    </tr>\n",
       "    <tr>\n",
       "      <th>10</th>\n",
       "      <td>LIZA ANGEL</td>\n",
       "      <td>UV Protection, Night Vision, Riding Glasses Ro...</td>\n",
       "      <td>₹199</td>\n",
       "      <td>75% off</td>\n",
       "    </tr>\n",
       "    <tr>\n",
       "      <th>11</th>\n",
       "      <td>AISLIN</td>\n",
       "      <td>UV Protection, Gradient Cat-eye, Oval Sunglass...</td>\n",
       "      <td>₹498</td>\n",
       "      <td>70% off</td>\n",
       "    </tr>\n",
       "    <tr>\n",
       "      <th>12</th>\n",
       "      <td>kingsunglasses</td>\n",
       "      <td>UV Protection Rectangular Sunglasses (55)</td>\n",
       "      <td>₹189</td>\n",
       "      <td>85% off</td>\n",
       "    </tr>\n",
       "    <tr>\n",
       "      <th>13</th>\n",
       "      <td>ROYAL SON</td>\n",
       "      <td>Mirrored Aviator Sunglasses (58)</td>\n",
       "      <td>₹379</td>\n",
       "      <td>74% off</td>\n",
       "    </tr>\n",
       "    <tr>\n",
       "      <th>14</th>\n",
       "      <td>Fastrack</td>\n",
       "      <td>UV Protection Wayfarer Sunglasses (Free Size)</td>\n",
       "      <td>₹849</td>\n",
       "      <td>15% off</td>\n",
       "    </tr>\n",
       "    <tr>\n",
       "      <th>15</th>\n",
       "      <td>ROYAL SON</td>\n",
       "      <td>Polarized, UV Protection Sports Sunglasses (68)</td>\n",
       "      <td>₹1,234</td>\n",
       "      <td>50% off</td>\n",
       "    </tr>\n",
       "    <tr>\n",
       "      <th>16</th>\n",
       "      <td>PIRASO</td>\n",
       "      <td>UV Protection Aviator Sunglasses (54)</td>\n",
       "      <td>₹223</td>\n",
       "      <td>86% off</td>\n",
       "    </tr>\n",
       "    <tr>\n",
       "      <th>17</th>\n",
       "      <td>Mi</td>\n",
       "      <td>Polarized Wayfarer Sunglasses (Free Size)</td>\n",
       "      <td>₹849</td>\n",
       "      <td>15% off</td>\n",
       "    </tr>\n",
       "    <tr>\n",
       "      <th>18</th>\n",
       "      <td>ROYAL SON</td>\n",
       "      <td>Polarized Rectangular Sunglasses (60)</td>\n",
       "      <td>₹664</td>\n",
       "      <td>66% off</td>\n",
       "    </tr>\n",
       "    <tr>\n",
       "      <th>19</th>\n",
       "      <td>ROYAL SON</td>\n",
       "      <td>Polarized, UV Protection Wrap-around Sunglasse...</td>\n",
       "      <td>₹799</td>\n",
       "      <td>60% off</td>\n",
       "    </tr>\n",
       "    <tr>\n",
       "      <th>20</th>\n",
       "      <td>Fastrack</td>\n",
       "      <td>UV Protection Round Sunglasses (55)</td>\n",
       "      <td>₹949</td>\n",
       "      <td>5% off</td>\n",
       "    </tr>\n",
       "    <tr>\n",
       "      <th>21</th>\n",
       "      <td>New Specs</td>\n",
       "      <td>UV Protection Rectangular Sunglasses (Free Size)</td>\n",
       "      <td>₹189</td>\n",
       "      <td>88% off</td>\n",
       "    </tr>\n",
       "    <tr>\n",
       "      <th>22</th>\n",
       "      <td>AISLIN</td>\n",
       "      <td>UV Protection, Gradient Butterfly, Retro Squar...</td>\n",
       "      <td>₹498</td>\n",
       "      <td>67% off</td>\n",
       "    </tr>\n",
       "    <tr>\n",
       "      <th>23</th>\n",
       "      <td>Sewell</td>\n",
       "      <td>Polarized Butterfly Sunglasses (Free Size)</td>\n",
       "      <td>₹616</td>\n",
       "      <td>69% off</td>\n",
       "    </tr>\n",
       "    <tr>\n",
       "      <th>24</th>\n",
       "      <td>ROYAL SON</td>\n",
       "      <td>UV Protection, Gradient Butterfly Sunglasses (52)</td>\n",
       "      <td>₹664</td>\n",
       "      <td>66% off</td>\n",
       "    </tr>\n",
       "    <tr>\n",
       "      <th>25</th>\n",
       "      <td>Fastrack</td>\n",
       "      <td>UV Protection Wayfarer Sunglasses (55)</td>\n",
       "      <td>₹721</td>\n",
       "      <td>9% off</td>\n",
       "    </tr>\n",
       "    <tr>\n",
       "      <th>26</th>\n",
       "      <td>Rich Club</td>\n",
       "      <td>UV Protection, Others Round Sunglasses (48)</td>\n",
       "      <td>₹260</td>\n",
       "      <td>67% off</td>\n",
       "    </tr>\n",
       "    <tr>\n",
       "      <th>27</th>\n",
       "      <td>Sewell</td>\n",
       "      <td>Polarized Butterfly Sunglasses (Free Size)</td>\n",
       "      <td>₹616</td>\n",
       "      <td>69% off</td>\n",
       "    </tr>\n",
       "    <tr>\n",
       "      <th>28</th>\n",
       "      <td>Fastrack</td>\n",
       "      <td>UV Protection Aviator Sunglasses (58)</td>\n",
       "      <td>₹1,169</td>\n",
       "      <td>10% off</td>\n",
       "    </tr>\n",
       "    <tr>\n",
       "      <th>29</th>\n",
       "      <td>Elligator</td>\n",
       "      <td>UV Protection Retro Square, Round Sunglasses (54)</td>\n",
       "      <td>₹329</td>\n",
       "      <td>83% off</td>\n",
       "    </tr>\n",
       "    <tr>\n",
       "      <th>30</th>\n",
       "      <td>SHAAH COLLECTIONS</td>\n",
       "      <td>UV Protection Round Sunglasses (Free Size)</td>\n",
       "      <td>₹307</td>\n",
       "      <td>81% off</td>\n",
       "    </tr>\n",
       "    <tr>\n",
       "      <th>31</th>\n",
       "      <td>ROYAL SON</td>\n",
       "      <td>UV Protection Over-sized Sunglasses (61)</td>\n",
       "      <td>₹699</td>\n",
       "      <td>65% off</td>\n",
       "    </tr>\n",
       "    <tr>\n",
       "      <th>32</th>\n",
       "      <td>ROZZETTA CRAFT</td>\n",
       "      <td>UV Protection, Gradient Rectangular Sunglasses...</td>\n",
       "      <td>₹449</td>\n",
       "      <td>77% off</td>\n",
       "    </tr>\n",
       "    <tr>\n",
       "      <th>33</th>\n",
       "      <td>VINCENT CHASE</td>\n",
       "      <td>by Lenskart Polarized, UV Protection Cat-eye S...</td>\n",
       "      <td>₹949</td>\n",
       "      <td>52% off</td>\n",
       "    </tr>\n",
       "    <tr>\n",
       "      <th>34</th>\n",
       "      <td>Fastrack</td>\n",
       "      <td>UV Protection Sports Sunglasses (Free Size)</td>\n",
       "      <td>₹759</td>\n",
       "      <td>15% off</td>\n",
       "    </tr>\n",
       "    <tr>\n",
       "      <th>35</th>\n",
       "      <td>ROYAL SON</td>\n",
       "      <td>Mirrored Aviator Sunglasses (55)</td>\n",
       "      <td>₹379</td>\n",
       "      <td>74% off</td>\n",
       "    </tr>\n",
       "    <tr>\n",
       "      <th>36</th>\n",
       "      <td>AISLIN</td>\n",
       "      <td>UV Protection, Gradient Oval Sunglasses (58)</td>\n",
       "      <td>₹498</td>\n",
       "      <td>67% off</td>\n",
       "    </tr>\n",
       "    <tr>\n",
       "      <th>37</th>\n",
       "      <td>Fastrack</td>\n",
       "      <td>UV Protection Shield Sunglasses (Free Size)</td>\n",
       "      <td>₹809</td>\n",
       "      <td>10% off</td>\n",
       "    </tr>\n",
       "    <tr>\n",
       "      <th>38</th>\n",
       "      <td>HAMIW COLLECTION</td>\n",
       "      <td>UV Protection Wayfarer, Sports, Shield, Rectan...</td>\n",
       "      <td>₹219</td>\n",
       "      <td>89% off</td>\n",
       "    </tr>\n",
       "    <tr>\n",
       "      <th>39</th>\n",
       "      <td>VINCENT CHASE</td>\n",
       "      <td>by Lenskart Polarized, UV Protection Cat-eye S...</td>\n",
       "      <td>₹799</td>\n",
       "      <td>60% off</td>\n",
       "    </tr>\n",
       "  </tbody>\n",
       "</table>\n",
       "</div>"
      ],
      "text/plain": [
       "                Brand                                         Decription  \\\n",
       "0        Silver Kartz      UV Protection Wayfarer Sunglasses (Free Size)   \n",
       "1           ROYAL SON  UV Protection, Gradient Butterfly Sunglasses (62)   \n",
       "2       VINCENT CHASE  by Lenskart Polarized, UV Protection Rectangul...   \n",
       "3         john jacobs             UV Protection Wayfarer Sunglasses (46)   \n",
       "4        CRYSTAL CART  Polarized, UV Protection, Mirrored, Gradient R...   \n",
       "5          Lee Topper         UV Protection Round Sunglasses (Free Size)   \n",
       "6           Elligator  UV Protection, Riding Glasses Rectangular, Ret...   \n",
       "7             Arnette                        Others Oval Sunglasses (53)   \n",
       "8        Singco India  Gradient, Toughened Glass Lens, UV Protection ...   \n",
       "9           ROYAL SON                   Mirrored Aviator Sunglasses (55)   \n",
       "10         LIZA ANGEL  UV Protection, Night Vision, Riding Glasses Ro...   \n",
       "11             AISLIN  UV Protection, Gradient Cat-eye, Oval Sunglass...   \n",
       "12     kingsunglasses          UV Protection Rectangular Sunglasses (55)   \n",
       "13          ROYAL SON                   Mirrored Aviator Sunglasses (58)   \n",
       "14           Fastrack      UV Protection Wayfarer Sunglasses (Free Size)   \n",
       "15          ROYAL SON    Polarized, UV Protection Sports Sunglasses (68)   \n",
       "16             PIRASO              UV Protection Aviator Sunglasses (54)   \n",
       "17                 Mi          Polarized Wayfarer Sunglasses (Free Size)   \n",
       "18          ROYAL SON              Polarized Rectangular Sunglasses (60)   \n",
       "19          ROYAL SON  Polarized, UV Protection Wrap-around Sunglasse...   \n",
       "20           Fastrack                UV Protection Round Sunglasses (55)   \n",
       "21          New Specs   UV Protection Rectangular Sunglasses (Free Size)   \n",
       "22             AISLIN  UV Protection, Gradient Butterfly, Retro Squar...   \n",
       "23             Sewell         Polarized Butterfly Sunglasses (Free Size)   \n",
       "24          ROYAL SON  UV Protection, Gradient Butterfly Sunglasses (52)   \n",
       "25           Fastrack             UV Protection Wayfarer Sunglasses (55)   \n",
       "26          Rich Club        UV Protection, Others Round Sunglasses (48)   \n",
       "27             Sewell         Polarized Butterfly Sunglasses (Free Size)   \n",
       "28           Fastrack              UV Protection Aviator Sunglasses (58)   \n",
       "29          Elligator  UV Protection Retro Square, Round Sunglasses (54)   \n",
       "30  SHAAH COLLECTIONS         UV Protection Round Sunglasses (Free Size)   \n",
       "31          ROYAL SON           UV Protection Over-sized Sunglasses (61)   \n",
       "32     ROZZETTA CRAFT  UV Protection, Gradient Rectangular Sunglasses...   \n",
       "33      VINCENT CHASE  by Lenskart Polarized, UV Protection Cat-eye S...   \n",
       "34           Fastrack        UV Protection Sports Sunglasses (Free Size)   \n",
       "35          ROYAL SON                   Mirrored Aviator Sunglasses (55)   \n",
       "36             AISLIN       UV Protection, Gradient Oval Sunglasses (58)   \n",
       "37           Fastrack        UV Protection Shield Sunglasses (Free Size)   \n",
       "38   HAMIW COLLECTION  UV Protection Wayfarer, Sports, Shield, Rectan...   \n",
       "39      VINCENT CHASE  by Lenskart Polarized, UV Protection Cat-eye S...   \n",
       "\n",
       "     Price Discount  \n",
       "0     ₹288  80% off  \n",
       "1     ₹699  65% off  \n",
       "2     ₹749  62% off  \n",
       "3   ₹3,000  50% off  \n",
       "4     ₹529  74% off  \n",
       "5     ₹245  75% off  \n",
       "6     ₹379  74% off  \n",
       "7   ₹3,199  49% off  \n",
       "8     ₹598  80% off  \n",
       "9     ₹379  74% off  \n",
       "10    ₹199  75% off  \n",
       "11    ₹498  70% off  \n",
       "12    ₹189  85% off  \n",
       "13    ₹379  74% off  \n",
       "14    ₹849  15% off  \n",
       "15  ₹1,234  50% off  \n",
       "16    ₹223  86% off  \n",
       "17    ₹849  15% off  \n",
       "18    ₹664  66% off  \n",
       "19    ₹799  60% off  \n",
       "20    ₹949   5% off  \n",
       "21    ₹189  88% off  \n",
       "22    ₹498  67% off  \n",
       "23    ₹616  69% off  \n",
       "24    ₹664  66% off  \n",
       "25    ₹721   9% off  \n",
       "26    ₹260  67% off  \n",
       "27    ₹616  69% off  \n",
       "28  ₹1,169  10% off  \n",
       "29    ₹329  83% off  \n",
       "30    ₹307  81% off  \n",
       "31    ₹699  65% off  \n",
       "32    ₹449  77% off  \n",
       "33    ₹949  52% off  \n",
       "34    ₹759  15% off  \n",
       "35    ₹379  74% off  \n",
       "36    ₹498  67% off  \n",
       "37    ₹809  10% off  \n",
       "38    ₹219  89% off  \n",
       "39    ₹799  60% off  "
      ]
     },
     "execution_count": 108,
     "metadata": {},
     "output_type": "execute_result"
    }
   ],
   "source": [
    "sunglasses = pd.DataFrame()\n",
    "sunglasses [\"Brand\"] = brand_titles \n",
    "sunglasses [\"Decription\"] = description\n",
    "sunglasses [\"Price\"] = price\n",
    "sunglasses [\"Discount\"] = discount\n",
    "sunglasses\n",
    "sunglasses[0:100]"
   ]
  },
  {
   "cell_type": "code",
   "execution_count": 180,
   "id": "f03cbfe2",
   "metadata": {},
   "outputs": [],
   "source": [
    "import selenium\n",
    "from selenium import webdriver\n",
    "import pandas as pd\n",
    "import warnings\n",
    "warnings.filterwarnings(\"ignore\")\n",
    "from selenium.webdriver.common.by import By"
   ]
  },
  {
   "cell_type": "code",
   "execution_count": 4,
   "id": "f9ee99a9",
   "metadata": {},
   "outputs": [],
   "source": [
    "driver = webdriver.Chrome(r'C:\\Users\\Harshit Gupta\\Downloads\\chromedriver.exe')"
   ]
  },
  {
   "cell_type": "code",
   "execution_count": 5,
   "id": "397738fa",
   "metadata": {},
   "outputs": [],
   "source": [
    "url = \"https://www.flipkart.com/\"\n",
    "driver.get(url)"
   ]
  },
  {
   "cell_type": "code",
   "execution_count": 6,
   "id": "a43fc6ca",
   "metadata": {},
   "outputs": [
    {
     "data": {
      "text/plain": [
       "<selenium.webdriver.remote.webelement.WebElement (session=\"2589130ccdc5a23bf03f9be477042fcd\", element=\"508d00c3-0e63-4557-94b7-651e97b447b5\")>"
      ]
     },
     "execution_count": 6,
     "metadata": {},
     "output_type": "execute_result"
    }
   ],
   "source": [
    "search_field = driver.find_element(By.CLASS_NAME,\"_3704LK\")\n",
    "search_field"
   ]
  },
  {
   "cell_type": "code",
   "execution_count": 7,
   "id": "d5bc2198",
   "metadata": {},
   "outputs": [],
   "source": [
    "search_field.send_keys(\"iphone11\")"
   ]
  },
  {
   "cell_type": "code",
   "execution_count": 8,
   "id": "9245e77e",
   "metadata": {},
   "outputs": [
    {
     "data": {
      "text/plain": [
       "<selenium.webdriver.remote.webelement.WebElement (session=\"2589130ccdc5a23bf03f9be477042fcd\", element=\"331134aa-3779-4e18-aa2a-ed7791e35e98\")>"
      ]
     },
     "execution_count": 8,
     "metadata": {},
     "output_type": "execute_result"
    }
   ],
   "source": [
    "search_btn = driver.find_element(By.XPATH,\"/html/body/div[1]/div/div[1]/div[1]/div[2]/div[2]/form/div/button\")\n",
    "search_btn"
   ]
  },
  {
   "cell_type": "code",
   "execution_count": 9,
   "id": "0bdbc4c8",
   "metadata": {},
   "outputs": [],
   "source": [
    "search_btn.click()"
   ]
  },
  {
   "cell_type": "code",
   "execution_count": 24,
   "id": "35d13437",
   "metadata": {},
   "outputs": [
    {
     "data": {
      "text/plain": [
       "['APPLE iPhone 11 (White, 128 GB)']"
      ]
     },
     "execution_count": 24,
     "metadata": {},
     "output_type": "execute_result"
    }
   ],
   "source": [
    "title_tags = driver.find_elements(By.XPATH,'/html/body/div[1]/div/div[3]/div[1]/div[2]/div[2]/div/div/div/a/div[2]/div[1]/div[1]')\n",
    "title_tags\n",
    "\n",
    "mobile = []\n",
    "\n",
    "for i in title_tags:\n",
    "    mobile.append(i.text)\n",
    "mobile"
   ]
  },
  {
   "cell_type": "code",
   "execution_count": 26,
   "id": "ff2f566f",
   "metadata": {},
   "outputs": [],
   "source": [
    "driver = webdriver.Chrome(r'C:\\Users\\Harshit Gupta\\Downloads\\chromedriver.exe')"
   ]
  },
  {
   "cell_type": "code",
   "execution_count": 27,
   "id": "ffd70725",
   "metadata": {},
   "outputs": [],
   "source": [
    "url = \"https://www.flipkart.com/\"\n",
    "driver.get(url)"
   ]
  },
  {
   "cell_type": "code",
   "execution_count": 28,
   "id": "0499b47c",
   "metadata": {},
   "outputs": [
    {
     "data": {
      "text/plain": [
       "<selenium.webdriver.remote.webelement.WebElement (session=\"1be7ea1382b8c02f1b1bbc08f49160cd\", element=\"13cd2056-28e2-4aa2-a6ce-e9627d698216\")>"
      ]
     },
     "execution_count": 28,
     "metadata": {},
     "output_type": "execute_result"
    }
   ],
   "source": [
    "search_field = driver.find_element(By.CLASS_NAME,\"_3704LK\")\n",
    "search_field"
   ]
  },
  {
   "cell_type": "code",
   "execution_count": 29,
   "id": "fab8647d",
   "metadata": {},
   "outputs": [],
   "source": [
    "search_field.send_keys(\"sneakers\")"
   ]
  },
  {
   "cell_type": "code",
   "execution_count": 30,
   "id": "a1b88fad",
   "metadata": {},
   "outputs": [
    {
     "data": {
      "text/plain": [
       "<selenium.webdriver.remote.webelement.WebElement (session=\"1be7ea1382b8c02f1b1bbc08f49160cd\", element=\"f166e4fa-d911-4133-9737-9f5ccd99a705\")>"
      ]
     },
     "execution_count": 30,
     "metadata": {},
     "output_type": "execute_result"
    }
   ],
   "source": [
    "search_btn = driver.find_element(By.XPATH,\"/html/body/div[1]/div/div[1]/div[1]/div[2]/div[2]/form/div/button\")\n",
    "search_btn"
   ]
  },
  {
   "cell_type": "code",
   "execution_count": 31,
   "id": "67feb408",
   "metadata": {},
   "outputs": [],
   "source": [
    "search_btn.click()"
   ]
  },
  {
   "cell_type": "code",
   "execution_count": 34,
   "id": "b9b7ef71",
   "metadata": {},
   "outputs": [
    {
     "data": {
      "text/plain": [
       "['BRUTON',\n",
       " 'URBANBOX',\n",
       " 'Magnolia',\n",
       " 'PUMA',\n",
       " 'BIRDE',\n",
       " 'HOTSTYLE',\n",
       " 'aadi',\n",
       " 'BRUTON',\n",
       " 'Labbin',\n",
       " 'BIRDE',\n",
       " 'ONECENTRE',\n",
       " 'PUMA',\n",
       " 'Kraasa',\n",
       " 'CLYMB',\n",
       " 'BIRDE',\n",
       " 'KWIK FIT',\n",
       " 'PUMA',\n",
       " 'D-SNEAKERZ',\n",
       " 'Kraasa',\n",
       " 'PUMA',\n",
       " 'BIRDE',\n",
       " 'BRUTON',\n",
       " 'BIRDE',\n",
       " 'Kzaara',\n",
       " 'corsac',\n",
       " 'Chevit',\n",
       " 'KNIGHT WALKERS',\n",
       " 'Kraasa',\n",
       " 'BRUTON',\n",
       " 'SCATCHITE',\n",
       " 'BRUTON',\n",
       " 'Shoes Bank',\n",
       " 'Airland',\n",
       " 'Magnolia',\n",
       " 'PUMA',\n",
       " 'SFR',\n",
       " 'aadi',\n",
       " 'Rzisbo',\n",
       " 'aadi',\n",
       " 'Robbie jones']"
      ]
     },
     "execution_count": 34,
     "metadata": {},
     "output_type": "execute_result"
    }
   ],
   "source": [
    "brand_tags = driver.find_elements(By.XPATH,'//div[@class=\"_2WkVRV\"]')\n",
    "len(brand_tags)\n",
    "\n",
    "brand_titles = []\n",
    "\n",
    "for i in brand_tags:\n",
    "    brand_titles.append(i.text)\n",
    "brand_titles"
   ]
  },
  {
   "cell_type": "code",
   "execution_count": 33,
   "id": "fbfc0f9c",
   "metadata": {},
   "outputs": [
    {
     "data": {
      "text/plain": [
       "38"
      ]
     },
     "execution_count": 33,
     "metadata": {},
     "output_type": "execute_result"
    }
   ],
   "source": [
    "company_tags = driver.find_elements(By.XPATH,'//a[@class=\"IRpwTa\"]')\n",
    "len(company_tags)"
   ]
  },
  {
   "cell_type": "code",
   "execution_count": 35,
   "id": "7c725a7b",
   "metadata": {},
   "outputs": [
    {
     "data": {
      "text/plain": [
       "['Modern Trendy Sneakers Shoes Sneakers For Men',\n",
       " 'Sneakers For Men',\n",
       " 'Puma Smash v2 L Sneakers For Men',\n",
       " 'Stylish Comfortable Lightweight, Breathable Walking Sho...',\n",
       " 'Sneakers For Men',\n",
       " 'Sneakers For Men',\n",
       " 'Modern Trendy Sneakers Shoes Sneakers For Men',\n",
       " 'Sneakers For Men',\n",
       " 'Sports Running Shoes Sneakers For Men',\n",
       " 'STR2 Sneakers For Men',\n",
       " 'Puma Smash v2 L Sneakers For Men',\n",
       " 'Shark-41 Sneakers For Men',\n",
       " 'Sneakers For Men',\n",
       " 'Stylish Comfortable Lightweight, Breathable Walking Sho...',\n",
       " 'Kwik FIT casual sneaker shoes and partywear shoes Casua...',\n",
       " 'Smash v2 L Sneakers For Men',\n",
       " \"Casual , Partywear Sneakers Shoes For Men's And Boys Wh...\",\n",
       " 'Casuals, Canvas, Partywear Sneakers For Men',\n",
       " 'Puma Smash v2 L Sneakers For Men',\n",
       " 'Stylish Comfortable Lightweight, Breathable Walking Sho...',\n",
       " 'Lightweight Pack Of 1 Trendy Sneakers Sneakers For Men',\n",
       " 'Stylish Comfortable Lightweight, Breathable Casual Walk...',\n",
       " 'Sneakers For Men',\n",
       " 'STYLISH MENS BLACK SNEAKER Sneakers For Men',\n",
       " 'Super Stylish & Trendy Combo Pack of 02 Pairs Sneakers ...',\n",
       " 'SS1100 Sneakers For Men',\n",
       " 'Series 7 Sneakers For Men',\n",
       " 'Sneaker Sneakers For Men',\n",
       " 'Sneakers Sneakers For Men',\n",
       " 'Lattest Sneakers Shoe Sneakers For Men',\n",
       " \"White Sneaker For Men's/Boy's Sneakers For Men\",\n",
       " 'sneaker men red 1258 - 10 Sneakers For Men',\n",
       " 'Sneakers For Men',\n",
       " 'Blend Sneakers For Men',\n",
       " 'Mesh | Ultralightweight | Comfortable | Breathable Walk...',\n",
       " 'Sneakers For Men',\n",
       " 'Sneakers For Men',\n",
       " 'Casual Sneakers Canvas Shoes For Men Sneakers For Men']"
      ]
     },
     "execution_count": 35,
     "metadata": {},
     "output_type": "execute_result"
    }
   ],
   "source": [
    "description = []\n",
    "\n",
    "for i in company_tags:\n",
    "    description.append(i.text)\n",
    "description"
   ]
  },
  {
   "cell_type": "code",
   "execution_count": 36,
   "id": "ed0bf544",
   "metadata": {},
   "outputs": [
    {
     "data": {
      "text/plain": [
       "40"
      ]
     },
     "execution_count": 36,
     "metadata": {},
     "output_type": "execute_result"
    }
   ],
   "source": [
    "price_tag = driver.find_elements(By.XPATH,'//div[@class=\"_30jeq3\"]')\n",
    "len(price_tag)"
   ]
  },
  {
   "cell_type": "code",
   "execution_count": 37,
   "id": "6ac33399",
   "metadata": {},
   "outputs": [
    {
     "data": {
      "text/plain": [
       "['₹269',\n",
       " '₹198',\n",
       " '₹399',\n",
       " '₹1,659',\n",
       " '₹378',\n",
       " '₹258',\n",
       " '₹319',\n",
       " '₹299',\n",
       " '₹449',\n",
       " '₹249',\n",
       " '₹299',\n",
       " '₹2,036',\n",
       " '₹479',\n",
       " '₹519',\n",
       " '₹335',\n",
       " '₹397',\n",
       " '₹1,819',\n",
       " '₹399',\n",
       " '₹479',\n",
       " '₹1,557',\n",
       " '₹419',\n",
       " '₹199',\n",
       " '₹314',\n",
       " '₹254',\n",
       " '₹474',\n",
       " '₹649',\n",
       " '₹664',\n",
       " '₹479',\n",
       " '₹269',\n",
       " '₹398',\n",
       " '₹284',\n",
       " '₹298',\n",
       " '₹224',\n",
       " '₹399',\n",
       " '₹1,559',\n",
       " '₹299',\n",
       " '₹799',\n",
       " '₹464',\n",
       " '₹299',\n",
       " '₹449']"
      ]
     },
     "execution_count": 37,
     "metadata": {},
     "output_type": "execute_result"
    }
   ],
   "source": [
    "price = []\n",
    "\n",
    "for i in price_tag:\n",
    "    price.append(i.text)\n",
    "price"
   ]
  },
  {
   "cell_type": "code",
   "execution_count": 38,
   "id": "063ff998",
   "metadata": {},
   "outputs": [
    {
     "data": {
      "text/plain": [
       "<selenium.webdriver.remote.webelement.WebElement (session=\"1be7ea1382b8c02f1b1bbc08f49160cd\", element=\"6ecc37a4-a05a-401d-96f7-4c169a147d1a\")>"
      ]
     },
     "execution_count": 38,
     "metadata": {},
     "output_type": "execute_result"
    }
   ],
   "source": [
    "next_btn = driver.find_element(By.XPATH,\"/html/body/div[1]/div/div[3]/div[1]/div[2]/div[12]/div/div/nav/a[11]\")\n",
    "next_btn"
   ]
  },
  {
   "cell_type": "code",
   "execution_count": 39,
   "id": "bc05a9a8",
   "metadata": {},
   "outputs": [],
   "source": [
    "next_btn.click()"
   ]
  },
  {
   "cell_type": "code",
   "execution_count": 40,
   "id": "690c2e75",
   "metadata": {},
   "outputs": [
    {
     "data": {
      "text/plain": [
       "['Dizzler',\n",
       " 'Robbie jones',\n",
       " 'PEXLO',\n",
       " 'Noztile',\n",
       " 'PUMA',\n",
       " 'AMICO',\n",
       " 'LE GREEM',\n",
       " 'PEXLO',\n",
       " 'BRUTON',\n",
       " 'WHITE WALKERS',\n",
       " 'Airland',\n",
       " 'Numenzo',\n",
       " 'SPARX',\n",
       " 'luxury fashion',\n",
       " 'Layasa',\n",
       " 'Roadster',\n",
       " 'ASTEROID',\n",
       " 'luxury fashion',\n",
       " 'Chevit',\n",
       " 'Stinson',\n",
       " 'Aragats',\n",
       " 'India hub',\n",
       " 'PUMA',\n",
       " 'Layasa',\n",
       " 'Layasa',\n",
       " 'LE GREEM',\n",
       " 'Magnolia',\n",
       " 'WHITE WALKERS',\n",
       " 'ROCKFIELD',\n",
       " 'KNIGHT WALKERS',\n",
       " 'Numenzo',\n",
       " 'Eiffel',\n",
       " 'BRUTON',\n",
       " 'aadi',\n",
       " 'URBANBOX',\n",
       " 'CLYMB',\n",
       " 'KNIGHT WALKERS',\n",
       " 'WHITE WALKERS',\n",
       " 'DUNKASTON',\n",
       " 'SPARX']"
      ]
     },
     "execution_count": 40,
     "metadata": {},
     "output_type": "execute_result"
    }
   ],
   "source": [
    "brand_tags = driver.find_elements(By.XPATH,'//div[@class=\"_2WkVRV\"]')\n",
    "brand_tags\n",
    "\n",
    "brand_titles = []\n",
    "\n",
    "for i in brand_tags:\n",
    "    brand_titles.append(i.text)\n",
    "brand_titles"
   ]
  },
  {
   "cell_type": "code",
   "execution_count": 41,
   "id": "ca54ffa7",
   "metadata": {},
   "outputs": [
    {
     "data": {
      "text/plain": [
       "33"
      ]
     },
     "execution_count": 41,
     "metadata": {},
     "output_type": "execute_result"
    }
   ],
   "source": [
    "company_tags = driver.find_elements(By.XPATH,'//a[@class=\"IRpwTa\"]')\n",
    "len(company_tags)"
   ]
  },
  {
   "cell_type": "code",
   "execution_count": 42,
   "id": "471782c6",
   "metadata": {},
   "outputs": [
    {
     "data": {
      "text/plain": [
       "['Casual Sneakers Canvas Shoes For Men Sneakers For Men',\n",
       " 'Combo Pack of 3 Casual Shoes, Sneakers For Men',\n",
       " 'Sneakers For Men',\n",
       " 'ST Activate V2 Sneakers For Men',\n",
       " 'Sneakers For Men',\n",
       " 'Comfortable & Ultra Light Weight Sneaker Sneakers For M...',\n",
       " 'Combo Pack of 3 Casual Shoes Sneakers For Men',\n",
       " 'Combo Pack Of 2 Latest Stylish Casual Shoes for Men Lac...',\n",
       " 'Stylish & Trending Outdoor Walking Comfortable Sneakers...',\n",
       " '1259 smart black lace-ups sneakers for men Sneakers For...',\n",
       " 'Sneakers For Men',\n",
       " 'Sneakers For Men',\n",
       " 'Sneakers For Men',\n",
       " 'Original Luxury Branded Black Fancy Casual Walking Part...',\n",
       " 'Luxury Fashionable casual sneaker shoes Sneakers For Me...',\n",
       " \"Men's Combo Pack of 02 Shoes for Men Casual Sneakers Ou...\",\n",
       " 'Casual Sneakers For Men',\n",
       " 'Luxury Fashionable casual sneaker shoes Sneakers For Me...',\n",
       " 'Blend Sneakers For Men',\n",
       " 'Sneakers For Men',\n",
       " 'Sneakers For Men',\n",
       " 'Comfortable & Ultra Light Weight Sneaker Sneakers For M...',\n",
       " 'Sneakers For Men',\n",
       " 'Stylish & Trending Outdoor Walking Comfortable Sneakers...',\n",
       " 'Sneakers For Men',\n",
       " 'Sneakers For Men',\n",
       " '411 Casual Sneakers For Men',\n",
       " 'Modern Trendy Sneakers Shoes Sneakers For Men',\n",
       " 'Sneakers For Men',\n",
       " 'Mesh Running/Walking Shoes/Outdoor Ultra Lightweight Sn...',\n",
       " 'Stylish & Trending Outdoor Walking Comfortable Sneakers...',\n",
       " 'Casual Trendy Sneaker Casual Shoes For Men Casuals For ...',\n",
       " 'SD0323G -Canvas Shoes For Men- (White, Black) #1 Sneake...']"
      ]
     },
     "execution_count": 42,
     "metadata": {},
     "output_type": "execute_result"
    }
   ],
   "source": [
    "description = []\n",
    "\n",
    "for i in company_tags:\n",
    "    description.append(i.text)\n",
    "description"
   ]
  },
  {
   "cell_type": "code",
   "execution_count": 43,
   "id": "226108de",
   "metadata": {},
   "outputs": [
    {
     "data": {
      "text/plain": [
       "40"
      ]
     },
     "execution_count": 43,
     "metadata": {},
     "output_type": "execute_result"
    }
   ],
   "source": [
    "price_tag = driver.find_elements(By.XPATH,'//div[@class=\"_30jeq3\"]')\n",
    "len(price_tag)"
   ]
  },
  {
   "cell_type": "code",
   "execution_count": 44,
   "id": "ce748d5f",
   "metadata": {},
   "outputs": [
    {
     "data": {
      "text/plain": [
       "['₹449',\n",
       " '₹449',\n",
       " '₹670',\n",
       " '₹399',\n",
       " '₹1,399',\n",
       " '₹494',\n",
       " '₹424',\n",
       " '₹633',\n",
       " '₹499',\n",
       " '₹599',\n",
       " '₹210',\n",
       " '₹539',\n",
       " '₹715',\n",
       " '₹426',\n",
       " '₹499',\n",
       " '₹1,189',\n",
       " '₹499',\n",
       " '₹399',\n",
       " '₹466',\n",
       " '₹229',\n",
       " '₹521',\n",
       " '₹448',\n",
       " '₹1,559',\n",
       " '₹399',\n",
       " '₹499',\n",
       " '₹424',\n",
       " '₹399',\n",
       " '₹599',\n",
       " '₹299',\n",
       " '₹615',\n",
       " '₹450',\n",
       " '₹388',\n",
       " '₹299',\n",
       " '₹319',\n",
       " '₹179',\n",
       " '₹249',\n",
       " '₹699',\n",
       " '₹599',\n",
       " '₹449',\n",
       " '₹721']"
      ]
     },
     "execution_count": 44,
     "metadata": {},
     "output_type": "execute_result"
    }
   ],
   "source": [
    "price = []\n",
    "\n",
    "for i in price_tag:\n",
    "    price.append(i.text)\n",
    "price"
   ]
  },
  {
   "cell_type": "code",
   "execution_count": 45,
   "id": "821ba42b",
   "metadata": {},
   "outputs": [
    {
     "data": {
      "text/plain": [
       "<selenium.webdriver.remote.webelement.WebElement (session=\"1be7ea1382b8c02f1b1bbc08f49160cd\", element=\"6ecc37a4-a05a-401d-96f7-4c169a147d1a\")>"
      ]
     },
     "execution_count": 45,
     "metadata": {},
     "output_type": "execute_result"
    }
   ],
   "source": [
    "next_btn = driver.find_element(By.XPATH,\"/html/body/div[1]/div/div[3]/div[1]/div[2]/div[12]/div/div/nav/a[12]\")\n",
    "next_btn"
   ]
  },
  {
   "cell_type": "code",
   "execution_count": 46,
   "id": "c7c57a7a",
   "metadata": {},
   "outputs": [],
   "source": [
    "next_btn.click()"
   ]
  },
  {
   "cell_type": "code",
   "execution_count": 47,
   "id": "fc7588d9",
   "metadata": {},
   "outputs": [
    {
     "data": {
      "text/plain": [
       "['U.S. POLO ASSN.',\n",
       " 'Chevit',\n",
       " 'Kzaara',\n",
       " 'Scull Wings',\n",
       " 'PUMA',\n",
       " 'BAUCHHAAR',\n",
       " 'Bretton',\n",
       " 'ZF - ALFIYA',\n",
       " 'Robbie jones',\n",
       " 'corsac',\n",
       " 'ZF Klub',\n",
       " 'Navtrend',\n",
       " 'BAUCHHAAR',\n",
       " 'PUMA',\n",
       " 'Xtoon',\n",
       " \"'Trends'\",\n",
       " 'Stefano Rads',\n",
       " 'Robbie jones',\n",
       " 'aadi',\n",
       " 'HOTSTYLE',\n",
       " 'PUMA',\n",
       " 'BRUTON',\n",
       " 'RapidBox',\n",
       " 'STRANGER BROTHERS',\n",
       " 'RapidBox',\n",
       " 'PUMA',\n",
       " \"'Fashion'\",\n",
       " 'STRANGER BROTHERS',\n",
       " 'T-ROCK',\n",
       " 'SPARX',\n",
       " 'Strollin',\n",
       " 'Echor',\n",
       " 'T-ROCK',\n",
       " 'PROVOGUE',\n",
       " \"K' Footlance\",\n",
       " 'KWIK FIT',\n",
       " 'Edoeviv',\n",
       " 'Hot & Knot',\n",
       " 'ADIDAS',\n",
       " 'CALCADOS']"
      ]
     },
     "execution_count": 47,
     "metadata": {},
     "output_type": "execute_result"
    }
   ],
   "source": [
    "brand_tags = driver.find_elements(By.XPATH,'//div[@class=\"_2WkVRV\"]')\n",
    "brand_tags\n",
    "\n",
    "brand_titles = []\n",
    "\n",
    "for i in brand_tags:\n",
    "    brand_titles.append(i.text)\n",
    "brand_titles"
   ]
  },
  {
   "cell_type": "code",
   "execution_count": 56,
   "id": "8e2c331d",
   "metadata": {},
   "outputs": [
    {
     "data": {
      "text/plain": [
       "28"
      ]
     },
     "execution_count": 56,
     "metadata": {},
     "output_type": "execute_result"
    }
   ],
   "source": [
    "company_tags = driver.find_elements(By.XPATH,'//a[@class=\"IRpwTa\"]')\n",
    "len(company_tags)"
   ]
  },
  {
   "cell_type": "code",
   "execution_count": 49,
   "id": "0b30c993",
   "metadata": {},
   "outputs": [
    {
     "data": {
      "text/plain": [
       "['CLARKIN Sneakers For Men',\n",
       " 'Sneakers For Men',\n",
       " 'Trinity Sneakers For Men',\n",
       " 'Sneakers For Men',\n",
       " 'Sneakers For Men',\n",
       " 'Casual Sneakers White Shoes For Men Sneakers For Men',\n",
       " 'STYLISH MENS BLACK TRENDY SNEAKER FOR MENS Sneakers For...',\n",
       " 'Sneakers For Men',\n",
       " 'Sneakers For Men',\n",
       " 'Sneakers For Men',\n",
       " 'Brave Sneakers For Men',\n",
       " 'Sneakers For Men',\n",
       " 'Casual sneaker fashionable shoes for men. Sneakers For ...',\n",
       " 'Sneakers For Men',\n",
       " 'Sneakers For Men',\n",
       " 'Modern Trendy Sneakers Shoes Sneakers For Men',\n",
       " 'x KL Seattle Sneakers For Men',\n",
       " 'Casual sneaker fashionable shoes for men. Sneakers For ...',\n",
       " 'Stylish Party Wear Casual Sneakers Shoes For Men Sneake...',\n",
       " 'Canvas Casual Partywear Outdoor Sneakers Shoes For Mens...',\n",
       " 'Sneakers For Men',\n",
       " \"Men's Sneakers Fashion Lightweight Running Shoes Tennis...\",\n",
       " 'Stylish White Casual Walking Sneakers Shoes For Men and...',\n",
       " 'Sneakers For Men',\n",
       " 'Fashion and Stylish Soft Ultralight Lace Up Sneakers Ca...',\n",
       " 'Sneakers For Men (White) Sneakers For Men',\n",
       " 'High Top Casual Party Wear Boot Stylish Sneakers For Me...',\n",
       " 'STREET ICON M Sneakers For Men']"
      ]
     },
     "execution_count": 49,
     "metadata": {},
     "output_type": "execute_result"
    }
   ],
   "source": [
    "description = []\n",
    "\n",
    "for i in company_tags:\n",
    "    description.append(i.text)\n",
    "description"
   ]
  },
  {
   "cell_type": "code",
   "execution_count": 50,
   "id": "626d8c71",
   "metadata": {},
   "outputs": [
    {
     "data": {
      "text/plain": [
       "40"
      ]
     },
     "execution_count": 50,
     "metadata": {},
     "output_type": "execute_result"
    }
   ],
   "source": [
    "price_tag = driver.find_elements(By.XPATH,'//div[@class=\"_30jeq3\"]')\n",
    "len(price_tag)"
   ]
  },
  {
   "cell_type": "code",
   "execution_count": 51,
   "id": "dc5884c8",
   "metadata": {},
   "outputs": [
    {
     "data": {
      "text/plain": [
       "['₹1,799',\n",
       " '₹589',\n",
       " '₹254',\n",
       " '₹599',\n",
       " '₹1,819',\n",
       " '₹449',\n",
       " '₹251',\n",
       " '₹399',\n",
       " '₹449',\n",
       " '₹474',\n",
       " '₹399',\n",
       " '₹450',\n",
       " '₹405',\n",
       " '₹1,319',\n",
       " '₹499',\n",
       " '₹449',\n",
       " '₹251',\n",
       " '₹449',\n",
       " '₹399',\n",
       " '₹195',\n",
       " '₹1,899',\n",
       " '₹449',\n",
       " '₹650',\n",
       " '₹599',\n",
       " '₹630',\n",
       " '₹2,339',\n",
       " '₹474',\n",
       " '₹599',\n",
       " '₹699',\n",
       " '₹721',\n",
       " '₹474',\n",
       " '₹512',\n",
       " '₹498',\n",
       " '₹719',\n",
       " '₹499',\n",
       " '₹499',\n",
       " '₹474',\n",
       " '₹559',\n",
       " '₹1,979',\n",
       " '₹548']"
      ]
     },
     "execution_count": 51,
     "metadata": {},
     "output_type": "execute_result"
    }
   ],
   "source": [
    "price = []\n",
    "\n",
    "for i in price_tag:\n",
    "    price.append(i.text)\n",
    "price"
   ]
  },
  {
   "cell_type": "code",
   "execution_count": 55,
   "id": "de999856",
   "metadata": {},
   "outputs": [
    {
     "data": {
      "text/html": [
       "<div>\n",
       "<style scoped>\n",
       "    .dataframe tbody tr th:only-of-type {\n",
       "        vertical-align: middle;\n",
       "    }\n",
       "\n",
       "    .dataframe tbody tr th {\n",
       "        vertical-align: top;\n",
       "    }\n",
       "\n",
       "    .dataframe thead th {\n",
       "        text-align: right;\n",
       "    }\n",
       "</style>\n",
       "<table border=\"1\" class=\"dataframe\">\n",
       "  <thead>\n",
       "    <tr style=\"text-align: right;\">\n",
       "      <th></th>\n",
       "      <th>Brand</th>\n",
       "      <th>Price</th>\n",
       "    </tr>\n",
       "  </thead>\n",
       "  <tbody>\n",
       "    <tr>\n",
       "      <th>0</th>\n",
       "      <td>U.S. POLO ASSN.</td>\n",
       "      <td>₹1,799</td>\n",
       "    </tr>\n",
       "    <tr>\n",
       "      <th>1</th>\n",
       "      <td>Chevit</td>\n",
       "      <td>₹589</td>\n",
       "    </tr>\n",
       "    <tr>\n",
       "      <th>2</th>\n",
       "      <td>Kzaara</td>\n",
       "      <td>₹254</td>\n",
       "    </tr>\n",
       "    <tr>\n",
       "      <th>3</th>\n",
       "      <td>Scull Wings</td>\n",
       "      <td>₹599</td>\n",
       "    </tr>\n",
       "    <tr>\n",
       "      <th>4</th>\n",
       "      <td>PUMA</td>\n",
       "      <td>₹1,819</td>\n",
       "    </tr>\n",
       "    <tr>\n",
       "      <th>5</th>\n",
       "      <td>BAUCHHAAR</td>\n",
       "      <td>₹449</td>\n",
       "    </tr>\n",
       "    <tr>\n",
       "      <th>6</th>\n",
       "      <td>Bretton</td>\n",
       "      <td>₹251</td>\n",
       "    </tr>\n",
       "    <tr>\n",
       "      <th>7</th>\n",
       "      <td>ZF - ALFIYA</td>\n",
       "      <td>₹399</td>\n",
       "    </tr>\n",
       "    <tr>\n",
       "      <th>8</th>\n",
       "      <td>Robbie jones</td>\n",
       "      <td>₹449</td>\n",
       "    </tr>\n",
       "    <tr>\n",
       "      <th>9</th>\n",
       "      <td>corsac</td>\n",
       "      <td>₹474</td>\n",
       "    </tr>\n",
       "    <tr>\n",
       "      <th>10</th>\n",
       "      <td>ZF Klub</td>\n",
       "      <td>₹399</td>\n",
       "    </tr>\n",
       "    <tr>\n",
       "      <th>11</th>\n",
       "      <td>Navtrend</td>\n",
       "      <td>₹450</td>\n",
       "    </tr>\n",
       "    <tr>\n",
       "      <th>12</th>\n",
       "      <td>BAUCHHAAR</td>\n",
       "      <td>₹405</td>\n",
       "    </tr>\n",
       "    <tr>\n",
       "      <th>13</th>\n",
       "      <td>PUMA</td>\n",
       "      <td>₹1,319</td>\n",
       "    </tr>\n",
       "    <tr>\n",
       "      <th>14</th>\n",
       "      <td>Xtoon</td>\n",
       "      <td>₹499</td>\n",
       "    </tr>\n",
       "    <tr>\n",
       "      <th>15</th>\n",
       "      <td>'Trends'</td>\n",
       "      <td>₹449</td>\n",
       "    </tr>\n",
       "    <tr>\n",
       "      <th>16</th>\n",
       "      <td>Stefano Rads</td>\n",
       "      <td>₹251</td>\n",
       "    </tr>\n",
       "    <tr>\n",
       "      <th>17</th>\n",
       "      <td>Robbie jones</td>\n",
       "      <td>₹449</td>\n",
       "    </tr>\n",
       "    <tr>\n",
       "      <th>18</th>\n",
       "      <td>aadi</td>\n",
       "      <td>₹399</td>\n",
       "    </tr>\n",
       "    <tr>\n",
       "      <th>19</th>\n",
       "      <td>HOTSTYLE</td>\n",
       "      <td>₹195</td>\n",
       "    </tr>\n",
       "    <tr>\n",
       "      <th>20</th>\n",
       "      <td>PUMA</td>\n",
       "      <td>₹1,899</td>\n",
       "    </tr>\n",
       "    <tr>\n",
       "      <th>21</th>\n",
       "      <td>BRUTON</td>\n",
       "      <td>₹449</td>\n",
       "    </tr>\n",
       "    <tr>\n",
       "      <th>22</th>\n",
       "      <td>RapidBox</td>\n",
       "      <td>₹650</td>\n",
       "    </tr>\n",
       "    <tr>\n",
       "      <th>23</th>\n",
       "      <td>STRANGER BROTHERS</td>\n",
       "      <td>₹599</td>\n",
       "    </tr>\n",
       "    <tr>\n",
       "      <th>24</th>\n",
       "      <td>RapidBox</td>\n",
       "      <td>₹630</td>\n",
       "    </tr>\n",
       "    <tr>\n",
       "      <th>25</th>\n",
       "      <td>PUMA</td>\n",
       "      <td>₹2,339</td>\n",
       "    </tr>\n",
       "    <tr>\n",
       "      <th>26</th>\n",
       "      <td>'Fashion'</td>\n",
       "      <td>₹474</td>\n",
       "    </tr>\n",
       "    <tr>\n",
       "      <th>27</th>\n",
       "      <td>STRANGER BROTHERS</td>\n",
       "      <td>₹599</td>\n",
       "    </tr>\n",
       "    <tr>\n",
       "      <th>28</th>\n",
       "      <td>T-ROCK</td>\n",
       "      <td>₹699</td>\n",
       "    </tr>\n",
       "    <tr>\n",
       "      <th>29</th>\n",
       "      <td>SPARX</td>\n",
       "      <td>₹721</td>\n",
       "    </tr>\n",
       "    <tr>\n",
       "      <th>30</th>\n",
       "      <td>Strollin</td>\n",
       "      <td>₹474</td>\n",
       "    </tr>\n",
       "    <tr>\n",
       "      <th>31</th>\n",
       "      <td>Echor</td>\n",
       "      <td>₹512</td>\n",
       "    </tr>\n",
       "    <tr>\n",
       "      <th>32</th>\n",
       "      <td>T-ROCK</td>\n",
       "      <td>₹498</td>\n",
       "    </tr>\n",
       "    <tr>\n",
       "      <th>33</th>\n",
       "      <td>PROVOGUE</td>\n",
       "      <td>₹719</td>\n",
       "    </tr>\n",
       "    <tr>\n",
       "      <th>34</th>\n",
       "      <td>K' Footlance</td>\n",
       "      <td>₹499</td>\n",
       "    </tr>\n",
       "    <tr>\n",
       "      <th>35</th>\n",
       "      <td>KWIK FIT</td>\n",
       "      <td>₹499</td>\n",
       "    </tr>\n",
       "    <tr>\n",
       "      <th>36</th>\n",
       "      <td>Edoeviv</td>\n",
       "      <td>₹474</td>\n",
       "    </tr>\n",
       "    <tr>\n",
       "      <th>37</th>\n",
       "      <td>Hot &amp; Knot</td>\n",
       "      <td>₹559</td>\n",
       "    </tr>\n",
       "    <tr>\n",
       "      <th>38</th>\n",
       "      <td>ADIDAS</td>\n",
       "      <td>₹1,979</td>\n",
       "    </tr>\n",
       "    <tr>\n",
       "      <th>39</th>\n",
       "      <td>CALCADOS</td>\n",
       "      <td>₹548</td>\n",
       "    </tr>\n",
       "  </tbody>\n",
       "</table>\n",
       "</div>"
      ],
      "text/plain": [
       "                Brand   Price\n",
       "0     U.S. POLO ASSN.  ₹1,799\n",
       "1              Chevit    ₹589\n",
       "2              Kzaara    ₹254\n",
       "3         Scull Wings    ₹599\n",
       "4                PUMA  ₹1,819\n",
       "5           BAUCHHAAR    ₹449\n",
       "6             Bretton    ₹251\n",
       "7         ZF - ALFIYA    ₹399\n",
       "8        Robbie jones    ₹449\n",
       "9              corsac    ₹474\n",
       "10            ZF Klub    ₹399\n",
       "11           Navtrend    ₹450\n",
       "12          BAUCHHAAR    ₹405\n",
       "13               PUMA  ₹1,319\n",
       "14              Xtoon    ₹499\n",
       "15           'Trends'    ₹449\n",
       "16       Stefano Rads    ₹251\n",
       "17       Robbie jones    ₹449\n",
       "18               aadi    ₹399\n",
       "19           HOTSTYLE    ₹195\n",
       "20               PUMA  ₹1,899\n",
       "21             BRUTON    ₹449\n",
       "22           RapidBox    ₹650\n",
       "23  STRANGER BROTHERS    ₹599\n",
       "24           RapidBox    ₹630\n",
       "25               PUMA  ₹2,339\n",
       "26          'Fashion'    ₹474\n",
       "27  STRANGER BROTHERS    ₹599\n",
       "28             T-ROCK    ₹699\n",
       "29              SPARX    ₹721\n",
       "30           Strollin    ₹474\n",
       "31              Echor    ₹512\n",
       "32             T-ROCK    ₹498\n",
       "33           PROVOGUE    ₹719\n",
       "34       K' Footlance    ₹499\n",
       "35           KWIK FIT    ₹499\n",
       "36            Edoeviv    ₹474\n",
       "37         Hot & Knot    ₹559\n",
       "38             ADIDAS  ₹1,979\n",
       "39           CALCADOS    ₹548"
      ]
     },
     "execution_count": 55,
     "metadata": {},
     "output_type": "execute_result"
    }
   ],
   "source": [
    "sneakers = pd.DataFrame()\n",
    "sneakers [\"Brand\"] = brand_titles \n",
    "sneakers [\"Price\"] = price\n",
    "sneakers"
   ]
  },
  {
   "cell_type": "code",
   "execution_count": 154,
   "id": "aa74ec56",
   "metadata": {},
   "outputs": [],
   "source": [
    "driver = webdriver.Chrome(r'C:\\Users\\Harshit Gupta\\Downloads\\chromedriver.exe')\n"
   ]
  },
  {
   "cell_type": "code",
   "execution_count": 155,
   "id": "a8abf196",
   "metadata": {},
   "outputs": [],
   "source": [
    "url = \"https://www.myntra.com/shoes\"\n",
    "driver.get(url)"
   ]
  },
  {
   "cell_type": "code",
   "execution_count": 156,
   "id": "a01105a1",
   "metadata": {},
   "outputs": [],
   "source": [
    "price_check = driver.find_element(By.XPATH,\"/html/body/div[2]/div/div[1]/main/div[3]/div[1]/section/div/div[5]/ul/li[2]/label/div\")\n",
    "price_check.click()"
   ]
  },
  {
   "cell_type": "code",
   "execution_count": 157,
   "id": "5168a5e9",
   "metadata": {},
   "outputs": [],
   "source": [
    "color_check = driver.find_element(By.XPATH,\"/html/body/div[2]/div/div[1]/main/div[3]/div[1]/section/div/div[6]/ul/li[1]/label/div\")\n",
    "color_check.click()"
   ]
  },
  {
   "cell_type": "code",
   "execution_count": 131,
   "id": "36563c98",
   "metadata": {},
   "outputs": [
    {
     "data": {
      "text/plain": [
       "['Nike',\n",
       " 'Nike',\n",
       " 'Nike',\n",
       " 'ADIDAS',\n",
       " 'Nike',\n",
       " 'Skechers',\n",
       " 'Nike',\n",
       " 'UNDER ARMOUR',\n",
       " 'Skechers',\n",
       " 'New Balance',\n",
       " 'PUMA Motorsport',\n",
       " 'Hush Puppies',\n",
       " 'Hush Puppies',\n",
       " 'ADIDAS',\n",
       " 'Puma',\n",
       " 'ADIDAS',\n",
       " 'ADIDAS',\n",
       " 'Geox',\n",
       " 'Skechers',\n",
       " 'J.FONTINI',\n",
       " 'Puma',\n",
       " 'Saint G',\n",
       " 'Saint G',\n",
       " 'Puma',\n",
       " 'ADIDAS',\n",
       " 'ADIDAS Originals',\n",
       " 'Puma',\n",
       " 'Puma',\n",
       " 'Puma',\n",
       " 'ADIDAS',\n",
       " 'New Balance',\n",
       " 'UNDER ARMOUR',\n",
       " 'Puma',\n",
       " 'Clarks',\n",
       " 'UNDER ARMOUR',\n",
       " 'Geox',\n",
       " 'Geox',\n",
       " 'Geox',\n",
       " 'ASICS',\n",
       " 'Hush Puppies',\n",
       " 'Columbia',\n",
       " 'Geox',\n",
       " 'fitflop',\n",
       " 'Geox',\n",
       " 'fitflop',\n",
       " 'fitflop',\n",
       " 'ADIDAS Originals',\n",
       " 'Bugatti',\n",
       " 'Geox',\n",
       " 'Geox']"
      ]
     },
     "execution_count": 131,
     "metadata": {},
     "output_type": "execute_result"
    }
   ],
   "source": [
    "brand_tags = driver.find_elements(By.XPATH,'//h3[@class=\"product-brand\"]')\n",
    "brand_tags\n",
    "\n",
    "brnd_titles = []\n",
    "\n",
    "for i in brand_tags:\n",
    "    brnd_titles.append(i.text)\n",
    "brnd_titles"
   ]
  },
  {
   "cell_type": "code",
   "execution_count": 125,
   "id": "648c741b",
   "metadata": {},
   "outputs": [
    {
     "data": {
      "text/plain": [
       "50"
      ]
     },
     "execution_count": 125,
     "metadata": {},
     "output_type": "execute_result"
    }
   ],
   "source": [
    "company_tags = driver.find_elements(By.XPATH,'//h4[@class=\"product-product\"]')\n",
    "len(company_tags)"
   ]
  },
  {
   "cell_type": "code",
   "execution_count": 132,
   "id": "ab59523b",
   "metadata": {},
   "outputs": [
    {
     "data": {
      "text/plain": [
       "['Men React Infinity 3 Running',\n",
       " 'Women AZ PEGA38 Running Shoes',\n",
       " 'Men SRG 3 FK Training Shoes',\n",
       " 'Men Defiant Generation Tennis',\n",
       " 'Women React Escape Running',\n",
       " 'Men Sky Vault Walking Shoes',\n",
       " 'Women React MR 3 Running Shoes',\n",
       " 'Men HOVR Sonic SE Running Shoe',\n",
       " 'Men ENIGMA Running Shoes',\n",
       " 'Men Woven Design Suede Sneakers',\n",
       " 'Unisex Sneakers',\n",
       " 'Men Formal Derbys',\n",
       " 'Men Solid Leather Formal Slip-Ons',\n",
       " 'Women SL20.3 Running Shoes',\n",
       " 'Eternity Nitro Running Shoes',\n",
       " 'Men Solar Glide 4 ST Running',\n",
       " 'Men Adizero Boston 11 Running',\n",
       " 'Men Leather Sneakers',\n",
       " 'Men MAX CUSHIONING ELITE-LUCID',\n",
       " 'Men Leather Fashion',\n",
       " 'Men M Nitro Running Shoess',\n",
       " 'Leather Block',\n",
       " 'Leather High-Top Heeled Boots',\n",
       " 'Men Velocity Nitro 2 Running',\n",
       " 'Men Supernova 2 Running Shoes',\n",
       " 'Men Solid Oznova Sneakers',\n",
       " 'Women Electrify Nitro Running',\n",
       " 'Men RS-Z Molded Men Sneakers',\n",
       " 'Men Deviate Nitro Shoes',\n",
       " 'Women SN1997 Running Shoes',\n",
       " 'Men Woven Design Suede Sneakers',\n",
       " 'Women Hovr Sonic SE Run Shoes',\n",
       " 'Women Eternity NITRO Shoes',\n",
       " 'Men Leather Slip-Ons',\n",
       " 'Women Charged Breeze Running',\n",
       " 'Men Lightweight Sneakers',\n",
       " 'Textured Leather Block Pumps',\n",
       " 'Men Perforations Sneakers',\n",
       " 'Men Sports Shoes',\n",
       " 'Men Solid Leather Formal Slip-Ons',\n",
       " 'Men FACET OUTDRY Trekking Shoe',\n",
       " 'Leather Block Sandals',\n",
       " 'Embellished Leather Flatform Sandals',\n",
       " 'Men Leather Sneakers',\n",
       " 'Embellished Leather Wedge Sandals',\n",
       " 'Embellished PU Comfort Pumps',\n",
       " 'Men Ozweego Sneakers',\n",
       " 'Men Textured Leather High-Top Flat Boots',\n",
       " 'Men Leather Sneakers',\n",
       " 'Men Leather Sneakers']"
      ]
     },
     "execution_count": 132,
     "metadata": {},
     "output_type": "execute_result"
    }
   ],
   "source": [
    "desc = []\n",
    "\n",
    "for i in company_tags:\n",
    "    desc.append(i.text)\n",
    "desc"
   ]
  },
  {
   "cell_type": "code",
   "execution_count": 127,
   "id": "a8a87545",
   "metadata": {},
   "outputs": [
    {
     "data": {
      "text/plain": [
       "50"
      ]
     },
     "execution_count": 127,
     "metadata": {},
     "output_type": "execute_result"
    }
   ],
   "source": [
    "price_tag = driver.find_elements(By.XPATH,'//div[@class=\"product-price\"]')\n",
    "len(price_tag)"
   ]
  },
  {
   "cell_type": "code",
   "execution_count": 133,
   "id": "f67d732f",
   "metadata": {},
   "outputs": [
    {
     "data": {
      "text/plain": [
       "['Rs. 11196Rs. 13995(20% OFF)',\n",
       " 'Rs. 8495Rs. 9995(15% OFF)',\n",
       " 'Rs. 8895',\n",
       " 'Rs. 8999Rs. 9999(10% OFF)',\n",
       " 'Rs. 9196Rs. 11495(20% OFF)',\n",
       " 'Rs. 7199Rs. 8999(20% OFF)',\n",
       " 'Rs. 8396Rs. 10495(20% OFF)',\n",
       " 'Rs. 9999',\n",
       " 'Rs. 7124Rs. 9499(25% OFF)',\n",
       " 'Rs. 7799Rs. 12999(40% OFF)',\n",
       " 'Rs. 7499Rs. 9999(25% OFF)',\n",
       " 'Rs. 8499Rs. 9999(15% OFF)',\n",
       " 'Rs. 7649Rs. 8999(15% OFF)',\n",
       " 'Rs. 9599Rs. 11999(20% OFF)',\n",
       " 'Rs. 9099Rs. 12999(30% OFF)',\n",
       " 'Rs. 11999Rs. 14999(20% OFF)',\n",
       " 'Rs. 11199Rs. 13999(20% OFF)',\n",
       " 'Rs. 9891Rs. 10990(10% OFF)',\n",
       " 'Rs. 7599Rs. 9499(20% OFF)',\n",
       " 'Rs. 8490',\n",
       " 'Rs. 9099Rs. 12999(30% OFF)',\n",
       " 'Rs. 9975Rs. 10500(5% OFF)',\n",
       " 'Rs. 11875Rs. 12500(5% OFF)',\n",
       " 'Rs. 8249Rs. 10999(25% OFF)',\n",
       " 'Rs. 8499Rs. 9999(15% OFF)',\n",
       " 'Rs. 10799Rs. 11999(10% OFF)',\n",
       " 'Rs. 7499Rs. 9999(25% OFF)',\n",
       " 'Rs. 7499Rs. 9999(25% OFF)',\n",
       " 'Rs. 9749Rs. 14999(35% OFF)',\n",
       " 'Rs. 10399Rs. 12999(20% OFF)',\n",
       " 'Rs. 7799Rs. 12999(40% OFF)',\n",
       " 'Rs. 9999',\n",
       " 'Rs. 9099Rs. 12999(30% OFF)',\n",
       " 'Rs. 7899Rs. 9999(21% OFF)',\n",
       " 'Rs. 8999',\n",
       " 'Rs. 11990',\n",
       " 'Rs. 8393Rs. 11990(30% OFF)',\n",
       " 'Rs. 12591Rs. 13990(10% OFF)',\n",
       " 'Rs. 13999',\n",
       " 'Rs. 8499Rs. 9999(15% OFF)',\n",
       " 'Rs. 12999',\n",
       " 'Rs. 7693Rs. 10990(30% OFF)',\n",
       " 'Rs. 7999',\n",
       " 'Rs. 12990',\n",
       " 'Rs. 7499',\n",
       " 'Rs. 7499',\n",
       " 'Rs. 9899Rs. 10999(10% OFF)',\n",
       " 'Rs. 7199Rs. 11999(40% OFF)',\n",
       " 'Rs. 12591Rs. 13990(10% OFF)',\n",
       " 'Rs. 13990']"
      ]
     },
     "execution_count": 133,
     "metadata": {},
     "output_type": "execute_result"
    }
   ],
   "source": [
    "prc = []\n",
    "\n",
    "for i in price_tag:\n",
    "    prc.append(i.text)\n",
    "prc"
   ]
  },
  {
   "cell_type": "code",
   "execution_count": null,
   "id": "aa7b058c",
   "metadata": {},
   "outputs": [],
   "source": []
  },
  {
   "cell_type": "code",
   "execution_count": 158,
   "id": "70077f82",
   "metadata": {},
   "outputs": [
    {
     "data": {
      "text/plain": [
       "<selenium.webdriver.remote.webelement.WebElement (session=\"f0afe69e5bd62fc1a8e2d5340117483d\", element=\"cfcd4c0b-4e2a-443d-be64-0dfe47d7a2e6\")>"
      ]
     },
     "execution_count": 158,
     "metadata": {},
     "output_type": "execute_result"
    }
   ],
   "source": [
    "next_btn = driver.find_element(By.XPATH,\"/html/body/div[2]/div/div[1]/main/div[3]/div[2]/div/div[2]/section/div[2]/ul/li[12]/a\")\n",
    "next_btn"
   ]
  },
  {
   "cell_type": "code",
   "execution_count": 159,
   "id": "c1e0208a",
   "metadata": {},
   "outputs": [],
   "source": [
    "next_btn.click()"
   ]
  },
  {
   "cell_type": "code",
   "execution_count": 137,
   "id": "ba356ac1",
   "metadata": {},
   "outputs": [
    {
     "data": {
      "text/plain": [
       "['Geox',\n",
       " 'TOMS',\n",
       " 'TRIBAN By Decathlon',\n",
       " 'UNDER ARMOUR',\n",
       " 'Geox',\n",
       " 'Puma',\n",
       " 'TOMS',\n",
       " 'Columbia',\n",
       " 'Puma',\n",
       " 'Hush Puppies',\n",
       " 'Columbia',\n",
       " 'ASICS',\n",
       " 'Saint G',\n",
       " 'ADIDAS',\n",
       " 'Cole Haan',\n",
       " 'Columbia',\n",
       " 'Geox',\n",
       " 'Louis Philippe',\n",
       " 'Bugatti',\n",
       " 'J.FONTINI',\n",
       " 'ADIDAS Originals',\n",
       " 'Clarks',\n",
       " 'Saint G',\n",
       " 'J.FONTINI',\n",
       " 'DAVINCHI',\n",
       " 'Skechers',\n",
       " 'Geox',\n",
       " 'Geox',\n",
       " 'Geox',\n",
       " 'fitflop',\n",
       " 'Geox',\n",
       " 'Columbia',\n",
       " 'fitflop',\n",
       " 'Puma',\n",
       " 'ASICS',\n",
       " 'ADIDAS',\n",
       " 'ADIDAS',\n",
       " 'Geox',\n",
       " 'J.FONTINI',\n",
       " 'J.FONTINI',\n",
       " 'Xtep',\n",
       " 'Geox',\n",
       " 'J.FONTINI',\n",
       " 'Saint G',\n",
       " 'PUMA Hoops',\n",
       " 'Saint G',\n",
       " 'ECCO',\n",
       " 'ECCO',\n",
       " 'KIPRUN By Decathlon',\n",
       " 'EVADICT By Decathlon']"
      ]
     },
     "execution_count": 137,
     "metadata": {},
     "output_type": "execute_result"
    }
   ],
   "source": [
    "brand_tags = driver.find_elements(By.XPATH,'//h3[@class=\"product-brand\"]')\n",
    "brand_tags\n",
    "\n",
    "myntra_sneakers = []\n",
    "\n",
    "for i in brand_tags:\n",
    "    myntra_sneakers.append(i.text)\n",
    "myntra_sneakers"
   ]
  },
  {
   "cell_type": "code",
   "execution_count": 138,
   "id": "7a7b6a6d",
   "metadata": {},
   "outputs": [
    {
     "data": {
      "text/plain": [
       "50"
      ]
     },
     "execution_count": 138,
     "metadata": {},
     "output_type": "execute_result"
    }
   ],
   "source": [
    "company_tags = driver.find_elements(By.XPATH,'//h4[@class=\"product-product\"]')\n",
    "len(company_tags)"
   ]
  },
  {
   "cell_type": "code",
   "execution_count": 139,
   "id": "73169f1a",
   "metadata": {},
   "outputs": [
    {
     "data": {
      "text/plain": [
       "['Men Leather Sneakers',\n",
       " 'Men Alpargata Slip-On Sneakers',\n",
       " 'Unisex Training or Gym Shoes',\n",
       " 'W omen TriBase Reign 4 Running',\n",
       " 'Men Leather Sneakers',\n",
       " 'Men Velocity Nitro Running',\n",
       " 'Men Sneakers',\n",
       " 'PEAKFREAK OUTDRY Trekking Shoe',\n",
       " 'Women Magnify Nitro Running',\n",
       " 'Men Solid Formal Slip-Ons',\n",
       " 'Women Trekking Shoes',\n",
       " 'Men GEL-GLYDE 3 MX Running',\n",
       " 'Men Solid Leather Formal Boots',\n",
       " 'Women Supernova Running Shoes',\n",
       " 'Men GENERATION ZEROGRAND STITCHLITE',\n",
       " 'Cascade Peak II Jacket',\n",
       " 'Men Formal Brogues',\n",
       " 'Men Textured Leather Loafers',\n",
       " 'Men Black Formal Derby Shoes',\n",
       " 'Men Textured Leather Loafers',\n",
       " 'Women Ozelia Sneakers',\n",
       " 'Men Leather Derbys',\n",
       " 'Men Leather Chelsea Boots',\n",
       " 'Men Textured Leather Formal Loafers',\n",
       " 'Men Textured Formal Leather Loafers',\n",
       " 'Men Textured Sneakers',\n",
       " 'Leather Block Pumps',\n",
       " 'Women Leather Sneakers',\n",
       " 'Women Ballerinas Flats',\n",
       " 'Leather Flatform Sandals',\n",
       " 'Women Leather Slip-On Sneakers',\n",
       " 'Women REDMOND V2 TrekkingShoe',\n",
       " 'Flatform Sandals with Buckles',\n",
       " 'Women Running Sports Shoes',\n",
       " 'Women Running Shoes',\n",
       " 'Women KarlieKlossX9000 Running',\n",
       " 'Women X9000 H.RDY Running',\n",
       " 'Men Solid Slip-On Sneakers',\n",
       " 'Men Textured Leather Loafers',\n",
       " 'Men Solid Loafers',\n",
       " 'Men Running Shoes',\n",
       " 'Men Leather Formal Slip-Ons',\n",
       " 'Men Black Leather Loafers',\n",
       " 'Women Leather Heeled Mules',\n",
       " 'Fives Blaze Court Basketball',\n",
       " 'Leather Block Sandals',\n",
       " 'Leather Stiletto Pumps',\n",
       " 'Leather Block Pumps',\n",
       " 'Men Running Shoes',\n",
       " 'Men Running Shoes']"
      ]
     },
     "execution_count": 139,
     "metadata": {},
     "output_type": "execute_result"
    }
   ],
   "source": [
    "short_description = []\n",
    "\n",
    "for i in company_tags:\n",
    "    short_description.append(i.text)\n",
    "short_description"
   ]
  },
  {
   "cell_type": "code",
   "execution_count": 140,
   "id": "83993429",
   "metadata": {},
   "outputs": [
    {
     "data": {
      "text/plain": [
       "50"
      ]
     },
     "execution_count": 140,
     "metadata": {},
     "output_type": "execute_result"
    }
   ],
   "source": [
    "price_tag = driver.find_elements(By.XPATH,'//div[@class=\"product-price\"]')\n",
    "len(price_tag)"
   ]
  },
  {
   "cell_type": "code",
   "execution_count": 141,
   "id": "50018e24",
   "metadata": {},
   "outputs": [
    {
     "data": {
      "text/plain": [
       "['Rs. 13990',\n",
       " 'Rs. 7199Rs. 7999(10% OFF)',\n",
       " 'Rs. 8029Rs. 10999(27% OFF)',\n",
       " 'Rs. 11999',\n",
       " 'Rs. 12990',\n",
       " 'Rs. 8999Rs. 11999(25% OFF)',\n",
       " 'Rs. 7199Rs. 7999(10% OFF)',\n",
       " 'Rs. 9999',\n",
       " 'Rs. 9099Rs. 12999(30% OFF)',\n",
       " 'Rs. 9999',\n",
       " 'Rs. 8999',\n",
       " 'Rs. 7199Rs. 8999(20% OFF)',\n",
       " 'Rs. 9900Rs. 12500(Rs. 2600 OFF)',\n",
       " 'Rs. 7999Rs. 9999(20% OFF)',\n",
       " 'Rs. 11999',\n",
       " 'Rs. 7999',\n",
       " 'Rs. 12990',\n",
       " 'Rs. 9999',\n",
       " 'Rs. 11999',\n",
       " 'Rs. 7990',\n",
       " 'Rs. 8799Rs. 10999(20% OFF)',\n",
       " 'Rs. 7499',\n",
       " 'Rs. 10710Rs. 11900(10% OFF)',\n",
       " 'Rs. 8990',\n",
       " 'Rs. 8990',\n",
       " 'Rs. 7999',\n",
       " 'Rs. 8393Rs. 11990(30% OFF)',\n",
       " 'Rs. 12990',\n",
       " 'Rs. 9891Rs. 10990(10% OFF)',\n",
       " 'Rs. 7999',\n",
       " 'Rs. 7693Rs. 10990(30% OFF)',\n",
       " 'Rs. 7999',\n",
       " 'Rs. 7499',\n",
       " 'Rs. 10499Rs. 14999(30% OFF)',\n",
       " 'Rs. 7999',\n",
       " 'Rs. 8399Rs. 13999(40% OFF)',\n",
       " 'Rs. 8399Rs. 13999(40% OFF)',\n",
       " 'Rs. 12591Rs. 13990(10% OFF)',\n",
       " 'Rs. 8490',\n",
       " 'Rs. 8990',\n",
       " 'Rs. 7699',\n",
       " 'Rs. 8991Rs. 9990(10% OFF)',\n",
       " 'Rs. 8490',\n",
       " 'Rs. 8455Rs. 8900(5% OFF)',\n",
       " 'Rs. 7699Rs. 10999(30% OFF)',\n",
       " 'Rs. 9810Rs. 10900(10% OFF)',\n",
       " 'Rs. 12999',\n",
       " 'Rs. 9999',\n",
       " 'Rs. 7372Rs. 10099(27% OFF)',\n",
       " 'Rs. 9239Rs. 10499(12% OFF)']"
      ]
     },
     "execution_count": 141,
     "metadata": {},
     "output_type": "execute_result"
    }
   ],
   "source": [
    "myntra_price = []\n",
    "\n",
    "for i in price_tag:\n",
    "    myntra_price.append(i.text)\n",
    "myntra_price"
   ]
  },
  {
   "cell_type": "code",
   "execution_count": 144,
   "id": "b65233e4",
   "metadata": {},
   "outputs": [
    {
     "data": {
      "text/html": [
       "<div>\n",
       "<style scoped>\n",
       "    .dataframe tbody tr th:only-of-type {\n",
       "        vertical-align: middle;\n",
       "    }\n",
       "\n",
       "    .dataframe tbody tr th {\n",
       "        vertical-align: top;\n",
       "    }\n",
       "\n",
       "    .dataframe thead th {\n",
       "        text-align: right;\n",
       "    }\n",
       "</style>\n",
       "<table border=\"1\" class=\"dataframe\">\n",
       "  <thead>\n",
       "    <tr style=\"text-align: right;\">\n",
       "      <th></th>\n",
       "      <th>Brand</th>\n",
       "      <th>Decription</th>\n",
       "      <th>Price</th>\n",
       "    </tr>\n",
       "  </thead>\n",
       "  <tbody>\n",
       "    <tr>\n",
       "      <th>0</th>\n",
       "      <td>Nike</td>\n",
       "      <td>Men React Infinity 3 Running</td>\n",
       "      <td>Rs. 11196Rs. 13995(20% OFF)</td>\n",
       "    </tr>\n",
       "    <tr>\n",
       "      <th>1</th>\n",
       "      <td>Nike</td>\n",
       "      <td>Women AZ PEGA38 Running Shoes</td>\n",
       "      <td>Rs. 8495Rs. 9995(15% OFF)</td>\n",
       "    </tr>\n",
       "    <tr>\n",
       "      <th>2</th>\n",
       "      <td>Nike</td>\n",
       "      <td>Men SRG 3 FK Training Shoes</td>\n",
       "      <td>Rs. 8895</td>\n",
       "    </tr>\n",
       "    <tr>\n",
       "      <th>3</th>\n",
       "      <td>ADIDAS</td>\n",
       "      <td>Men Defiant Generation Tennis</td>\n",
       "      <td>Rs. 8999Rs. 9999(10% OFF)</td>\n",
       "    </tr>\n",
       "    <tr>\n",
       "      <th>4</th>\n",
       "      <td>Nike</td>\n",
       "      <td>Women React Escape Running</td>\n",
       "      <td>Rs. 9196Rs. 11495(20% OFF)</td>\n",
       "    </tr>\n",
       "    <tr>\n",
       "      <th>5</th>\n",
       "      <td>Skechers</td>\n",
       "      <td>Men Sky Vault Walking Shoes</td>\n",
       "      <td>Rs. 7199Rs. 8999(20% OFF)</td>\n",
       "    </tr>\n",
       "    <tr>\n",
       "      <th>6</th>\n",
       "      <td>Nike</td>\n",
       "      <td>Women React MR 3 Running Shoes</td>\n",
       "      <td>Rs. 8396Rs. 10495(20% OFF)</td>\n",
       "    </tr>\n",
       "    <tr>\n",
       "      <th>7</th>\n",
       "      <td>UNDER ARMOUR</td>\n",
       "      <td>Men HOVR Sonic SE Running Shoe</td>\n",
       "      <td>Rs. 9999</td>\n",
       "    </tr>\n",
       "    <tr>\n",
       "      <th>8</th>\n",
       "      <td>Skechers</td>\n",
       "      <td>Men ENIGMA Running Shoes</td>\n",
       "      <td>Rs. 7124Rs. 9499(25% OFF)</td>\n",
       "    </tr>\n",
       "    <tr>\n",
       "      <th>9</th>\n",
       "      <td>New Balance</td>\n",
       "      <td>Men Woven Design Suede Sneakers</td>\n",
       "      <td>Rs. 7799Rs. 12999(40% OFF)</td>\n",
       "    </tr>\n",
       "    <tr>\n",
       "      <th>10</th>\n",
       "      <td>PUMA Motorsport</td>\n",
       "      <td>Unisex Sneakers</td>\n",
       "      <td>Rs. 7499Rs. 9999(25% OFF)</td>\n",
       "    </tr>\n",
       "    <tr>\n",
       "      <th>11</th>\n",
       "      <td>Hush Puppies</td>\n",
       "      <td>Men Formal Derbys</td>\n",
       "      <td>Rs. 8499Rs. 9999(15% OFF)</td>\n",
       "    </tr>\n",
       "    <tr>\n",
       "      <th>12</th>\n",
       "      <td>Hush Puppies</td>\n",
       "      <td>Men Solid Leather Formal Slip-Ons</td>\n",
       "      <td>Rs. 7649Rs. 8999(15% OFF)</td>\n",
       "    </tr>\n",
       "    <tr>\n",
       "      <th>13</th>\n",
       "      <td>ADIDAS</td>\n",
       "      <td>Women SL20.3 Running Shoes</td>\n",
       "      <td>Rs. 9599Rs. 11999(20% OFF)</td>\n",
       "    </tr>\n",
       "    <tr>\n",
       "      <th>14</th>\n",
       "      <td>Puma</td>\n",
       "      <td>Eternity Nitro Running Shoes</td>\n",
       "      <td>Rs. 9099Rs. 12999(30% OFF)</td>\n",
       "    </tr>\n",
       "    <tr>\n",
       "      <th>15</th>\n",
       "      <td>ADIDAS</td>\n",
       "      <td>Men Solar Glide 4 ST Running</td>\n",
       "      <td>Rs. 11999Rs. 14999(20% OFF)</td>\n",
       "    </tr>\n",
       "    <tr>\n",
       "      <th>16</th>\n",
       "      <td>ADIDAS</td>\n",
       "      <td>Men Adizero Boston 11 Running</td>\n",
       "      <td>Rs. 11199Rs. 13999(20% OFF)</td>\n",
       "    </tr>\n",
       "    <tr>\n",
       "      <th>17</th>\n",
       "      <td>Geox</td>\n",
       "      <td>Men Leather Sneakers</td>\n",
       "      <td>Rs. 9891Rs. 10990(10% OFF)</td>\n",
       "    </tr>\n",
       "    <tr>\n",
       "      <th>18</th>\n",
       "      <td>Skechers</td>\n",
       "      <td>Men MAX CUSHIONING ELITE-LUCID</td>\n",
       "      <td>Rs. 7599Rs. 9499(20% OFF)</td>\n",
       "    </tr>\n",
       "    <tr>\n",
       "      <th>19</th>\n",
       "      <td>J.FONTINI</td>\n",
       "      <td>Men Leather Fashion</td>\n",
       "      <td>Rs. 8490</td>\n",
       "    </tr>\n",
       "    <tr>\n",
       "      <th>20</th>\n",
       "      <td>Puma</td>\n",
       "      <td>Men M Nitro Running Shoess</td>\n",
       "      <td>Rs. 9099Rs. 12999(30% OFF)</td>\n",
       "    </tr>\n",
       "    <tr>\n",
       "      <th>21</th>\n",
       "      <td>Saint G</td>\n",
       "      <td>Leather Block</td>\n",
       "      <td>Rs. 9975Rs. 10500(5% OFF)</td>\n",
       "    </tr>\n",
       "    <tr>\n",
       "      <th>22</th>\n",
       "      <td>Saint G</td>\n",
       "      <td>Leather High-Top Heeled Boots</td>\n",
       "      <td>Rs. 11875Rs. 12500(5% OFF)</td>\n",
       "    </tr>\n",
       "    <tr>\n",
       "      <th>23</th>\n",
       "      <td>Puma</td>\n",
       "      <td>Men Velocity Nitro 2 Running</td>\n",
       "      <td>Rs. 8249Rs. 10999(25% OFF)</td>\n",
       "    </tr>\n",
       "    <tr>\n",
       "      <th>24</th>\n",
       "      <td>ADIDAS</td>\n",
       "      <td>Men Supernova 2 Running Shoes</td>\n",
       "      <td>Rs. 8499Rs. 9999(15% OFF)</td>\n",
       "    </tr>\n",
       "    <tr>\n",
       "      <th>25</th>\n",
       "      <td>ADIDAS Originals</td>\n",
       "      <td>Men Solid Oznova Sneakers</td>\n",
       "      <td>Rs. 10799Rs. 11999(10% OFF)</td>\n",
       "    </tr>\n",
       "    <tr>\n",
       "      <th>26</th>\n",
       "      <td>Puma</td>\n",
       "      <td>Women Electrify Nitro Running</td>\n",
       "      <td>Rs. 7499Rs. 9999(25% OFF)</td>\n",
       "    </tr>\n",
       "    <tr>\n",
       "      <th>27</th>\n",
       "      <td>Puma</td>\n",
       "      <td>Men RS-Z Molded Men Sneakers</td>\n",
       "      <td>Rs. 7499Rs. 9999(25% OFF)</td>\n",
       "    </tr>\n",
       "    <tr>\n",
       "      <th>28</th>\n",
       "      <td>Puma</td>\n",
       "      <td>Men Deviate Nitro Shoes</td>\n",
       "      <td>Rs. 9749Rs. 14999(35% OFF)</td>\n",
       "    </tr>\n",
       "    <tr>\n",
       "      <th>29</th>\n",
       "      <td>ADIDAS</td>\n",
       "      <td>Women SN1997 Running Shoes</td>\n",
       "      <td>Rs. 10399Rs. 12999(20% OFF)</td>\n",
       "    </tr>\n",
       "    <tr>\n",
       "      <th>30</th>\n",
       "      <td>New Balance</td>\n",
       "      <td>Men Woven Design Suede Sneakers</td>\n",
       "      <td>Rs. 7799Rs. 12999(40% OFF)</td>\n",
       "    </tr>\n",
       "    <tr>\n",
       "      <th>31</th>\n",
       "      <td>UNDER ARMOUR</td>\n",
       "      <td>Women Hovr Sonic SE Run Shoes</td>\n",
       "      <td>Rs. 9999</td>\n",
       "    </tr>\n",
       "    <tr>\n",
       "      <th>32</th>\n",
       "      <td>Puma</td>\n",
       "      <td>Women Eternity NITRO Shoes</td>\n",
       "      <td>Rs. 9099Rs. 12999(30% OFF)</td>\n",
       "    </tr>\n",
       "    <tr>\n",
       "      <th>33</th>\n",
       "      <td>Clarks</td>\n",
       "      <td>Men Leather Slip-Ons</td>\n",
       "      <td>Rs. 7899Rs. 9999(21% OFF)</td>\n",
       "    </tr>\n",
       "    <tr>\n",
       "      <th>34</th>\n",
       "      <td>UNDER ARMOUR</td>\n",
       "      <td>Women Charged Breeze Running</td>\n",
       "      <td>Rs. 8999</td>\n",
       "    </tr>\n",
       "    <tr>\n",
       "      <th>35</th>\n",
       "      <td>Geox</td>\n",
       "      <td>Men Lightweight Sneakers</td>\n",
       "      <td>Rs. 11990</td>\n",
       "    </tr>\n",
       "    <tr>\n",
       "      <th>36</th>\n",
       "      <td>Geox</td>\n",
       "      <td>Textured Leather Block Pumps</td>\n",
       "      <td>Rs. 8393Rs. 11990(30% OFF)</td>\n",
       "    </tr>\n",
       "    <tr>\n",
       "      <th>37</th>\n",
       "      <td>Geox</td>\n",
       "      <td>Men Perforations Sneakers</td>\n",
       "      <td>Rs. 12591Rs. 13990(10% OFF)</td>\n",
       "    </tr>\n",
       "    <tr>\n",
       "      <th>38</th>\n",
       "      <td>ASICS</td>\n",
       "      <td>Men Sports Shoes</td>\n",
       "      <td>Rs. 13999</td>\n",
       "    </tr>\n",
       "    <tr>\n",
       "      <th>39</th>\n",
       "      <td>Hush Puppies</td>\n",
       "      <td>Men Solid Leather Formal Slip-Ons</td>\n",
       "      <td>Rs. 8499Rs. 9999(15% OFF)</td>\n",
       "    </tr>\n",
       "    <tr>\n",
       "      <th>40</th>\n",
       "      <td>Columbia</td>\n",
       "      <td>Men FACET OUTDRY Trekking Shoe</td>\n",
       "      <td>Rs. 12999</td>\n",
       "    </tr>\n",
       "    <tr>\n",
       "      <th>41</th>\n",
       "      <td>Geox</td>\n",
       "      <td>Leather Block Sandals</td>\n",
       "      <td>Rs. 7693Rs. 10990(30% OFF)</td>\n",
       "    </tr>\n",
       "    <tr>\n",
       "      <th>42</th>\n",
       "      <td>fitflop</td>\n",
       "      <td>Embellished Leather Flatform Sandals</td>\n",
       "      <td>Rs. 7999</td>\n",
       "    </tr>\n",
       "    <tr>\n",
       "      <th>43</th>\n",
       "      <td>Geox</td>\n",
       "      <td>Men Leather Sneakers</td>\n",
       "      <td>Rs. 12990</td>\n",
       "    </tr>\n",
       "    <tr>\n",
       "      <th>44</th>\n",
       "      <td>fitflop</td>\n",
       "      <td>Embellished Leather Wedge Sandals</td>\n",
       "      <td>Rs. 7499</td>\n",
       "    </tr>\n",
       "    <tr>\n",
       "      <th>45</th>\n",
       "      <td>fitflop</td>\n",
       "      <td>Embellished PU Comfort Pumps</td>\n",
       "      <td>Rs. 7499</td>\n",
       "    </tr>\n",
       "    <tr>\n",
       "      <th>46</th>\n",
       "      <td>ADIDAS Originals</td>\n",
       "      <td>Men Ozweego Sneakers</td>\n",
       "      <td>Rs. 9899Rs. 10999(10% OFF)</td>\n",
       "    </tr>\n",
       "    <tr>\n",
       "      <th>47</th>\n",
       "      <td>Bugatti</td>\n",
       "      <td>Men Textured Leather High-Top Flat Boots</td>\n",
       "      <td>Rs. 7199Rs. 11999(40% OFF)</td>\n",
       "    </tr>\n",
       "    <tr>\n",
       "      <th>48</th>\n",
       "      <td>Geox</td>\n",
       "      <td>Men Leather Sneakers</td>\n",
       "      <td>Rs. 12591Rs. 13990(10% OFF)</td>\n",
       "    </tr>\n",
       "    <tr>\n",
       "      <th>49</th>\n",
       "      <td>Geox</td>\n",
       "      <td>Men Leather Sneakers</td>\n",
       "      <td>Rs. 13990</td>\n",
       "    </tr>\n",
       "  </tbody>\n",
       "</table>\n",
       "</div>"
      ],
      "text/plain": [
       "               Brand                                Decription  \\\n",
       "0               Nike              Men React Infinity 3 Running   \n",
       "1               Nike             Women AZ PEGA38 Running Shoes   \n",
       "2               Nike               Men SRG 3 FK Training Shoes   \n",
       "3             ADIDAS             Men Defiant Generation Tennis   \n",
       "4               Nike                Women React Escape Running   \n",
       "5           Skechers               Men Sky Vault Walking Shoes   \n",
       "6               Nike            Women React MR 3 Running Shoes   \n",
       "7       UNDER ARMOUR            Men HOVR Sonic SE Running Shoe   \n",
       "8           Skechers                  Men ENIGMA Running Shoes   \n",
       "9        New Balance           Men Woven Design Suede Sneakers   \n",
       "10   PUMA Motorsport                           Unisex Sneakers   \n",
       "11      Hush Puppies                         Men Formal Derbys   \n",
       "12      Hush Puppies         Men Solid Leather Formal Slip-Ons   \n",
       "13            ADIDAS                Women SL20.3 Running Shoes   \n",
       "14              Puma              Eternity Nitro Running Shoes   \n",
       "15            ADIDAS              Men Solar Glide 4 ST Running   \n",
       "16            ADIDAS             Men Adizero Boston 11 Running   \n",
       "17              Geox                      Men Leather Sneakers   \n",
       "18          Skechers            Men MAX CUSHIONING ELITE-LUCID   \n",
       "19         J.FONTINI                       Men Leather Fashion   \n",
       "20              Puma                Men M Nitro Running Shoess   \n",
       "21           Saint G                             Leather Block   \n",
       "22           Saint G             Leather High-Top Heeled Boots   \n",
       "23              Puma              Men Velocity Nitro 2 Running   \n",
       "24            ADIDAS             Men Supernova 2 Running Shoes   \n",
       "25  ADIDAS Originals                 Men Solid Oznova Sneakers   \n",
       "26              Puma             Women Electrify Nitro Running   \n",
       "27              Puma              Men RS-Z Molded Men Sneakers   \n",
       "28              Puma                   Men Deviate Nitro Shoes   \n",
       "29            ADIDAS                Women SN1997 Running Shoes   \n",
       "30       New Balance           Men Woven Design Suede Sneakers   \n",
       "31      UNDER ARMOUR             Women Hovr Sonic SE Run Shoes   \n",
       "32              Puma                Women Eternity NITRO Shoes   \n",
       "33            Clarks                      Men Leather Slip-Ons   \n",
       "34      UNDER ARMOUR              Women Charged Breeze Running   \n",
       "35              Geox                  Men Lightweight Sneakers   \n",
       "36              Geox              Textured Leather Block Pumps   \n",
       "37              Geox                 Men Perforations Sneakers   \n",
       "38             ASICS                          Men Sports Shoes   \n",
       "39      Hush Puppies         Men Solid Leather Formal Slip-Ons   \n",
       "40          Columbia            Men FACET OUTDRY Trekking Shoe   \n",
       "41              Geox                     Leather Block Sandals   \n",
       "42           fitflop      Embellished Leather Flatform Sandals   \n",
       "43              Geox                      Men Leather Sneakers   \n",
       "44           fitflop         Embellished Leather Wedge Sandals   \n",
       "45           fitflop              Embellished PU Comfort Pumps   \n",
       "46  ADIDAS Originals                      Men Ozweego Sneakers   \n",
       "47           Bugatti  Men Textured Leather High-Top Flat Boots   \n",
       "48              Geox                      Men Leather Sneakers   \n",
       "49              Geox                      Men Leather Sneakers   \n",
       "\n",
       "                          Price  \n",
       "0   Rs. 11196Rs. 13995(20% OFF)  \n",
       "1     Rs. 8495Rs. 9995(15% OFF)  \n",
       "2                      Rs. 8895  \n",
       "3     Rs. 8999Rs. 9999(10% OFF)  \n",
       "4    Rs. 9196Rs. 11495(20% OFF)  \n",
       "5     Rs. 7199Rs. 8999(20% OFF)  \n",
       "6    Rs. 8396Rs. 10495(20% OFF)  \n",
       "7                      Rs. 9999  \n",
       "8     Rs. 7124Rs. 9499(25% OFF)  \n",
       "9    Rs. 7799Rs. 12999(40% OFF)  \n",
       "10    Rs. 7499Rs. 9999(25% OFF)  \n",
       "11    Rs. 8499Rs. 9999(15% OFF)  \n",
       "12    Rs. 7649Rs. 8999(15% OFF)  \n",
       "13   Rs. 9599Rs. 11999(20% OFF)  \n",
       "14   Rs. 9099Rs. 12999(30% OFF)  \n",
       "15  Rs. 11999Rs. 14999(20% OFF)  \n",
       "16  Rs. 11199Rs. 13999(20% OFF)  \n",
       "17   Rs. 9891Rs. 10990(10% OFF)  \n",
       "18    Rs. 7599Rs. 9499(20% OFF)  \n",
       "19                     Rs. 8490  \n",
       "20   Rs. 9099Rs. 12999(30% OFF)  \n",
       "21    Rs. 9975Rs. 10500(5% OFF)  \n",
       "22   Rs. 11875Rs. 12500(5% OFF)  \n",
       "23   Rs. 8249Rs. 10999(25% OFF)  \n",
       "24    Rs. 8499Rs. 9999(15% OFF)  \n",
       "25  Rs. 10799Rs. 11999(10% OFF)  \n",
       "26    Rs. 7499Rs. 9999(25% OFF)  \n",
       "27    Rs. 7499Rs. 9999(25% OFF)  \n",
       "28   Rs. 9749Rs. 14999(35% OFF)  \n",
       "29  Rs. 10399Rs. 12999(20% OFF)  \n",
       "30   Rs. 7799Rs. 12999(40% OFF)  \n",
       "31                     Rs. 9999  \n",
       "32   Rs. 9099Rs. 12999(30% OFF)  \n",
       "33    Rs. 7899Rs. 9999(21% OFF)  \n",
       "34                     Rs. 8999  \n",
       "35                    Rs. 11990  \n",
       "36   Rs. 8393Rs. 11990(30% OFF)  \n",
       "37  Rs. 12591Rs. 13990(10% OFF)  \n",
       "38                    Rs. 13999  \n",
       "39    Rs. 8499Rs. 9999(15% OFF)  \n",
       "40                    Rs. 12999  \n",
       "41   Rs. 7693Rs. 10990(30% OFF)  \n",
       "42                     Rs. 7999  \n",
       "43                    Rs. 12990  \n",
       "44                     Rs. 7499  \n",
       "45                     Rs. 7499  \n",
       "46   Rs. 9899Rs. 10999(10% OFF)  \n",
       "47   Rs. 7199Rs. 11999(40% OFF)  \n",
       "48  Rs. 12591Rs. 13990(10% OFF)  \n",
       "49                    Rs. 13990  "
      ]
     },
     "execution_count": 144,
     "metadata": {},
     "output_type": "execute_result"
    }
   ],
   "source": [
    "sneakers = pd.DataFrame()\n",
    "sneakers [\"Brand\"] = brnd_titles \n",
    "sneakers [\"Decription\"] = desc\n",
    "sneakers [\"Price\"] = prc\n",
    "sneakers\n",
    "\n"
   ]
  },
  {
   "cell_type": "code",
   "execution_count": 145,
   "id": "9e2d5c19",
   "metadata": {},
   "outputs": [
    {
     "data": {
      "text/html": [
       "<div>\n",
       "<style scoped>\n",
       "    .dataframe tbody tr th:only-of-type {\n",
       "        vertical-align: middle;\n",
       "    }\n",
       "\n",
       "    .dataframe tbody tr th {\n",
       "        vertical-align: top;\n",
       "    }\n",
       "\n",
       "    .dataframe thead th {\n",
       "        text-align: right;\n",
       "    }\n",
       "</style>\n",
       "<table border=\"1\" class=\"dataframe\">\n",
       "  <thead>\n",
       "    <tr style=\"text-align: right;\">\n",
       "      <th></th>\n",
       "      <th>Brand</th>\n",
       "      <th>Decription</th>\n",
       "      <th>Price</th>\n",
       "    </tr>\n",
       "  </thead>\n",
       "  <tbody>\n",
       "    <tr>\n",
       "      <th>0</th>\n",
       "      <td>Geox</td>\n",
       "      <td>Men Leather Sneakers</td>\n",
       "      <td>Rs. 13990</td>\n",
       "    </tr>\n",
       "    <tr>\n",
       "      <th>1</th>\n",
       "      <td>TOMS</td>\n",
       "      <td>Men Alpargata Slip-On Sneakers</td>\n",
       "      <td>Rs. 7199Rs. 7999(10% OFF)</td>\n",
       "    </tr>\n",
       "    <tr>\n",
       "      <th>2</th>\n",
       "      <td>TRIBAN By Decathlon</td>\n",
       "      <td>Unisex Training or Gym Shoes</td>\n",
       "      <td>Rs. 8029Rs. 10999(27% OFF)</td>\n",
       "    </tr>\n",
       "    <tr>\n",
       "      <th>3</th>\n",
       "      <td>UNDER ARMOUR</td>\n",
       "      <td>W omen TriBase Reign 4 Running</td>\n",
       "      <td>Rs. 11999</td>\n",
       "    </tr>\n",
       "    <tr>\n",
       "      <th>4</th>\n",
       "      <td>Geox</td>\n",
       "      <td>Men Leather Sneakers</td>\n",
       "      <td>Rs. 12990</td>\n",
       "    </tr>\n",
       "    <tr>\n",
       "      <th>5</th>\n",
       "      <td>Puma</td>\n",
       "      <td>Men Velocity Nitro Running</td>\n",
       "      <td>Rs. 8999Rs. 11999(25% OFF)</td>\n",
       "    </tr>\n",
       "    <tr>\n",
       "      <th>6</th>\n",
       "      <td>TOMS</td>\n",
       "      <td>Men Sneakers</td>\n",
       "      <td>Rs. 7199Rs. 7999(10% OFF)</td>\n",
       "    </tr>\n",
       "    <tr>\n",
       "      <th>7</th>\n",
       "      <td>Columbia</td>\n",
       "      <td>PEAKFREAK OUTDRY Trekking Shoe</td>\n",
       "      <td>Rs. 9999</td>\n",
       "    </tr>\n",
       "    <tr>\n",
       "      <th>8</th>\n",
       "      <td>Puma</td>\n",
       "      <td>Women Magnify Nitro Running</td>\n",
       "      <td>Rs. 9099Rs. 12999(30% OFF)</td>\n",
       "    </tr>\n",
       "    <tr>\n",
       "      <th>9</th>\n",
       "      <td>Hush Puppies</td>\n",
       "      <td>Men Solid Formal Slip-Ons</td>\n",
       "      <td>Rs. 9999</td>\n",
       "    </tr>\n",
       "    <tr>\n",
       "      <th>10</th>\n",
       "      <td>Columbia</td>\n",
       "      <td>Women Trekking Shoes</td>\n",
       "      <td>Rs. 8999</td>\n",
       "    </tr>\n",
       "    <tr>\n",
       "      <th>11</th>\n",
       "      <td>ASICS</td>\n",
       "      <td>Men GEL-GLYDE 3 MX Running</td>\n",
       "      <td>Rs. 7199Rs. 8999(20% OFF)</td>\n",
       "    </tr>\n",
       "    <tr>\n",
       "      <th>12</th>\n",
       "      <td>Saint G</td>\n",
       "      <td>Men Solid Leather Formal Boots</td>\n",
       "      <td>Rs. 9900Rs. 12500(Rs. 2600 OFF)</td>\n",
       "    </tr>\n",
       "    <tr>\n",
       "      <th>13</th>\n",
       "      <td>ADIDAS</td>\n",
       "      <td>Women Supernova Running Shoes</td>\n",
       "      <td>Rs. 7999Rs. 9999(20% OFF)</td>\n",
       "    </tr>\n",
       "    <tr>\n",
       "      <th>14</th>\n",
       "      <td>Cole Haan</td>\n",
       "      <td>Men GENERATION ZEROGRAND STITCHLITE</td>\n",
       "      <td>Rs. 11999</td>\n",
       "    </tr>\n",
       "    <tr>\n",
       "      <th>15</th>\n",
       "      <td>Columbia</td>\n",
       "      <td>Cascade Peak II Jacket</td>\n",
       "      <td>Rs. 7999</td>\n",
       "    </tr>\n",
       "    <tr>\n",
       "      <th>16</th>\n",
       "      <td>Geox</td>\n",
       "      <td>Men Formal Brogues</td>\n",
       "      <td>Rs. 12990</td>\n",
       "    </tr>\n",
       "    <tr>\n",
       "      <th>17</th>\n",
       "      <td>Louis Philippe</td>\n",
       "      <td>Men Textured Leather Loafers</td>\n",
       "      <td>Rs. 9999</td>\n",
       "    </tr>\n",
       "    <tr>\n",
       "      <th>18</th>\n",
       "      <td>Bugatti</td>\n",
       "      <td>Men Black Formal Derby Shoes</td>\n",
       "      <td>Rs. 11999</td>\n",
       "    </tr>\n",
       "    <tr>\n",
       "      <th>19</th>\n",
       "      <td>J.FONTINI</td>\n",
       "      <td>Men Textured Leather Loafers</td>\n",
       "      <td>Rs. 7990</td>\n",
       "    </tr>\n",
       "    <tr>\n",
       "      <th>20</th>\n",
       "      <td>ADIDAS Originals</td>\n",
       "      <td>Women Ozelia Sneakers</td>\n",
       "      <td>Rs. 8799Rs. 10999(20% OFF)</td>\n",
       "    </tr>\n",
       "    <tr>\n",
       "      <th>21</th>\n",
       "      <td>Clarks</td>\n",
       "      <td>Men Leather Derbys</td>\n",
       "      <td>Rs. 7499</td>\n",
       "    </tr>\n",
       "    <tr>\n",
       "      <th>22</th>\n",
       "      <td>Saint G</td>\n",
       "      <td>Men Leather Chelsea Boots</td>\n",
       "      <td>Rs. 10710Rs. 11900(10% OFF)</td>\n",
       "    </tr>\n",
       "    <tr>\n",
       "      <th>23</th>\n",
       "      <td>J.FONTINI</td>\n",
       "      <td>Men Textured Leather Formal Loafers</td>\n",
       "      <td>Rs. 8990</td>\n",
       "    </tr>\n",
       "    <tr>\n",
       "      <th>24</th>\n",
       "      <td>DAVINCHI</td>\n",
       "      <td>Men Textured Formal Leather Loafers</td>\n",
       "      <td>Rs. 8990</td>\n",
       "    </tr>\n",
       "    <tr>\n",
       "      <th>25</th>\n",
       "      <td>Skechers</td>\n",
       "      <td>Men Textured Sneakers</td>\n",
       "      <td>Rs. 7999</td>\n",
       "    </tr>\n",
       "    <tr>\n",
       "      <th>26</th>\n",
       "      <td>Geox</td>\n",
       "      <td>Leather Block Pumps</td>\n",
       "      <td>Rs. 8393Rs. 11990(30% OFF)</td>\n",
       "    </tr>\n",
       "    <tr>\n",
       "      <th>27</th>\n",
       "      <td>Geox</td>\n",
       "      <td>Women Leather Sneakers</td>\n",
       "      <td>Rs. 12990</td>\n",
       "    </tr>\n",
       "    <tr>\n",
       "      <th>28</th>\n",
       "      <td>Geox</td>\n",
       "      <td>Women Ballerinas Flats</td>\n",
       "      <td>Rs. 9891Rs. 10990(10% OFF)</td>\n",
       "    </tr>\n",
       "    <tr>\n",
       "      <th>29</th>\n",
       "      <td>fitflop</td>\n",
       "      <td>Leather Flatform Sandals</td>\n",
       "      <td>Rs. 7999</td>\n",
       "    </tr>\n",
       "    <tr>\n",
       "      <th>30</th>\n",
       "      <td>Geox</td>\n",
       "      <td>Women Leather Slip-On Sneakers</td>\n",
       "      <td>Rs. 7693Rs. 10990(30% OFF)</td>\n",
       "    </tr>\n",
       "    <tr>\n",
       "      <th>31</th>\n",
       "      <td>Columbia</td>\n",
       "      <td>Women REDMOND V2 TrekkingShoe</td>\n",
       "      <td>Rs. 7999</td>\n",
       "    </tr>\n",
       "    <tr>\n",
       "      <th>32</th>\n",
       "      <td>fitflop</td>\n",
       "      <td>Flatform Sandals with Buckles</td>\n",
       "      <td>Rs. 7499</td>\n",
       "    </tr>\n",
       "    <tr>\n",
       "      <th>33</th>\n",
       "      <td>Puma</td>\n",
       "      <td>Women Running Sports Shoes</td>\n",
       "      <td>Rs. 10499Rs. 14999(30% OFF)</td>\n",
       "    </tr>\n",
       "    <tr>\n",
       "      <th>34</th>\n",
       "      <td>ASICS</td>\n",
       "      <td>Women Running Shoes</td>\n",
       "      <td>Rs. 7999</td>\n",
       "    </tr>\n",
       "    <tr>\n",
       "      <th>35</th>\n",
       "      <td>ADIDAS</td>\n",
       "      <td>Women KarlieKlossX9000 Running</td>\n",
       "      <td>Rs. 8399Rs. 13999(40% OFF)</td>\n",
       "    </tr>\n",
       "    <tr>\n",
       "      <th>36</th>\n",
       "      <td>ADIDAS</td>\n",
       "      <td>Women X9000 H.RDY Running</td>\n",
       "      <td>Rs. 8399Rs. 13999(40% OFF)</td>\n",
       "    </tr>\n",
       "    <tr>\n",
       "      <th>37</th>\n",
       "      <td>Geox</td>\n",
       "      <td>Men Solid Slip-On Sneakers</td>\n",
       "      <td>Rs. 12591Rs. 13990(10% OFF)</td>\n",
       "    </tr>\n",
       "    <tr>\n",
       "      <th>38</th>\n",
       "      <td>J.FONTINI</td>\n",
       "      <td>Men Textured Leather Loafers</td>\n",
       "      <td>Rs. 8490</td>\n",
       "    </tr>\n",
       "    <tr>\n",
       "      <th>39</th>\n",
       "      <td>J.FONTINI</td>\n",
       "      <td>Men Solid Loafers</td>\n",
       "      <td>Rs. 8990</td>\n",
       "    </tr>\n",
       "    <tr>\n",
       "      <th>40</th>\n",
       "      <td>Xtep</td>\n",
       "      <td>Men Running Shoes</td>\n",
       "      <td>Rs. 7699</td>\n",
       "    </tr>\n",
       "    <tr>\n",
       "      <th>41</th>\n",
       "      <td>Geox</td>\n",
       "      <td>Men Leather Formal Slip-Ons</td>\n",
       "      <td>Rs. 8991Rs. 9990(10% OFF)</td>\n",
       "    </tr>\n",
       "    <tr>\n",
       "      <th>42</th>\n",
       "      <td>J.FONTINI</td>\n",
       "      <td>Men Black Leather Loafers</td>\n",
       "      <td>Rs. 8490</td>\n",
       "    </tr>\n",
       "    <tr>\n",
       "      <th>43</th>\n",
       "      <td>Saint G</td>\n",
       "      <td>Women Leather Heeled Mules</td>\n",
       "      <td>Rs. 8455Rs. 8900(5% OFF)</td>\n",
       "    </tr>\n",
       "    <tr>\n",
       "      <th>44</th>\n",
       "      <td>PUMA Hoops</td>\n",
       "      <td>Fives Blaze Court Basketball</td>\n",
       "      <td>Rs. 7699Rs. 10999(30% OFF)</td>\n",
       "    </tr>\n",
       "    <tr>\n",
       "      <th>45</th>\n",
       "      <td>Saint G</td>\n",
       "      <td>Leather Block Sandals</td>\n",
       "      <td>Rs. 9810Rs. 10900(10% OFF)</td>\n",
       "    </tr>\n",
       "    <tr>\n",
       "      <th>46</th>\n",
       "      <td>ECCO</td>\n",
       "      <td>Leather Stiletto Pumps</td>\n",
       "      <td>Rs. 12999</td>\n",
       "    </tr>\n",
       "    <tr>\n",
       "      <th>47</th>\n",
       "      <td>ECCO</td>\n",
       "      <td>Leather Block Pumps</td>\n",
       "      <td>Rs. 9999</td>\n",
       "    </tr>\n",
       "    <tr>\n",
       "      <th>48</th>\n",
       "      <td>KIPRUN By Decathlon</td>\n",
       "      <td>Men Running Shoes</td>\n",
       "      <td>Rs. 7372Rs. 10099(27% OFF)</td>\n",
       "    </tr>\n",
       "    <tr>\n",
       "      <th>49</th>\n",
       "      <td>EVADICT By Decathlon</td>\n",
       "      <td>Men Running Shoes</td>\n",
       "      <td>Rs. 9239Rs. 10499(12% OFF)</td>\n",
       "    </tr>\n",
       "  </tbody>\n",
       "</table>\n",
       "</div>"
      ],
      "text/plain": [
       "                   Brand                           Decription  \\\n",
       "0                   Geox                 Men Leather Sneakers   \n",
       "1                   TOMS       Men Alpargata Slip-On Sneakers   \n",
       "2    TRIBAN By Decathlon         Unisex Training or Gym Shoes   \n",
       "3           UNDER ARMOUR       W omen TriBase Reign 4 Running   \n",
       "4                   Geox                 Men Leather Sneakers   \n",
       "5                   Puma           Men Velocity Nitro Running   \n",
       "6                   TOMS                         Men Sneakers   \n",
       "7               Columbia       PEAKFREAK OUTDRY Trekking Shoe   \n",
       "8                   Puma          Women Magnify Nitro Running   \n",
       "9           Hush Puppies            Men Solid Formal Slip-Ons   \n",
       "10              Columbia                 Women Trekking Shoes   \n",
       "11                 ASICS           Men GEL-GLYDE 3 MX Running   \n",
       "12               Saint G       Men Solid Leather Formal Boots   \n",
       "13                ADIDAS        Women Supernova Running Shoes   \n",
       "14             Cole Haan  Men GENERATION ZEROGRAND STITCHLITE   \n",
       "15              Columbia               Cascade Peak II Jacket   \n",
       "16                  Geox                   Men Formal Brogues   \n",
       "17        Louis Philippe         Men Textured Leather Loafers   \n",
       "18               Bugatti         Men Black Formal Derby Shoes   \n",
       "19             J.FONTINI         Men Textured Leather Loafers   \n",
       "20      ADIDAS Originals                Women Ozelia Sneakers   \n",
       "21                Clarks                   Men Leather Derbys   \n",
       "22               Saint G            Men Leather Chelsea Boots   \n",
       "23             J.FONTINI  Men Textured Leather Formal Loafers   \n",
       "24              DAVINCHI  Men Textured Formal Leather Loafers   \n",
       "25              Skechers                Men Textured Sneakers   \n",
       "26                  Geox                  Leather Block Pumps   \n",
       "27                  Geox               Women Leather Sneakers   \n",
       "28                  Geox               Women Ballerinas Flats   \n",
       "29               fitflop             Leather Flatform Sandals   \n",
       "30                  Geox       Women Leather Slip-On Sneakers   \n",
       "31              Columbia        Women REDMOND V2 TrekkingShoe   \n",
       "32               fitflop        Flatform Sandals with Buckles   \n",
       "33                  Puma           Women Running Sports Shoes   \n",
       "34                 ASICS                  Women Running Shoes   \n",
       "35                ADIDAS       Women KarlieKlossX9000 Running   \n",
       "36                ADIDAS            Women X9000 H.RDY Running   \n",
       "37                  Geox           Men Solid Slip-On Sneakers   \n",
       "38             J.FONTINI         Men Textured Leather Loafers   \n",
       "39             J.FONTINI                    Men Solid Loafers   \n",
       "40                  Xtep                    Men Running Shoes   \n",
       "41                  Geox          Men Leather Formal Slip-Ons   \n",
       "42             J.FONTINI            Men Black Leather Loafers   \n",
       "43               Saint G           Women Leather Heeled Mules   \n",
       "44            PUMA Hoops         Fives Blaze Court Basketball   \n",
       "45               Saint G                Leather Block Sandals   \n",
       "46                  ECCO               Leather Stiletto Pumps   \n",
       "47                  ECCO                  Leather Block Pumps   \n",
       "48   KIPRUN By Decathlon                    Men Running Shoes   \n",
       "49  EVADICT By Decathlon                    Men Running Shoes   \n",
       "\n",
       "                              Price  \n",
       "0                         Rs. 13990  \n",
       "1         Rs. 7199Rs. 7999(10% OFF)  \n",
       "2        Rs. 8029Rs. 10999(27% OFF)  \n",
       "3                         Rs. 11999  \n",
       "4                         Rs. 12990  \n",
       "5        Rs. 8999Rs. 11999(25% OFF)  \n",
       "6         Rs. 7199Rs. 7999(10% OFF)  \n",
       "7                          Rs. 9999  \n",
       "8        Rs. 9099Rs. 12999(30% OFF)  \n",
       "9                          Rs. 9999  \n",
       "10                         Rs. 8999  \n",
       "11        Rs. 7199Rs. 8999(20% OFF)  \n",
       "12  Rs. 9900Rs. 12500(Rs. 2600 OFF)  \n",
       "13        Rs. 7999Rs. 9999(20% OFF)  \n",
       "14                        Rs. 11999  \n",
       "15                         Rs. 7999  \n",
       "16                        Rs. 12990  \n",
       "17                         Rs. 9999  \n",
       "18                        Rs. 11999  \n",
       "19                         Rs. 7990  \n",
       "20       Rs. 8799Rs. 10999(20% OFF)  \n",
       "21                         Rs. 7499  \n",
       "22      Rs. 10710Rs. 11900(10% OFF)  \n",
       "23                         Rs. 8990  \n",
       "24                         Rs. 8990  \n",
       "25                         Rs. 7999  \n",
       "26       Rs. 8393Rs. 11990(30% OFF)  \n",
       "27                        Rs. 12990  \n",
       "28       Rs. 9891Rs. 10990(10% OFF)  \n",
       "29                         Rs. 7999  \n",
       "30       Rs. 7693Rs. 10990(30% OFF)  \n",
       "31                         Rs. 7999  \n",
       "32                         Rs. 7499  \n",
       "33      Rs. 10499Rs. 14999(30% OFF)  \n",
       "34                         Rs. 7999  \n",
       "35       Rs. 8399Rs. 13999(40% OFF)  \n",
       "36       Rs. 8399Rs. 13999(40% OFF)  \n",
       "37      Rs. 12591Rs. 13990(10% OFF)  \n",
       "38                         Rs. 8490  \n",
       "39                         Rs. 8990  \n",
       "40                         Rs. 7699  \n",
       "41        Rs. 8991Rs. 9990(10% OFF)  \n",
       "42                         Rs. 8490  \n",
       "43         Rs. 8455Rs. 8900(5% OFF)  \n",
       "44       Rs. 7699Rs. 10999(30% OFF)  \n",
       "45       Rs. 9810Rs. 10900(10% OFF)  \n",
       "46                        Rs. 12999  \n",
       "47                         Rs. 9999  \n",
       "48       Rs. 7372Rs. 10099(27% OFF)  \n",
       "49       Rs. 9239Rs. 10499(12% OFF)  "
      ]
     },
     "execution_count": 145,
     "metadata": {},
     "output_type": "execute_result"
    }
   ],
   "source": [
    "df = pd.DataFrame()\n",
    "df [\"Brand\"] = myntra_sneakers \n",
    "df [\"Decription\"] = short_description\n",
    "df [\"Price\"] = myntra_price\n",
    "df\n"
   ]
  },
  {
   "cell_type": "code",
   "execution_count": 225,
   "id": "a3b72190",
   "metadata": {},
   "outputs": [],
   "source": [
    "driver = webdriver.Chrome(r'C:\\Users\\Harshit Gupta\\Downloads\\chromedriver.exe')"
   ]
  },
  {
   "cell_type": "code",
   "execution_count": 226,
   "id": "5d213657",
   "metadata": {},
   "outputs": [],
   "source": [
    "url = \"https://www.ambitionbox.com/\"\n",
    "driver.get(url)"
   ]
  },
  {
   "cell_type": "code",
   "execution_count": 227,
   "id": "c4e61f3a",
   "metadata": {},
   "outputs": [
    {
     "data": {
      "text/plain": [
       "<selenium.webdriver.remote.webelement.WebElement (session=\"793d60132f1e12b8ab5657b73aff1e0e\", element=\"45eb6eec-bdb4-4119-8af3-9e20e84da804\")>"
      ]
     },
     "execution_count": 227,
     "metadata": {},
     "output_type": "execute_result"
    }
   ],
   "source": [
    "sal_btn = driver.find_element(By.XPATH,\"/html/body/div[1]/nav/nav/a[4]\")\n",
    "sal_btn"
   ]
  },
  {
   "cell_type": "code",
   "execution_count": 228,
   "id": "31e6a846",
   "metadata": {},
   "outputs": [],
   "source": [
    "sal_btn.click()"
   ]
  },
  {
   "cell_type": "code",
   "execution_count": 239,
   "id": "1f662b0a",
   "metadata": {},
   "outputs": [
    {
     "data": {
      "text/plain": [
       "<selenium.webdriver.remote.webelement.WebElement (session=\"793d60132f1e12b8ab5657b73aff1e0e\", element=\"52fc3f4f-7e27-451b-89b0-8b61992fd147\")>"
      ]
     },
     "execution_count": 239,
     "metadata": {},
     "output_type": "execute_result"
    }
   ],
   "source": [
    "search_job = driver.find_element(By.XPATH,\"/html/body/div/div/div/div[2]/div/div/div/div[1]/span\")\n",
    "search_job"
   ]
  },
  {
   "cell_type": "code",
   "execution_count": null,
   "id": "4a7565a9",
   "metadata": {},
   "outputs": [],
   "source": []
  }
 ],
 "metadata": {
  "kernelspec": {
   "display_name": "Python 3 (ipykernel)",
   "language": "python",
   "name": "python3"
  },
  "language_info": {
   "codemirror_mode": {
    "name": "ipython",
    "version": 3
   },
   "file_extension": ".py",
   "mimetype": "text/x-python",
   "name": "python",
   "nbconvert_exporter": "python",
   "pygments_lexer": "ipython3",
   "version": "3.9.7"
  }
 },
 "nbformat": 4,
 "nbformat_minor": 5
}
